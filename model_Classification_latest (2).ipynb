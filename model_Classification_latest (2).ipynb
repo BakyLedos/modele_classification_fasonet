{
  "cells": [
    {
      "cell_type": "code",
      "source": [
        "!pip install git+https://github.com/BakyLedos/fast-bert.git"
      ],
      "metadata": {
        "colab": {
          "base_uri": "https://localhost:8080/"
        },
        "id": "f49Nuy1oEkVN",
        "outputId": "006acab8-de7c-4111-85f4-e4134e158779"
      },
      "execution_count": 1,
      "outputs": [
        {
          "output_type": "stream",
          "name": "stdout",
          "text": [
            "Collecting git+https://github.com/BakyLedos/fast-bert.git\n",
            "  Cloning https://github.com/BakyLedos/fast-bert.git to /tmp/pip-req-build-f7f1_lw7\n",
            "  Running command git clone --filter=blob:none --quiet https://github.com/BakyLedos/fast-bert.git /tmp/pip-req-build-f7f1_lw7\n",
            "  Resolved https://github.com/BakyLedos/fast-bert.git to commit 65984cc8c1a9d1e62db5ed4effd3f6ed01d4da0f\n",
            "  Preparing metadata (setup.py) ... \u001b[?25l\u001b[?25hdone\n",
            "Requirement already satisfied: matplotlib in /usr/local/lib/python3.10/dist-packages (from fast-bert==2.0.17) (3.7.1)\n",
            "Collecting pytorch-lamb (from fast-bert==2.0.17)\n",
            "  Downloading pytorch_lamb-1.0.0-py3-none-any.whl (4.4 kB)\n",
            "Collecting tensorboardX (from fast-bert==2.0.17)\n",
            "  Downloading tensorboardX-2.6.2.2-py2.py3-none-any.whl (101 kB)\n",
            "\u001b[2K     \u001b[90m━━━━━━━━━━━━━━━━━━━━━━━━━━━━━━━━━━━━━━━━\u001b[0m \u001b[32m101.7/101.7 kB\u001b[0m \u001b[31m3.6 MB/s\u001b[0m eta \u001b[36m0:00:00\u001b[0m\n",
            "\u001b[?25hRequirement already satisfied: fastprogress in /usr/local/lib/python3.10/dist-packages (from fast-bert==2.0.17) (1.0.3)\n",
            "Requirement already satisfied: scikit-learn in /usr/local/lib/python3.10/dist-packages (from fast-bert==2.0.17) (1.2.2)\n",
            "Requirement already satisfied: spacy in /usr/local/lib/python3.10/dist-packages (from fast-bert==2.0.17) (3.6.1)\n",
            "Collecting seqeval (from fast-bert==2.0.17)\n",
            "  Downloading seqeval-1.2.2.tar.gz (43 kB)\n",
            "\u001b[2K     \u001b[90m━━━━━━━━━━━━━━━━━━━━━━━━━━━━━━━━━━━━━━━━\u001b[0m \u001b[32m43.6/43.6 kB\u001b[0m \u001b[31m6.0 MB/s\u001b[0m eta \u001b[36m0:00:00\u001b[0m\n",
            "\u001b[?25h  Preparing metadata (setup.py) ... \u001b[?25l\u001b[?25hdone\n",
            "Collecting transformers==4.22.* (from fast-bert==2.0.17)\n",
            "  Downloading transformers-4.22.2-py3-none-any.whl (4.9 MB)\n",
            "\u001b[2K     \u001b[90m━━━━━━━━━━━━━━━━━━━━━━━━━━━━━━━━━━━━━━━━\u001b[0m \u001b[32m4.9/4.9 MB\u001b[0m \u001b[31m21.4 MB/s\u001b[0m eta \u001b[36m0:00:00\u001b[0m\n",
            "\u001b[?25hRequirement already satisfied: pandas in /usr/local/lib/python3.10/dist-packages (from fast-bert==2.0.17) (1.5.3)\n",
            "Requirement already satisfied: python-box in /usr/local/lib/python3.10/dist-packages (from fast-bert==2.0.17) (7.1.1)\n",
            "Requirement already satisfied: more-itertools in /usr/local/lib/python3.10/dist-packages (from fast-bert==2.0.17) (10.1.0)\n",
            "Collecting onnx (from fast-bert==2.0.17)\n",
            "  Downloading onnx-1.15.0-cp310-cp310-manylinux_2_17_x86_64.manylinux2014_x86_64.whl (15.7 MB)\n",
            "\u001b[2K     \u001b[90m━━━━━━━━━━━━━━━━━━━━━━━━━━━━━━━━━━━━━━━━\u001b[0m \u001b[32m15.7/15.7 MB\u001b[0m \u001b[31m72.0 MB/s\u001b[0m eta \u001b[36m0:00:00\u001b[0m\n",
            "\u001b[?25hCollecting onnxruntime (from fast-bert==2.0.17)\n",
            "  Downloading onnxruntime-1.16.1-cp310-cp310-manylinux_2_17_x86_64.manylinux2014_x86_64.whl (6.2 MB)\n",
            "\u001b[2K     \u001b[90m━━━━━━━━━━━━━━━━━━━━━━━━━━━━━━━━━━━━━━━━\u001b[0m \u001b[32m6.2/6.2 MB\u001b[0m \u001b[31m113.4 MB/s\u001b[0m eta \u001b[36m0:00:00\u001b[0m\n",
            "\u001b[?25hCollecting onnxruntime-tools (from fast-bert==2.0.17)\n",
            "  Downloading onnxruntime_tools-1.7.0-py3-none-any.whl (212 kB)\n",
            "\u001b[2K     \u001b[90m━━━━━━━━━━━━━━━━━━━━━━━━━━━━━━━━━━━━━━━━\u001b[0m \u001b[32m212.7/212.7 kB\u001b[0m \u001b[31m20.6 MB/s\u001b[0m eta \u001b[36m0:00:00\u001b[0m\n",
            "\u001b[?25hRequirement already satisfied: filelock in /usr/local/lib/python3.10/dist-packages (from transformers==4.22.*->fast-bert==2.0.17) (3.12.4)\n",
            "Collecting huggingface-hub<1.0,>=0.9.0 (from transformers==4.22.*->fast-bert==2.0.17)\n",
            "  Downloading huggingface_hub-0.18.0-py3-none-any.whl (301 kB)\n",
            "\u001b[2K     \u001b[90m━━━━━━━━━━━━━━━━━━━━━━━━━━━━━━━━━━━━━━━━\u001b[0m \u001b[32m302.0/302.0 kB\u001b[0m \u001b[31m39.5 MB/s\u001b[0m eta \u001b[36m0:00:00\u001b[0m\n",
            "\u001b[?25hRequirement already satisfied: numpy>=1.17 in /usr/local/lib/python3.10/dist-packages (from transformers==4.22.*->fast-bert==2.0.17) (1.23.5)\n",
            "Requirement already satisfied: packaging>=20.0 in /usr/local/lib/python3.10/dist-packages (from transformers==4.22.*->fast-bert==2.0.17) (23.2)\n",
            "Requirement already satisfied: pyyaml>=5.1 in /usr/local/lib/python3.10/dist-packages (from transformers==4.22.*->fast-bert==2.0.17) (6.0.1)\n",
            "Requirement already satisfied: regex!=2019.12.17 in /usr/local/lib/python3.10/dist-packages (from transformers==4.22.*->fast-bert==2.0.17) (2023.6.3)\n",
            "Requirement already satisfied: requests in /usr/local/lib/python3.10/dist-packages (from transformers==4.22.*->fast-bert==2.0.17) (2.31.0)\n",
            "Collecting tokenizers!=0.11.3,<0.13,>=0.11.1 (from transformers==4.22.*->fast-bert==2.0.17)\n",
            "  Downloading tokenizers-0.12.1-cp310-cp310-manylinux_2_12_x86_64.manylinux2010_x86_64.whl (6.6 MB)\n",
            "\u001b[2K     \u001b[90m━━━━━━━━━━━━━━━━━━━━━━━━━━━━━━━━━━━━━━━━\u001b[0m \u001b[32m6.6/6.6 MB\u001b[0m \u001b[31m121.4 MB/s\u001b[0m eta \u001b[36m0:00:00\u001b[0m\n",
            "\u001b[?25hRequirement already satisfied: tqdm>=4.27 in /usr/local/lib/python3.10/dist-packages (from transformers==4.22.*->fast-bert==2.0.17) (4.66.1)\n",
            "Requirement already satisfied: contourpy>=1.0.1 in /usr/local/lib/python3.10/dist-packages (from matplotlib->fast-bert==2.0.17) (1.1.1)\n",
            "Requirement already satisfied: cycler>=0.10 in /usr/local/lib/python3.10/dist-packages (from matplotlib->fast-bert==2.0.17) (0.12.1)\n",
            "Requirement already satisfied: fonttools>=4.22.0 in /usr/local/lib/python3.10/dist-packages (from matplotlib->fast-bert==2.0.17) (4.43.1)\n",
            "Requirement already satisfied: kiwisolver>=1.0.1 in /usr/local/lib/python3.10/dist-packages (from matplotlib->fast-bert==2.0.17) (1.4.5)\n",
            "Requirement already satisfied: pillow>=6.2.0 in /usr/local/lib/python3.10/dist-packages (from matplotlib->fast-bert==2.0.17) (9.4.0)\n",
            "Requirement already satisfied: pyparsing>=2.3.1 in /usr/local/lib/python3.10/dist-packages (from matplotlib->fast-bert==2.0.17) (3.1.1)\n",
            "Requirement already satisfied: python-dateutil>=2.7 in /usr/local/lib/python3.10/dist-packages (from matplotlib->fast-bert==2.0.17) (2.8.2)\n",
            "Requirement already satisfied: protobuf>=3.20.2 in /usr/local/lib/python3.10/dist-packages (from onnx->fast-bert==2.0.17) (3.20.3)\n",
            "Collecting coloredlogs (from onnxruntime->fast-bert==2.0.17)\n",
            "  Downloading coloredlogs-15.0.1-py2.py3-none-any.whl (46 kB)\n",
            "\u001b[2K     \u001b[90m━━━━━━━━━━━━━━━━━━━━━━━━━━━━━━━━━━━━━━━━\u001b[0m \u001b[32m46.0/46.0 kB\u001b[0m \u001b[31m7.1 MB/s\u001b[0m eta \u001b[36m0:00:00\u001b[0m\n",
            "\u001b[?25hRequirement already satisfied: flatbuffers in /usr/local/lib/python3.10/dist-packages (from onnxruntime->fast-bert==2.0.17) (23.5.26)\n",
            "Requirement already satisfied: sympy in /usr/local/lib/python3.10/dist-packages (from onnxruntime->fast-bert==2.0.17) (1.12)\n",
            "Requirement already satisfied: psutil in /usr/local/lib/python3.10/dist-packages (from onnxruntime-tools->fast-bert==2.0.17) (5.9.5)\n",
            "Requirement already satisfied: py-cpuinfo in /usr/local/lib/python3.10/dist-packages (from onnxruntime-tools->fast-bert==2.0.17) (9.0.0)\n",
            "Collecting py3nvml (from onnxruntime-tools->fast-bert==2.0.17)\n",
            "  Downloading py3nvml-0.2.7-py3-none-any.whl (55 kB)\n",
            "\u001b[2K     \u001b[90m━━━━━━━━━━━━━━━━━━━━━━━━━━━━━━━━━━━━━━━━\u001b[0m \u001b[32m55.5/55.5 kB\u001b[0m \u001b[31m9.1 MB/s\u001b[0m eta \u001b[36m0:00:00\u001b[0m\n",
            "\u001b[?25hRequirement already satisfied: pytz>=2020.1 in /usr/local/lib/python3.10/dist-packages (from pandas->fast-bert==2.0.17) (2023.3.post1)\n",
            "Requirement already satisfied: torch>=0.4.1 in /usr/local/lib/python3.10/dist-packages (from pytorch-lamb->fast-bert==2.0.17) (2.1.0+cu118)\n",
            "Requirement already satisfied: torchvision in /usr/local/lib/python3.10/dist-packages (from pytorch-lamb->fast-bert==2.0.17) (0.16.0+cu118)\n",
            "Requirement already satisfied: scipy>=1.3.2 in /usr/local/lib/python3.10/dist-packages (from scikit-learn->fast-bert==2.0.17) (1.11.3)\n",
            "Requirement already satisfied: joblib>=1.1.1 in /usr/local/lib/python3.10/dist-packages (from scikit-learn->fast-bert==2.0.17) (1.3.2)\n",
            "Requirement already satisfied: threadpoolctl>=2.0.0 in /usr/local/lib/python3.10/dist-packages (from scikit-learn->fast-bert==2.0.17) (3.2.0)\n",
            "Requirement already satisfied: spacy-legacy<3.1.0,>=3.0.11 in /usr/local/lib/python3.10/dist-packages (from spacy->fast-bert==2.0.17) (3.0.12)\n",
            "Requirement already satisfied: spacy-loggers<2.0.0,>=1.0.0 in /usr/local/lib/python3.10/dist-packages (from spacy->fast-bert==2.0.17) (1.0.5)\n",
            "Requirement already satisfied: murmurhash<1.1.0,>=0.28.0 in /usr/local/lib/python3.10/dist-packages (from spacy->fast-bert==2.0.17) (1.0.10)\n",
            "Requirement already satisfied: cymem<2.1.0,>=2.0.2 in /usr/local/lib/python3.10/dist-packages (from spacy->fast-bert==2.0.17) (2.0.8)\n",
            "Requirement already satisfied: preshed<3.1.0,>=3.0.2 in /usr/local/lib/python3.10/dist-packages (from spacy->fast-bert==2.0.17) (3.0.9)\n",
            "Requirement already satisfied: thinc<8.2.0,>=8.1.8 in /usr/local/lib/python3.10/dist-packages (from spacy->fast-bert==2.0.17) (8.1.12)\n",
            "Requirement already satisfied: wasabi<1.2.0,>=0.9.1 in /usr/local/lib/python3.10/dist-packages (from spacy->fast-bert==2.0.17) (1.1.2)\n",
            "Requirement already satisfied: srsly<3.0.0,>=2.4.3 in /usr/local/lib/python3.10/dist-packages (from spacy->fast-bert==2.0.17) (2.4.8)\n",
            "Requirement already satisfied: catalogue<2.1.0,>=2.0.6 in /usr/local/lib/python3.10/dist-packages (from spacy->fast-bert==2.0.17) (2.0.10)\n",
            "Requirement already satisfied: typer<0.10.0,>=0.3.0 in /usr/local/lib/python3.10/dist-packages (from spacy->fast-bert==2.0.17) (0.9.0)\n",
            "Requirement already satisfied: pathy>=0.10.0 in /usr/local/lib/python3.10/dist-packages (from spacy->fast-bert==2.0.17) (0.10.3)\n",
            "Requirement already satisfied: smart-open<7.0.0,>=5.2.1 in /usr/local/lib/python3.10/dist-packages (from spacy->fast-bert==2.0.17) (6.4.0)\n",
            "Requirement already satisfied: pydantic!=1.8,!=1.8.1,<3.0.0,>=1.7.4 in /usr/local/lib/python3.10/dist-packages (from spacy->fast-bert==2.0.17) (1.10.13)\n",
            "Requirement already satisfied: jinja2 in /usr/local/lib/python3.10/dist-packages (from spacy->fast-bert==2.0.17) (3.1.2)\n",
            "Requirement already satisfied: setuptools in /usr/local/lib/python3.10/dist-packages (from spacy->fast-bert==2.0.17) (67.7.2)\n",
            "Requirement already satisfied: langcodes<4.0.0,>=3.2.0 in /usr/local/lib/python3.10/dist-packages (from spacy->fast-bert==2.0.17) (3.3.0)\n",
            "Requirement already satisfied: fsspec>=2023.5.0 in /usr/local/lib/python3.10/dist-packages (from huggingface-hub<1.0,>=0.9.0->transformers==4.22.*->fast-bert==2.0.17) (2023.6.0)\n",
            "Requirement already satisfied: typing-extensions>=3.7.4.3 in /usr/local/lib/python3.10/dist-packages (from huggingface-hub<1.0,>=0.9.0->transformers==4.22.*->fast-bert==2.0.17) (4.5.0)\n",
            "Requirement already satisfied: six>=1.5 in /usr/local/lib/python3.10/dist-packages (from python-dateutil>=2.7->matplotlib->fast-bert==2.0.17) (1.16.0)\n",
            "Requirement already satisfied: charset-normalizer<4,>=2 in /usr/local/lib/python3.10/dist-packages (from requests->transformers==4.22.*->fast-bert==2.0.17) (3.3.1)\n",
            "Requirement already satisfied: idna<4,>=2.5 in /usr/local/lib/python3.10/dist-packages (from requests->transformers==4.22.*->fast-bert==2.0.17) (3.4)\n",
            "Requirement already satisfied: urllib3<3,>=1.21.1 in /usr/local/lib/python3.10/dist-packages (from requests->transformers==4.22.*->fast-bert==2.0.17) (2.0.7)\n",
            "Requirement already satisfied: certifi>=2017.4.17 in /usr/local/lib/python3.10/dist-packages (from requests->transformers==4.22.*->fast-bert==2.0.17) (2023.7.22)\n",
            "Requirement already satisfied: blis<0.8.0,>=0.7.8 in /usr/local/lib/python3.10/dist-packages (from thinc<8.2.0,>=8.1.8->spacy->fast-bert==2.0.17) (0.7.11)\n",
            "Requirement already satisfied: confection<1.0.0,>=0.0.1 in /usr/local/lib/python3.10/dist-packages (from thinc<8.2.0,>=8.1.8->spacy->fast-bert==2.0.17) (0.1.3)\n",
            "Requirement already satisfied: networkx in /usr/local/lib/python3.10/dist-packages (from torch>=0.4.1->pytorch-lamb->fast-bert==2.0.17) (3.2)\n",
            "Requirement already satisfied: triton==2.1.0 in /usr/local/lib/python3.10/dist-packages (from torch>=0.4.1->pytorch-lamb->fast-bert==2.0.17) (2.1.0)\n",
            "Requirement already satisfied: click<9.0.0,>=7.1.1 in /usr/local/lib/python3.10/dist-packages (from typer<0.10.0,>=0.3.0->spacy->fast-bert==2.0.17) (8.1.7)\n",
            "Collecting humanfriendly>=9.1 (from coloredlogs->onnxruntime->fast-bert==2.0.17)\n",
            "  Downloading humanfriendly-10.0-py2.py3-none-any.whl (86 kB)\n",
            "\u001b[2K     \u001b[90m━━━━━━━━━━━━━━━━━━━━━━━━━━━━━━━━━━━━━━━━\u001b[0m \u001b[32m86.8/86.8 kB\u001b[0m \u001b[31m12.8 MB/s\u001b[0m eta \u001b[36m0:00:00\u001b[0m\n",
            "\u001b[?25hRequirement already satisfied: MarkupSafe>=2.0 in /usr/local/lib/python3.10/dist-packages (from jinja2->spacy->fast-bert==2.0.17) (2.1.3)\n",
            "Collecting xmltodict (from py3nvml->onnxruntime-tools->fast-bert==2.0.17)\n",
            "  Downloading xmltodict-0.13.0-py2.py3-none-any.whl (10.0 kB)\n",
            "Requirement already satisfied: mpmath>=0.19 in /usr/local/lib/python3.10/dist-packages (from sympy->onnxruntime->fast-bert==2.0.17) (1.3.0)\n",
            "Building wheels for collected packages: fast-bert, seqeval\n",
            "  Building wheel for fast-bert (setup.py) ... \u001b[?25l\u001b[?25hdone\n",
            "  Created wheel for fast-bert: filename=fast_bert-2.0.17-py3-none-any.whl size=103688 sha256=85e21728b1f29f1216bd6215496feada61aa3b3a418a3791da78a166267e9f6e\n",
            "  Stored in directory: /tmp/pip-ephem-wheel-cache-ozj21zl0/wheels/ed/65/9e/1828fcda55e4cfe0b6f63906053e43538e11ff0180902c285d\n",
            "  Building wheel for seqeval (setup.py) ... \u001b[?25l\u001b[?25hdone\n",
            "  Created wheel for seqeval: filename=seqeval-1.2.2-py3-none-any.whl size=16162 sha256=9d078ccefbd6d87a00bb74aac4a5d8ddae02df0ef1bc5225898066ae079ae9f1\n",
            "  Stored in directory: /root/.cache/pip/wheels/1a/67/4a/ad4082dd7dfc30f2abfe4d80a2ed5926a506eb8a972b4767fa\n",
            "Successfully built fast-bert seqeval\n",
            "Installing collected packages: tokenizers, xmltodict, tensorboardX, onnx, humanfriendly, py3nvml, huggingface-hub, coloredlogs, transformers, seqeval, onnxruntime-tools, onnxruntime, pytorch-lamb, fast-bert\n",
            "Successfully installed coloredlogs-15.0.1 fast-bert-2.0.17 huggingface-hub-0.18.0 humanfriendly-10.0 onnx-1.15.0 onnxruntime-1.16.1 onnxruntime-tools-1.7.0 py3nvml-0.2.7 pytorch-lamb-1.0.0 seqeval-1.2.2 tensorboardX-2.6.2.2 tokenizers-0.12.1 transformers-4.22.2 xmltodict-0.13.0\n"
          ]
        }
      ]
    },
    {
      "cell_type": "code",
      "source": [
        "!cp /content/drive/MyDrive/apex.zip .\n",
        "!unzip apex.zip"
      ],
      "metadata": {
        "colab": {
          "base_uri": "https://localhost:8080/"
        },
        "id": "mPCt-1PpFQNJ",
        "outputId": "c01efe1b-c396-4fc3-9a80-575042398354"
      },
      "execution_count": null,
      "outputs": [
        {
          "output_type": "stream",
          "name": "stdout",
          "text": [
            "--2023-10-22 15:22:53--  http://www.itspaces.tech/apex.zip\n",
            "Resolving www.itspaces.tech (www.itspaces.tech)... 51.38.177.87\n",
            "Connecting to www.itspaces.tech (www.itspaces.tech)|51.38.177.87|:80... connected.\n",
            "HTTP request sent, awaiting response... 200 OK\n",
            "Length: 88553500 (84M) [application/zip]\n",
            "Saving to: ‘apex.zip’\n",
            "\n",
            "apex.zip            100%[===================>]  84.45M  11.7MB/s    in 7.3s    \n",
            "\n",
            "2023-10-22 15:23:01 (11.6 MB/s) - ‘apex.zip’ saved [88553500/88553500]\n",
            "\n",
            "Archive:  apex.zip\n",
            "   creating: apex/\n",
            "   creating: apex/examples/\n",
            "   creating: apex/examples/imagenet/\n",
            "  inflating: apex/examples/imagenet/main_amp.py  \n",
            "  inflating: apex/examples/imagenet/README.md  \n",
            "   creating: apex/examples/docker/\n",
            "  inflating: apex/examples/docker/README.md  \n",
            "  inflating: apex/examples/docker/Dockerfile  \n",
            "   creating: apex/examples/dcgan/\n",
            "  inflating: apex/examples/dcgan/main_amp.py  \n",
            "  inflating: apex/examples/dcgan/README.md  \n",
            "  inflating: apex/examples/README.md  \n",
            "   creating: apex/examples/simple/\n",
            "   creating: apex/examples/simple/distributed/\n",
            "  inflating: apex/examples/simple/distributed/run.sh  \n",
            "  inflating: apex/examples/simple/distributed/README.md  \n",
            "  inflating: apex/examples/simple/distributed/distributed_data_parallel.py  \n",
            "   creating: apex/.github/\n",
            "   creating: apex/.github/ISSUE_TEMPLATE/\n",
            "  inflating: apex/.github/ISSUE_TEMPLATE/bug_report.md  \n",
            "  inflating: apex/requirements.txt   \n",
            "  inflating: apex/requirements_dev.txt  \n",
            "   creating: apex/.git/\n",
            "   creating: apex/.git/branches/\n",
            "  inflating: apex/.git/packed-refs   \n",
            "   creating: apex/.git/hooks/\n",
            "  inflating: apex/.git/hooks/pre-receive.sample  \n",
            "  inflating: apex/.git/hooks/post-update.sample  \n",
            "  inflating: apex/.git/hooks/prepare-commit-msg.sample  \n",
            "  inflating: apex/.git/hooks/applypatch-msg.sample  \n",
            "  inflating: apex/.git/hooks/update.sample  \n",
            "  inflating: apex/.git/hooks/push-to-checkout.sample  \n",
            "  inflating: apex/.git/hooks/pre-applypatch.sample  \n",
            "  inflating: apex/.git/hooks/fsmonitor-watchman.sample  \n",
            "  inflating: apex/.git/hooks/pre-rebase.sample  \n",
            "  inflating: apex/.git/hooks/pre-push.sample  \n",
            "  inflating: apex/.git/hooks/pre-merge-commit.sample  \n",
            "  inflating: apex/.git/hooks/commit-msg.sample  \n",
            "  inflating: apex/.git/hooks/pre-commit.sample  \n",
            " extracting: apex/.git/HEAD          \n",
            "   creating: apex/.git/refs/\n",
            "   creating: apex/.git/refs/heads/\n",
            " extracting: apex/.git/refs/heads/master  \n",
            "   creating: apex/.git/refs/tags/\n",
            "   creating: apex/.git/refs/remotes/\n",
            "   creating: apex/.git/refs/remotes/origin/\n",
            " extracting: apex/.git/refs/remotes/origin/HEAD  \n",
            "  inflating: apex/.git/index         \n",
            "  inflating: apex/.git/description   \n",
            "   creating: apex/.git/info/\n",
            "  inflating: apex/.git/info/exclude  \n",
            "  inflating: apex/.git/config        \n",
            "   creating: apex/.git/objects/\n",
            "   creating: apex/.git/objects/pack/\n",
            "  inflating: apex/.git/objects/pack/pack-84aeb9c5132d08a6c1efece383e9747daeb34f35.pack  \n",
            "  inflating: apex/.git/objects/pack/pack-84aeb9c5132d08a6c1efece383e9747daeb34f35.idx  \n",
            "   creating: apex/.git/objects/info/\n",
            "   creating: apex/.git/logs/\n",
            "  inflating: apex/.git/logs/HEAD     \n",
            "   creating: apex/.git/logs/refs/\n",
            "   creating: apex/.git/logs/refs/heads/\n",
            "  inflating: apex/.git/logs/refs/heads/master  \n",
            "   creating: apex/.git/logs/refs/remotes/\n",
            "   creating: apex/.git/logs/refs/remotes/origin/\n",
            "  inflating: apex/.git/logs/refs/remotes/origin/HEAD  \n",
            "  inflating: apex/.gitmodules        \n",
            "   creating: apex/apex.egg-info/\n",
            "  inflating: apex/apex.egg-info/PKG-INFO  \n",
            " extracting: apex/apex.egg-info/requires.txt  \n",
            "  inflating: apex/apex.egg-info/SOURCES.txt  \n",
            " extracting: apex/apex.egg-info/dependency_links.txt  \n",
            "  inflating: apex/apex.egg-info/top_level.txt  \n",
            "  inflating: apex/.gitignore         \n",
            "   creating: apex/docs/\n",
            "   creating: apex/docs/source/\n",
            "  inflating: apex/docs/source/fp16_utils.rst  \n",
            "  inflating: apex/docs/source/conf.py  \n",
            "   creating: apex/docs/source/_templates/\n",
            "  inflating: apex/docs/source/_templates/layout.html  \n",
            "  inflating: apex/docs/source/layernorm.rst  \n",
            "  inflating: apex/docs/source/optimizers.rst  \n",
            "  inflating: apex/docs/source/parallel.rst  \n",
            "   creating: apex/docs/source/_static/\n",
            "   creating: apex/docs/source/_static/css/\n",
            "  inflating: apex/docs/source/_static/css/pytorch_theme.css  \n",
            "   creating: apex/docs/source/_static/img/\n",
            "  inflating: apex/docs/source/_static/img/nv-pytorch2.png  \n",
            "  inflating: apex/docs/source/index.rst  \n",
            "  inflating: apex/docs/source/amp.rst  \n",
            "  inflating: apex/docs/source/advanced.rst  \n",
            "  inflating: apex/docs/Makefile      \n",
            "   creating: apex/data/\n",
            "  inflating: apex/data/val_set.csv   \n",
            "  inflating: apex/data/lm_val.txt    \n",
            "  inflating: apex/data/lm_train.txt  \n",
            "  inflating: apex/data/train_set.csv  \n",
            "   creating: apex/model/\n",
            "  inflating: apex/setup.py           \n",
            "  inflating: apex/LICENSE            \n",
            "   creating: apex/labels/\n",
            "  inflating: apex/labels/labels.txt  \n",
            "   creating: apex/build/\n",
            "   creating: apex/build/lib.linux-x86_64-cpython-310/\n",
            "  inflating: apex/build/lib.linux-x86_64-cpython-310/syncbn.cpython-310-x86_64-linux-gnu.so  \n",
            "  inflating: apex/build/lib.linux-x86_64-cpython-310/fused_layer_norm_cuda.cpython-310-x86_64-linux-gnu.so  \n",
            "  inflating: apex/build/lib.linux-x86_64-cpython-310/mlp_cuda.cpython-310-x86_64-linux-gnu.so  \n",
            "  inflating: apex/build/lib.linux-x86_64-cpython-310/scaled_upper_triang_masked_softmax_cuda.cpython-310-x86_64-linux-gnu.so  \n",
            "  inflating: apex/build/lib.linux-x86_64-cpython-310/scaled_masked_softmax_cuda.cpython-310-x86_64-linux-gnu.so  \n",
            "  inflating: apex/build/lib.linux-x86_64-cpython-310/generic_scaled_masked_softmax_cuda.cpython-310-x86_64-linux-gnu.so  \n",
            "  inflating: apex/build/lib.linux-x86_64-cpython-310/scaled_softmax_cuda.cpython-310-x86_64-linux-gnu.so  \n",
            "  inflating: apex/build/lib.linux-x86_64-cpython-310/apex_C.cpython-310-x86_64-linux-gnu.so  \n",
            "   creating: apex/build/lib.linux-x86_64-cpython-310/apex/\n",
            "   creating: apex/build/lib.linux-x86_64-cpython-310/apex/amp/\n",
            "  inflating: apex/build/lib.linux-x86_64-cpython-310/apex/amp/__version__.py  \n",
            "  inflating: apex/build/lib.linux-x86_64-cpython-310/apex/amp/scaler.py  \n",
            "  inflating: apex/build/lib.linux-x86_64-cpython-310/apex/amp/opt.py  \n",
            "   creating: apex/build/lib.linux-x86_64-cpython-310/apex/amp/lists/\n",
            "  inflating: apex/build/lib.linux-x86_64-cpython-310/apex/amp/lists/torch_overrides.py  \n",
            "  inflating: apex/build/lib.linux-x86_64-cpython-310/apex/amp/lists/functional_overrides.py  \n",
            " extracting: apex/build/lib.linux-x86_64-cpython-310/apex/amp/lists/__init__.py  \n",
            "  inflating: apex/build/lib.linux-x86_64-cpython-310/apex/amp/lists/tensor_overrides.py  \n",
            "  inflating: apex/build/lib.linux-x86_64-cpython-310/apex/amp/_amp_state.py  \n",
            "  inflating: apex/build/lib.linux-x86_64-cpython-310/apex/amp/rnn_compat.py  \n",
            "  inflating: apex/build/lib.linux-x86_64-cpython-310/apex/amp/__init__.py  \n",
            "  inflating: apex/build/lib.linux-x86_64-cpython-310/apex/amp/compat.py  \n",
            "  inflating: apex/build/lib.linux-x86_64-cpython-310/apex/amp/frontend.py  \n",
            "  inflating: apex/build/lib.linux-x86_64-cpython-310/apex/amp/wrap.py  \n",
            "  inflating: apex/build/lib.linux-x86_64-cpython-310/apex/amp/_initialize.py  \n",
            "  inflating: apex/build/lib.linux-x86_64-cpython-310/apex/amp/amp.py  \n",
            "  inflating: apex/build/lib.linux-x86_64-cpython-310/apex/amp/handle.py  \n",
            "  inflating: apex/build/lib.linux-x86_64-cpython-310/apex/amp/utils.py  \n",
            "  inflating: apex/build/lib.linux-x86_64-cpython-310/apex/amp/_process_optimizer.py  \n",
            "   creating: apex/build/lib.linux-x86_64-cpython-310/apex/fused_dense/\n",
            " extracting: apex/build/lib.linux-x86_64-cpython-310/apex/fused_dense/__init__.py  \n",
            "  inflating: apex/build/lib.linux-x86_64-cpython-310/apex/fused_dense/fused_dense.py  \n",
            "  inflating: apex/build/lib.linux-x86_64-cpython-310/apex/_autocast_utils.py  \n",
            "   creating: apex/build/lib.linux-x86_64-cpython-310/apex/normalization/\n",
            "  inflating: apex/build/lib.linux-x86_64-cpython-310/apex/normalization/__init__.py  \n",
            "  inflating: apex/build/lib.linux-x86_64-cpython-310/apex/normalization/instance_norm.py  \n",
            "  inflating: apex/build/lib.linux-x86_64-cpython-310/apex/normalization/fused_layer_norm.py  \n",
            "  inflating: apex/build/lib.linux-x86_64-cpython-310/apex/__init__.py  \n",
            "   creating: apex/build/lib.linux-x86_64-cpython-310/apex/parallel/\n",
            "  inflating: apex/build/lib.linux-x86_64-cpython-310/apex/parallel/sync_batchnorm_kernel.py  \n",
            "  inflating: apex/build/lib.linux-x86_64-cpython-310/apex/parallel/multiproc.py  \n",
            "  inflating: apex/build/lib.linux-x86_64-cpython-310/apex/parallel/distributed.py  \n",
            "  inflating: apex/build/lib.linux-x86_64-cpython-310/apex/parallel/optimized_sync_batchnorm_kernel.py  \n",
            "  inflating: apex/build/lib.linux-x86_64-cpython-310/apex/parallel/__init__.py  \n",
            "  inflating: apex/build/lib.linux-x86_64-cpython-310/apex/parallel/LARC.py  \n",
            "  inflating: apex/build/lib.linux-x86_64-cpython-310/apex/parallel/sync_batchnorm.py  \n",
            "  inflating: apex/build/lib.linux-x86_64-cpython-310/apex/parallel/optimized_sync_batchnorm.py  \n",
            "   creating: apex/build/lib.linux-x86_64-cpython-310/apex/contrib/\n",
            "   creating: apex/build/lib.linux-x86_64-cpython-310/apex/contrib/conv_bias_relu/\n",
            "  inflating: apex/build/lib.linux-x86_64-cpython-310/apex/contrib/conv_bias_relu/__init__.py  \n",
            "  inflating: apex/build/lib.linux-x86_64-cpython-310/apex/contrib/conv_bias_relu/conv_bias_relu.py  \n",
            "   creating: apex/build/lib.linux-x86_64-cpython-310/apex/contrib/transducer/\n",
            "  inflating: apex/build/lib.linux-x86_64-cpython-310/apex/contrib/transducer/__init__.py  \n",
            "  inflating: apex/build/lib.linux-x86_64-cpython-310/apex/contrib/transducer/transducer.py  \n",
            "  inflating: apex/build/lib.linux-x86_64-cpython-310/apex/contrib/transducer/_transducer_ref.py  \n",
            "   creating: apex/build/lib.linux-x86_64-cpython-310/apex/contrib/clip_grad/\n",
            "  inflating: apex/build/lib.linux-x86_64-cpython-310/apex/contrib/clip_grad/clip_grad.py  \n",
            "  inflating: apex/build/lib.linux-x86_64-cpython-310/apex/contrib/clip_grad/__init__.py  \n",
            "   creating: apex/build/lib.linux-x86_64-cpython-310/apex/contrib/test/\n",
            "   creating: apex/build/lib.linux-x86_64-cpython-310/apex/contrib/test/conv_bias_relu/\n",
            " extracting: apex/build/lib.linux-x86_64-cpython-310/apex/contrib/test/conv_bias_relu/__init__.py  \n",
            "  inflating: apex/build/lib.linux-x86_64-cpython-310/apex/contrib/test/conv_bias_relu/test_conv_bias_relu.py  \n",
            "   creating: apex/build/lib.linux-x86_64-cpython-310/apex/contrib/test/transducer/\n",
            " extracting: apex/build/lib.linux-x86_64-cpython-310/apex/contrib/test/transducer/__init__.py  \n",
            "  inflating: apex/build/lib.linux-x86_64-cpython-310/apex/contrib/test/transducer/test_transducer_loss.py  \n",
            "  inflating: apex/build/lib.linux-x86_64-cpython-310/apex/contrib/test/transducer/test_transducer_joint.py  \n",
            "   creating: apex/build/lib.linux-x86_64-cpython-310/apex/contrib/test/clip_grad/\n",
            " extracting: apex/build/lib.linux-x86_64-cpython-310/apex/contrib/test/clip_grad/__init__.py  \n",
            "  inflating: apex/build/lib.linux-x86_64-cpython-310/apex/contrib/test/clip_grad/test_clip_grad.py  \n",
            " extracting: apex/build/lib.linux-x86_64-cpython-310/apex/contrib/test/__init__.py  \n",
            "   creating: apex/build/lib.linux-x86_64-cpython-310/apex/contrib/test/xentropy/\n",
            "  inflating: apex/build/lib.linux-x86_64-cpython-310/apex/contrib/test/xentropy/test_label_smoothing.py  \n",
            " extracting: apex/build/lib.linux-x86_64-cpython-310/apex/contrib/test/xentropy/__init__.py  \n",
            "   creating: apex/build/lib.linux-x86_64-cpython-310/apex/contrib/test/focal_loss/\n",
            "  inflating: apex/build/lib.linux-x86_64-cpython-310/apex/contrib/test/focal_loss/test_focal_loss.py  \n",
            " extracting: apex/build/lib.linux-x86_64-cpython-310/apex/contrib/test/focal_loss/__init__.py  \n",
            "   creating: apex/build/lib.linux-x86_64-cpython-310/apex/contrib/test/cudnn_gbn/\n",
            " extracting: apex/build/lib.linux-x86_64-cpython-310/apex/contrib/test/cudnn_gbn/__init__.py  \n",
            "  inflating: apex/build/lib.linux-x86_64-cpython-310/apex/contrib/test/cudnn_gbn/test_cudnn_gbn_with_two_gpus.py  \n",
            "   creating: apex/build/lib.linux-x86_64-cpython-310/apex/contrib/test/multihead_attn/\n",
            "  inflating: apex/build/lib.linux-x86_64-cpython-310/apex/contrib/test/multihead_attn/test_encdec_multihead_attn.py  \n",
            "  inflating: apex/build/lib.linux-x86_64-cpython-310/apex/contrib/test/multihead_attn/test_encdec_multihead_attn_norm_add.py  \n",
            " extracting: apex/build/lib.linux-x86_64-cpython-310/apex/contrib/test/multihead_attn/__init__.py  \n",
            "  inflating: apex/build/lib.linux-x86_64-cpython-310/apex/contrib/test/multihead_attn/test_mha_fused_softmax.py  \n",
            "  inflating: apex/build/lib.linux-x86_64-cpython-310/apex/contrib/test/multihead_attn/test_fast_self_multihead_attn_bias.py  \n",
            "  inflating: apex/build/lib.linux-x86_64-cpython-310/apex/contrib/test/multihead_attn/test_self_multihead_attn.py  \n",
            "  inflating: apex/build/lib.linux-x86_64-cpython-310/apex/contrib/test/multihead_attn/test_self_multihead_attn_norm_add.py  \n",
            "   creating: apex/build/lib.linux-x86_64-cpython-310/apex/contrib/test/peer_memory/\n",
            " extracting: apex/build/lib.linux-x86_64-cpython-310/apex/contrib/test/peer_memory/__init__.py  \n",
            "  inflating: apex/build/lib.linux-x86_64-cpython-310/apex/contrib/test/peer_memory/test_peer_halo_exchange_module.py  \n",
            "   creating: apex/build/lib.linux-x86_64-cpython-310/apex/contrib/test/optimizers/\n",
            "  inflating: apex/build/lib.linux-x86_64-cpython-310/apex/contrib/test/optimizers/test_dist_adam.py  \n",
            " extracting: apex/build/lib.linux-x86_64-cpython-310/apex/contrib/test/optimizers/__init__.py  \n",
            "  inflating: apex/build/lib.linux-x86_64-cpython-310/apex/contrib/test/optimizers/test_distributed_fused_lamb.py  \n",
            "   creating: apex/build/lib.linux-x86_64-cpython-310/apex/contrib/test/bottleneck/\n",
            "  inflating: apex/build/lib.linux-x86_64-cpython-310/apex/contrib/test/bottleneck/test_bottleneck_module.py  \n",
            " extracting: apex/build/lib.linux-x86_64-cpython-310/apex/contrib/test/bottleneck/__init__.py  \n",
            "   creating: apex/build/lib.linux-x86_64-cpython-310/apex/contrib/test/index_mul_2d/\n",
            " extracting: apex/build/lib.linux-x86_64-cpython-310/apex/contrib/test/index_mul_2d/__init__.py  \n",
            "  inflating: apex/build/lib.linux-x86_64-cpython-310/apex/contrib/test/index_mul_2d/test_index_mul_2d.py  \n",
            "   creating: apex/build/lib.linux-x86_64-cpython-310/apex/contrib/test/fmha/\n",
            "  inflating: apex/build/lib.linux-x86_64-cpython-310/apex/contrib/test/fmha/test_fmha.py  \n",
            " extracting: apex/build/lib.linux-x86_64-cpython-310/apex/contrib/test/fmha/__init__.py  \n",
            "   creating: apex/build/lib.linux-x86_64-cpython-310/apex/contrib/test/layer_norm/\n",
            " extracting: apex/build/lib.linux-x86_64-cpython-310/apex/contrib/test/layer_norm/__init__.py  \n",
            "  inflating: apex/build/lib.linux-x86_64-cpython-310/apex/contrib/test/layer_norm/test_fast_layer_norm.py  \n",
            " extracting: apex/build/lib.linux-x86_64-cpython-310/apex/contrib/__init__.py  \n",
            "   creating: apex/build/lib.linux-x86_64-cpython-310/apex/contrib/xentropy/\n",
            "  inflating: apex/build/lib.linux-x86_64-cpython-310/apex/contrib/xentropy/__init__.py  \n",
            "  inflating: apex/build/lib.linux-x86_64-cpython-310/apex/contrib/xentropy/softmax_xentropy.py  \n",
            "   creating: apex/build/lib.linux-x86_64-cpython-310/apex/contrib/focal_loss/\n",
            "  inflating: apex/build/lib.linux-x86_64-cpython-310/apex/contrib/focal_loss/__init__.py  \n",
            "  inflating: apex/build/lib.linux-x86_64-cpython-310/apex/contrib/focal_loss/focal_loss.py  \n",
            "   creating: apex/build/lib.linux-x86_64-cpython-310/apex/contrib/groupbn/\n",
            "  inflating: apex/build/lib.linux-x86_64-cpython-310/apex/contrib/groupbn/__init__.py  \n",
            "  inflating: apex/build/lib.linux-x86_64-cpython-310/apex/contrib/groupbn/batch_norm.py  \n",
            "   creating: apex/build/lib.linux-x86_64-cpython-310/apex/contrib/cudnn_gbn/\n",
            "  inflating: apex/build/lib.linux-x86_64-cpython-310/apex/contrib/cudnn_gbn/__init__.py  \n",
            "  inflating: apex/build/lib.linux-x86_64-cpython-310/apex/contrib/cudnn_gbn/batch_norm.py  \n",
            "   creating: apex/build/lib.linux-x86_64-cpython-310/apex/contrib/multihead_attn/\n",
            "  inflating: apex/build/lib.linux-x86_64-cpython-310/apex/contrib/multihead_attn/fast_encdec_multihead_attn_func.py  \n",
            "  inflating: apex/build/lib.linux-x86_64-cpython-310/apex/contrib/multihead_attn/fast_self_multihead_attn_norm_add_func.py  \n",
            "  inflating: apex/build/lib.linux-x86_64-cpython-310/apex/contrib/multihead_attn/encdec_multihead_attn.py  \n",
            "  inflating: apex/build/lib.linux-x86_64-cpython-310/apex/contrib/multihead_attn/encdec_multihead_attn_func.py  \n",
            "  inflating: apex/build/lib.linux-x86_64-cpython-310/apex/contrib/multihead_attn/self_multihead_attn.py  \n",
            "  inflating: apex/build/lib.linux-x86_64-cpython-310/apex/contrib/multihead_attn/self_multihead_attn_func.py  \n",
            "  inflating: apex/build/lib.linux-x86_64-cpython-310/apex/contrib/multihead_attn/__init__.py  \n",
            "  inflating: apex/build/lib.linux-x86_64-cpython-310/apex/contrib/multihead_attn/mask_softmax_dropout_func.py  \n",
            "  inflating: apex/build/lib.linux-x86_64-cpython-310/apex/contrib/multihead_attn/fast_encdec_multihead_attn_norm_add_func.py  \n",
            "  inflating: apex/build/lib.linux-x86_64-cpython-310/apex/contrib/multihead_attn/fast_self_multihead_attn_func.py  \n",
            "   creating: apex/build/lib.linux-x86_64-cpython-310/apex/contrib/peer_memory/\n",
            "  inflating: apex/build/lib.linux-x86_64-cpython-310/apex/contrib/peer_memory/peer_memory.py  \n",
            "  inflating: apex/build/lib.linux-x86_64-cpython-310/apex/contrib/peer_memory/__init__.py  \n",
            "  inflating: apex/build/lib.linux-x86_64-cpython-310/apex/contrib/peer_memory/peer_halo_exchanger_1d.py  \n",
            "   creating: apex/build/lib.linux-x86_64-cpython-310/apex/contrib/optimizers/\n",
            "  inflating: apex/build/lib.linux-x86_64-cpython-310/apex/contrib/optimizers/distributed_fused_adam.py  \n",
            "  inflating: apex/build/lib.linux-x86_64-cpython-310/apex/contrib/optimizers/fused_adam.py  \n",
            "  inflating: apex/build/lib.linux-x86_64-cpython-310/apex/contrib/optimizers/__init__.py  \n",
            "  inflating: apex/build/lib.linux-x86_64-cpython-310/apex/contrib/optimizers/distributed_fused_lamb.py  \n",
            "  inflating: apex/build/lib.linux-x86_64-cpython-310/apex/contrib/optimizers/fused_sgd.py  \n",
            "  inflating: apex/build/lib.linux-x86_64-cpython-310/apex/contrib/optimizers/fused_lamb.py  \n",
            "  inflating: apex/build/lib.linux-x86_64-cpython-310/apex/contrib/optimizers/fp16_optimizer.py  \n",
            "   creating: apex/build/lib.linux-x86_64-cpython-310/apex/contrib/bottleneck/\n",
            "  inflating: apex/build/lib.linux-x86_64-cpython-310/apex/contrib/bottleneck/bottleneck.py  \n",
            "  inflating: apex/build/lib.linux-x86_64-cpython-310/apex/contrib/bottleneck/__init__.py  \n",
            "  inflating: apex/build/lib.linux-x86_64-cpython-310/apex/contrib/bottleneck/test.py  \n",
            "  inflating: apex/build/lib.linux-x86_64-cpython-310/apex/contrib/bottleneck/halo_exchangers.py  \n",
            "   creating: apex/build/lib.linux-x86_64-cpython-310/apex/contrib/index_mul_2d/\n",
            "  inflating: apex/build/lib.linux-x86_64-cpython-310/apex/contrib/index_mul_2d/__init__.py  \n",
            "  inflating: apex/build/lib.linux-x86_64-cpython-310/apex/contrib/index_mul_2d/index_mul_2d.py  \n",
            "   creating: apex/build/lib.linux-x86_64-cpython-310/apex/contrib/sparsity/\n",
            "  inflating: apex/build/lib.linux-x86_64-cpython-310/apex/contrib/sparsity/sparse_masklib.py  \n",
            "  inflating: apex/build/lib.linux-x86_64-cpython-310/apex/contrib/sparsity/__init__.py  \n",
            "  inflating: apex/build/lib.linux-x86_64-cpython-310/apex/contrib/sparsity/permutation_lib.py  \n",
            "   creating: apex/build/lib.linux-x86_64-cpython-310/apex/contrib/sparsity/permutation_search_kernels/\n",
            "  inflating: apex/build/lib.linux-x86_64-cpython-310/apex/contrib/sparsity/permutation_search_kernels/exhaustive_search.py  \n",
            "  inflating: apex/build/lib.linux-x86_64-cpython-310/apex/contrib/sparsity/permutation_search_kernels/channel_swap.py  \n",
            "  inflating: apex/build/lib.linux-x86_64-cpython-310/apex/contrib/sparsity/permutation_search_kernels/__init__.py  \n",
            "  inflating: apex/build/lib.linux-x86_64-cpython-310/apex/contrib/sparsity/permutation_search_kernels/call_permutation_search_kernels.py  \n",
            "  inflating: apex/build/lib.linux-x86_64-cpython-310/apex/contrib/sparsity/permutation_search_kernels/permutation_utilities.py  \n",
            "  inflating: apex/build/lib.linux-x86_64-cpython-310/apex/contrib/sparsity/asp.py  \n",
            "   creating: apex/build/lib.linux-x86_64-cpython-310/apex/contrib/fmha/\n",
            "  inflating: apex/build/lib.linux-x86_64-cpython-310/apex/contrib/fmha/fmha.py  \n",
            " extracting: apex/build/lib.linux-x86_64-cpython-310/apex/contrib/fmha/__init__.py  \n",
            "   creating: apex/build/lib.linux-x86_64-cpython-310/apex/contrib/layer_norm/\n",
            "  inflating: apex/build/lib.linux-x86_64-cpython-310/apex/contrib/layer_norm/layer_norm.py  \n",
            "  inflating: apex/build/lib.linux-x86_64-cpython-310/apex/contrib/layer_norm/__init__.py  \n",
            "   creating: apex/build/lib.linux-x86_64-cpython-310/apex/multi_tensor_apply/\n",
            "  inflating: apex/build/lib.linux-x86_64-cpython-310/apex/multi_tensor_apply/multi_tensor_apply.py  \n",
            "  inflating: apex/build/lib.linux-x86_64-cpython-310/apex/multi_tensor_apply/__init__.py  \n",
            "   creating: apex/build/lib.linux-x86_64-cpython-310/apex/optimizers/\n",
            "  inflating: apex/build/lib.linux-x86_64-cpython-310/apex/optimizers/fused_mixed_precision_lamb.py  \n",
            "  inflating: apex/build/lib.linux-x86_64-cpython-310/apex/optimizers/fused_adam.py  \n",
            "  inflating: apex/build/lib.linux-x86_64-cpython-310/apex/optimizers/fused_adagrad.py  \n",
            "  inflating: apex/build/lib.linux-x86_64-cpython-310/apex/optimizers/__init__.py  \n",
            "  inflating: apex/build/lib.linux-x86_64-cpython-310/apex/optimizers/fused_novograd.py  \n",
            "  inflating: apex/build/lib.linux-x86_64-cpython-310/apex/optimizers/fused_sgd.py  \n",
            "  inflating: apex/build/lib.linux-x86_64-cpython-310/apex/optimizers/fused_lamb.py  \n",
            "   creating: apex/build/lib.linux-x86_64-cpython-310/apex/fp16_utils/\n",
            "  inflating: apex/build/lib.linux-x86_64-cpython-310/apex/fp16_utils/fp16util.py  \n",
            "  inflating: apex/build/lib.linux-x86_64-cpython-310/apex/fp16_utils/__init__.py  \n",
            "  inflating: apex/build/lib.linux-x86_64-cpython-310/apex/fp16_utils/loss_scaler.py  \n",
            "  inflating: apex/build/lib.linux-x86_64-cpython-310/apex/fp16_utils/fp16_optimizer.py  \n",
            "   creating: apex/build/lib.linux-x86_64-cpython-310/apex/mlp/\n",
            " extracting: apex/build/lib.linux-x86_64-cpython-310/apex/mlp/__init__.py  \n",
            "  inflating: apex/build/lib.linux-x86_64-cpython-310/apex/mlp/mlp.py  \n",
            "   creating: apex/build/lib.linux-x86_64-cpython-310/apex/transformer/\n",
            "  inflating: apex/build/lib.linux-x86_64-cpython-310/apex/transformer/microbatches.py  \n",
            "   creating: apex/build/lib.linux-x86_64-cpython-310/apex/transformer/functional/\n",
            "  inflating: apex/build/lib.linux-x86_64-cpython-310/apex/transformer/functional/__init__.py  \n",
            "  inflating: apex/build/lib.linux-x86_64-cpython-310/apex/transformer/functional/fused_softmax.py  \n",
            "   creating: apex/build/lib.linux-x86_64-cpython-310/apex/transformer/amp/\n",
            "  inflating: apex/build/lib.linux-x86_64-cpython-310/apex/transformer/amp/__init__.py  \n",
            "  inflating: apex/build/lib.linux-x86_64-cpython-310/apex/transformer/amp/grad_scaler.py  \n",
            "   creating: apex/build/lib.linux-x86_64-cpython-310/apex/transformer/tensor_parallel/\n",
            "  inflating: apex/build/lib.linux-x86_64-cpython-310/apex/transformer/tensor_parallel/cross_entropy.py  \n",
            "  inflating: apex/build/lib.linux-x86_64-cpython-310/apex/transformer/tensor_parallel/memory.py  \n",
            "  inflating: apex/build/lib.linux-x86_64-cpython-310/apex/transformer/tensor_parallel/data.py  \n",
            "  inflating: apex/build/lib.linux-x86_64-cpython-310/apex/transformer/tensor_parallel/layers.py  \n",
            "  inflating: apex/build/lib.linux-x86_64-cpython-310/apex/transformer/tensor_parallel/__init__.py  \n",
            "  inflating: apex/build/lib.linux-x86_64-cpython-310/apex/transformer/tensor_parallel/random.py  \n",
            "  inflating: apex/build/lib.linux-x86_64-cpython-310/apex/transformer/tensor_parallel/utils.py  \n",
            "  inflating: apex/build/lib.linux-x86_64-cpython-310/apex/transformer/tensor_parallel/mappings.py  \n",
            "  inflating: apex/build/lib.linux-x86_64-cpython-310/apex/transformer/__init__.py  \n",
            "  inflating: apex/build/lib.linux-x86_64-cpython-310/apex/transformer/enums.py  \n",
            "   creating: apex/build/lib.linux-x86_64-cpython-310/apex/transformer/testing/\n",
            "  inflating: apex/build/lib.linux-x86_64-cpython-310/apex/transformer/testing/standalone_bert.py  \n",
            " extracting: apex/build/lib.linux-x86_64-cpython-310/apex/transformer/testing/__init__.py  \n",
            "  inflating: apex/build/lib.linux-x86_64-cpython-310/apex/transformer/testing/arguments.py  \n",
            "  inflating: apex/build/lib.linux-x86_64-cpython-310/apex/transformer/testing/commons.py  \n",
            "  inflating: apex/build/lib.linux-x86_64-cpython-310/apex/transformer/testing/standalone_gpt.py  \n",
            "  inflating: apex/build/lib.linux-x86_64-cpython-310/apex/transformer/testing/global_vars.py  \n",
            "  inflating: apex/build/lib.linux-x86_64-cpython-310/apex/transformer/testing/distributed_test_base.py  \n",
            "  inflating: apex/build/lib.linux-x86_64-cpython-310/apex/transformer/testing/standalone_transformer_lm.py  \n",
            "   creating: apex/build/lib.linux-x86_64-cpython-310/apex/transformer/_data/\n",
            "  inflating: apex/build/lib.linux-x86_64-cpython-310/apex/transformer/_data/__init__.py  \n",
            "  inflating: apex/build/lib.linux-x86_64-cpython-310/apex/transformer/_data/_batchsampler.py  \n",
            "   creating: apex/build/lib.linux-x86_64-cpython-310/apex/transformer/pipeline_parallel/\n",
            "  inflating: apex/build/lib.linux-x86_64-cpython-310/apex/transformer/pipeline_parallel/__init__.py  \n",
            "  inflating: apex/build/lib.linux-x86_64-cpython-310/apex/transformer/pipeline_parallel/_timers.py  \n",
            "   creating: apex/build/lib.linux-x86_64-cpython-310/apex/transformer/pipeline_parallel/schedules/\n",
            "  inflating: apex/build/lib.linux-x86_64-cpython-310/apex/transformer/pipeline_parallel/schedules/fwd_bwd_pipelining_without_interleaving.py  \n",
            "  inflating: apex/build/lib.linux-x86_64-cpython-310/apex/transformer/pipeline_parallel/schedules/fwd_bwd_pipelining_with_interleaving.py  \n",
            "  inflating: apex/build/lib.linux-x86_64-cpython-310/apex/transformer/pipeline_parallel/schedules/__init__.py  \n",
            "  inflating: apex/build/lib.linux-x86_64-cpython-310/apex/transformer/pipeline_parallel/schedules/fwd_bwd_no_pipelining.py  \n",
            "  inflating: apex/build/lib.linux-x86_64-cpython-310/apex/transformer/pipeline_parallel/schedules/common.py  \n",
            "  inflating: apex/build/lib.linux-x86_64-cpython-310/apex/transformer/pipeline_parallel/utils.py  \n",
            "  inflating: apex/build/lib.linux-x86_64-cpython-310/apex/transformer/pipeline_parallel/p2p_communication.py  \n",
            "  inflating: apex/build/lib.linux-x86_64-cpython-310/apex/transformer/log_util.py  \n",
            "  inflating: apex/build/lib.linux-x86_64-cpython-310/apex/transformer/_ucc_util.py  \n",
            "  inflating: apex/build/lib.linux-x86_64-cpython-310/apex/transformer/parallel_state.py  \n",
            "  inflating: apex/build/lib.linux-x86_64-cpython-310/apex/transformer/utils.py  \n",
            "   creating: apex/build/lib.linux-x86_64-cpython-310/apex/transformer/layers/\n",
            "  inflating: apex/build/lib.linux-x86_64-cpython-310/apex/transformer/layers/layer_norm.py  \n",
            "  inflating: apex/build/lib.linux-x86_64-cpython-310/apex/transformer/layers/__init__.py  \n",
            "   creating: apex/build/lib.linux-x86_64-cpython-310/apex/RNN/\n",
            "  inflating: apex/build/lib.linux-x86_64-cpython-310/apex/RNN/RNNBackend.py  \n",
            "  inflating: apex/build/lib.linux-x86_64-cpython-310/apex/RNN/__init__.py  \n",
            "  inflating: apex/build/lib.linux-x86_64-cpython-310/apex/RNN/models.py  \n",
            "  inflating: apex/build/lib.linux-x86_64-cpython-310/apex/RNN/cells.py  \n",
            "  inflating: apex/build/lib.linux-x86_64-cpython-310/amp_C.cpython-310-x86_64-linux-gnu.so  \n",
            "  inflating: apex/build/lib.linux-x86_64-cpython-310/fused_dense_cuda.cpython-310-x86_64-linux-gnu.so  \n",
            "  inflating: apex/build/lib.linux-x86_64-cpython-310/fused_weight_gradient_mlp_cuda.cpython-310-x86_64-linux-gnu.so  \n",
            "   creating: apex/build/bdist.linux-x86_64/\n",
            "   creating: apex/build/temp.linux-x86_64-cpython-310/\n",
            "   creating: apex/build/temp.linux-x86_64-cpython-310/csrc/\n",
            "  inflating: apex/build/temp.linux-x86_64-cpython-310/csrc/multi_tensor_lamb.o  \n",
            "  inflating: apex/build/temp.linux-x86_64-cpython-310/csrc/welford.o  \n",
            "  inflating: apex/build/temp.linux-x86_64-cpython-310/csrc/fused_dense.o  \n",
            "  inflating: apex/build/temp.linux-x86_64-cpython-310/csrc/mlp.o  \n",
            "  inflating: apex/build/temp.linux-x86_64-cpython-310/csrc/layer_norm_cuda.o  \n",
            "  inflating: apex/build/temp.linux-x86_64-cpython-310/csrc/multi_tensor_lamb_stage_1.o  \n",
            "  inflating: apex/build/temp.linux-x86_64-cpython-310/csrc/multi_tensor_l2norm_kernel.o  \n",
            "  inflating: apex/build/temp.linux-x86_64-cpython-310/csrc/multi_tensor_l2norm_scale_kernel.o  \n",
            "  inflating: apex/build/temp.linux-x86_64-cpython-310/csrc/syncbn.o  \n",
            "  inflating: apex/build/temp.linux-x86_64-cpython-310/csrc/multi_tensor_novograd.o  \n",
            "  inflating: apex/build/temp.linux-x86_64-cpython-310/csrc/flatten_unflatten.o  \n",
            "  inflating: apex/build/temp.linux-x86_64-cpython-310/csrc/layer_norm_cuda_kernel.o  \n",
            "  inflating: apex/build/temp.linux-x86_64-cpython-310/csrc/multi_tensor_lamb_stage_2.o  \n",
            "   creating: apex/build/temp.linux-x86_64-cpython-310/csrc/megatron/\n",
            "  inflating: apex/build/temp.linux-x86_64-cpython-310/csrc/megatron/fused_weight_gradient_dense_cuda.o  \n",
            "  inflating: apex/build/temp.linux-x86_64-cpython-310/csrc/megatron/generic_scaled_masked_softmax_cuda.o  \n",
            "  inflating: apex/build/temp.linux-x86_64-cpython-310/csrc/megatron/scaled_softmax_cuda.o  \n",
            "  inflating: apex/build/temp.linux-x86_64-cpython-310/csrc/megatron/scaled_masked_softmax_cuda.o  \n",
            "  inflating: apex/build/temp.linux-x86_64-cpython-310/csrc/megatron/fused_weight_gradient_dense.o  \n",
            "  inflating: apex/build/temp.linux-x86_64-cpython-310/csrc/megatron/scaled_upper_triang_masked_softmax.o  \n",
            "  inflating: apex/build/temp.linux-x86_64-cpython-310/csrc/megatron/scaled_masked_softmax.o  \n",
            "  inflating: apex/build/temp.linux-x86_64-cpython-310/csrc/megatron/scaled_upper_triang_masked_softmax_cuda.o  \n",
            "  inflating: apex/build/temp.linux-x86_64-cpython-310/csrc/megatron/fused_weight_gradient_dense_16bit_prec_cuda.o  \n",
            "  inflating: apex/build/temp.linux-x86_64-cpython-310/csrc/megatron/scaled_softmax.o  \n",
            "  inflating: apex/build/temp.linux-x86_64-cpython-310/csrc/megatron/generic_scaled_masked_softmax.o  \n",
            "  inflating: apex/build/temp.linux-x86_64-cpython-310/csrc/multi_tensor_sgd_kernel.o  \n",
            "  inflating: apex/build/temp.linux-x86_64-cpython-310/csrc/multi_tensor_l2norm_kernel_mp.o  \n",
            "  inflating: apex/build/temp.linux-x86_64-cpython-310/csrc/multi_tensor_lamb_mp.o  \n",
            "  inflating: apex/build/temp.linux-x86_64-cpython-310/csrc/multi_tensor_adagrad.o  \n",
            "  inflating: apex/build/temp.linux-x86_64-cpython-310/csrc/mlp_cuda.o  \n",
            "  inflating: apex/build/temp.linux-x86_64-cpython-310/csrc/multi_tensor_adam.o  \n",
            "  inflating: apex/build/temp.linux-x86_64-cpython-310/csrc/multi_tensor_scale_kernel.o  \n",
            "  inflating: apex/build/temp.linux-x86_64-cpython-310/csrc/amp_C_frontend.o  \n",
            "  inflating: apex/build/temp.linux-x86_64-cpython-310/csrc/fused_dense_cuda.o  \n",
            "  inflating: apex/build/temp.linux-x86_64-cpython-310/csrc/multi_tensor_axpby_kernel.o  \n",
            "   creating: apex/apex/\n",
            "   creating: apex/apex/amp/\n",
            "  inflating: apex/apex/amp/__version__.py  \n",
            "  inflating: apex/apex/amp/scaler.py  \n",
            "  inflating: apex/apex/amp/opt.py    \n",
            "   creating: apex/apex/amp/lists/\n",
            "  inflating: apex/apex/amp/lists/torch_overrides.py  \n",
            "  inflating: apex/apex/amp/lists/functional_overrides.py  \n",
            " extracting: apex/apex/amp/lists/__init__.py  \n",
            "   creating: apex/apex/amp/lists/__pycache__/\n",
            "  inflating: apex/apex/amp/lists/__pycache__/__init__.cpython-310.pyc  \n",
            "  inflating: apex/apex/amp/lists/__pycache__/torch_overrides.cpython-310.pyc  \n",
            "  inflating: apex/apex/amp/lists/__pycache__/tensor_overrides.cpython-310.pyc  \n",
            "  inflating: apex/apex/amp/lists/__pycache__/functional_overrides.cpython-310.pyc  \n",
            "  inflating: apex/apex/amp/lists/tensor_overrides.py  \n",
            "  inflating: apex/apex/amp/_amp_state.py  \n",
            "  inflating: apex/apex/amp/rnn_compat.py  \n",
            "  inflating: apex/apex/amp/__init__.py  \n",
            "  inflating: apex/apex/amp/compat.py  \n",
            "   creating: apex/apex/amp/__pycache__/\n",
            "  inflating: apex/apex/amp/__pycache__/utils.cpython-310.pyc  \n",
            "  inflating: apex/apex/amp/__pycache__/opt.cpython-310.pyc  \n",
            "  inflating: apex/apex/amp/__pycache__/handle.cpython-310.pyc  \n",
            "  inflating: apex/apex/amp/__pycache__/__init__.cpython-310.pyc  \n",
            "  inflating: apex/apex/amp/__pycache__/scaler.cpython-310.pyc  \n",
            "  inflating: apex/apex/amp/__pycache__/wrap.cpython-310.pyc  \n",
            "  inflating: apex/apex/amp/__pycache__/_process_optimizer.cpython-310.pyc  \n",
            "  inflating: apex/apex/amp/__pycache__/_amp_state.cpython-310.pyc  \n",
            "  inflating: apex/apex/amp/__pycache__/amp.cpython-310.pyc  \n",
            "  inflating: apex/apex/amp/__pycache__/rnn_compat.cpython-310.pyc  \n",
            "  inflating: apex/apex/amp/__pycache__/_initialize.cpython-310.pyc  \n",
            "  inflating: apex/apex/amp/__pycache__/compat.cpython-310.pyc  \n",
            "  inflating: apex/apex/amp/__pycache__/frontend.cpython-310.pyc  \n",
            "  inflating: apex/apex/amp/frontend.py  \n",
            "  inflating: apex/apex/amp/README.md  \n",
            "  inflating: apex/apex/amp/wrap.py   \n",
            "  inflating: apex/apex/amp/_initialize.py  \n",
            "  inflating: apex/apex/amp/amp.py    \n",
            "  inflating: apex/apex/amp/handle.py  \n",
            "  inflating: apex/apex/amp/utils.py  \n",
            "  inflating: apex/apex/amp/_process_optimizer.py  \n",
            "   creating: apex/apex/fused_dense/\n",
            " extracting: apex/apex/fused_dense/__init__.py  \n",
            "  inflating: apex/apex/fused_dense/fused_dense.py  \n",
            "  inflating: apex/apex/_autocast_utils.py  \n",
            "   creating: apex/apex/normalization/\n",
            "  inflating: apex/apex/normalization/__init__.py  \n",
            "   creating: apex/apex/normalization/__pycache__/\n",
            "  inflating: apex/apex/normalization/__pycache__/__init__.cpython-310.pyc  \n",
            "  inflating: apex/apex/normalization/__pycache__/fused_layer_norm.cpython-310.pyc  \n",
            "  inflating: apex/apex/normalization/__pycache__/instance_norm.cpython-310.pyc  \n",
            "  inflating: apex/apex/normalization/instance_norm.py  \n",
            "  inflating: apex/apex/normalization/fused_layer_norm.py  \n",
            "  inflating: apex/apex/__init__.py   \n",
            "   creating: apex/apex/__pycache__/\n",
            "  inflating: apex/apex/__pycache__/__init__.cpython-310.pyc  \n",
            "  inflating: apex/apex/__pycache__/_autocast_utils.cpython-310.pyc  \n",
            "   creating: apex/apex/parallel/\n",
            "  inflating: apex/apex/parallel/sync_batchnorm_kernel.py  \n",
            "  inflating: apex/apex/parallel/multiproc.py  \n",
            "  inflating: apex/apex/parallel/distributed.py  \n",
            "  inflating: apex/apex/parallel/optimized_sync_batchnorm_kernel.py  \n",
            "  inflating: apex/apex/parallel/__init__.py  \n",
            "   creating: apex/apex/parallel/__pycache__/\n",
            "  inflating: apex/apex/parallel/__pycache__/__init__.cpython-310.pyc  \n",
            "  inflating: apex/apex/parallel/__pycache__/distributed.cpython-310.pyc  \n",
            "  inflating: apex/apex/parallel/__pycache__/LARC.cpython-310.pyc  \n",
            "  inflating: apex/apex/parallel/__pycache__/optimized_sync_batchnorm_kernel.cpython-310.pyc  \n",
            "  inflating: apex/apex/parallel/__pycache__/optimized_sync_batchnorm.cpython-310.pyc  \n",
            "  inflating: apex/apex/parallel/README.md  \n",
            "  inflating: apex/apex/parallel/LARC.py  \n",
            "  inflating: apex/apex/parallel/sync_batchnorm.py  \n",
            "  inflating: apex/apex/parallel/optimized_sync_batchnorm.py  \n",
            "   creating: apex/apex/contrib/\n",
            "   creating: apex/apex/contrib/examples/\n",
            "   creating: apex/apex/contrib/examples/multihead_attn/\n",
            "  inflating: apex/apex/contrib/examples/multihead_attn/func_test_multihead_attn.py  \n",
            "  inflating: apex/apex/contrib/examples/multihead_attn/perf_test_multihead_attn.py  \n",
            "   creating: apex/apex/contrib/conv_bias_relu/\n",
            "  inflating: apex/apex/contrib/conv_bias_relu/__init__.py  \n",
            "  inflating: apex/apex/contrib/conv_bias_relu/conv_bias_relu.py  \n",
            "   creating: apex/apex/contrib/transducer/\n",
            "  inflating: apex/apex/contrib/transducer/__init__.py  \n",
            "  inflating: apex/apex/contrib/transducer/transducer.py  \n",
            "  inflating: apex/apex/contrib/transducer/_transducer_ref.py  \n",
            "   creating: apex/apex/contrib/clip_grad/\n",
            "  inflating: apex/apex/contrib/clip_grad/clip_grad.py  \n",
            "  inflating: apex/apex/contrib/clip_grad/__init__.py  \n",
            "   creating: apex/apex/contrib/test/\n",
            "   creating: apex/apex/contrib/test/conv_bias_relu/\n",
            " extracting: apex/apex/contrib/test/conv_bias_relu/__init__.py  \n",
            "  inflating: apex/apex/contrib/test/conv_bias_relu/test_conv_bias_relu.py  \n",
            "   creating: apex/apex/contrib/test/transducer/\n",
            " extracting: apex/apex/contrib/test/transducer/__init__.py  \n",
            "  inflating: apex/apex/contrib/test/transducer/test_transducer_loss.py  \n",
            "  inflating: apex/apex/contrib/test/transducer/test_transducer_joint.py  \n",
            "   creating: apex/apex/contrib/test/fused_dense/\n",
            "  inflating: apex/apex/contrib/test/fused_dense/test_fused_dense.py  \n",
            "   creating: apex/apex/contrib/test/clip_grad/\n",
            " extracting: apex/apex/contrib/test/clip_grad/__init__.py  \n",
            "  inflating: apex/apex/contrib/test/clip_grad/test_clip_grad.py  \n",
            " extracting: apex/apex/contrib/test/__init__.py  \n",
            "   creating: apex/apex/contrib/test/xentropy/\n",
            "  inflating: apex/apex/contrib/test/xentropy/test_label_smoothing.py  \n",
            " extracting: apex/apex/contrib/test/xentropy/__init__.py  \n",
            "   creating: apex/apex/contrib/test/focal_loss/\n",
            "  inflating: apex/apex/contrib/test/focal_loss/test_focal_loss.py  \n",
            " extracting: apex/apex/contrib/test/focal_loss/__init__.py  \n",
            "   creating: apex/apex/contrib/test/cudnn_gbn/\n",
            " extracting: apex/apex/contrib/test/cudnn_gbn/__init__.py  \n",
            "  inflating: apex/apex/contrib/test/cudnn_gbn/test_cudnn_gbn_with_two_gpus.py  \n",
            "   creating: apex/apex/contrib/test/multihead_attn/\n",
            "  inflating: apex/apex/contrib/test/multihead_attn/test_encdec_multihead_attn.py  \n",
            "  inflating: apex/apex/contrib/test/multihead_attn/test_encdec_multihead_attn_norm_add.py  \n",
            " extracting: apex/apex/contrib/test/multihead_attn/__init__.py  \n",
            "  inflating: apex/apex/contrib/test/multihead_attn/test_mha_fused_softmax.py  \n",
            "  inflating: apex/apex/contrib/test/multihead_attn/test_fast_self_multihead_attn_bias.py  \n",
            "  inflating: apex/apex/contrib/test/multihead_attn/test_self_multihead_attn.py  \n",
            "  inflating: apex/apex/contrib/test/multihead_attn/test_self_multihead_attn_norm_add.py  \n",
            "   creating: apex/apex/contrib/test/peer_memory/\n",
            " extracting: apex/apex/contrib/test/peer_memory/__init__.py  \n",
            "  inflating: apex/apex/contrib/test/peer_memory/test_peer_halo_exchange_module.py  \n",
            "   creating: apex/apex/contrib/test/optimizers/\n",
            "  inflating: apex/apex/contrib/test/optimizers/test_dist_adam.py  \n",
            " extracting: apex/apex/contrib/test/optimizers/__init__.py  \n",
            "  inflating: apex/apex/contrib/test/optimizers/test_distributed_fused_lamb.py  \n",
            "   creating: apex/apex/contrib/test/bottleneck/\n",
            "  inflating: apex/apex/contrib/test/bottleneck/test_bottleneck_module.py  \n",
            " extracting: apex/apex/contrib/test/bottleneck/__init__.py  \n",
            "   creating: apex/apex/contrib/test/index_mul_2d/\n",
            " extracting: apex/apex/contrib/test/index_mul_2d/__init__.py  \n",
            "  inflating: apex/apex/contrib/test/index_mul_2d/test_index_mul_2d.py  \n",
            "   creating: apex/apex/contrib/test/fmha/\n",
            "  inflating: apex/apex/contrib/test/fmha/test_fmha.py  \n",
            " extracting: apex/apex/contrib/test/fmha/__init__.py  \n",
            "   creating: apex/apex/contrib/test/layer_norm/\n",
            " extracting: apex/apex/contrib/test/layer_norm/__init__.py  \n",
            "  inflating: apex/apex/contrib/test/layer_norm/test_fast_layer_norm.py  \n",
            " extracting: apex/apex/contrib/__init__.py  \n",
            "   creating: apex/apex/contrib/xentropy/\n",
            "  inflating: apex/apex/contrib/xentropy/__init__.py  \n",
            "  inflating: apex/apex/contrib/xentropy/softmax_xentropy.py  \n",
            "   creating: apex/apex/contrib/__pycache__/\n",
            "  inflating: apex/apex/contrib/__pycache__/__init__.cpython-310.pyc  \n",
            "   creating: apex/apex/contrib/focal_loss/\n",
            "  inflating: apex/apex/contrib/focal_loss/__init__.py  \n",
            "  inflating: apex/apex/contrib/focal_loss/focal_loss.py  \n",
            "   creating: apex/apex/contrib/groupbn/\n",
            "  inflating: apex/apex/contrib/groupbn/__init__.py  \n",
            "  inflating: apex/apex/contrib/groupbn/batch_norm.py  \n",
            "   creating: apex/apex/contrib/cudnn_gbn/\n",
            "  inflating: apex/apex/contrib/cudnn_gbn/__init__.py  \n",
            "  inflating: apex/apex/contrib/cudnn_gbn/batch_norm.py  \n",
            "   creating: apex/apex/contrib/multihead_attn/\n",
            "  inflating: apex/apex/contrib/multihead_attn/fast_encdec_multihead_attn_func.py  \n",
            "  inflating: apex/apex/contrib/multihead_attn/fast_self_multihead_attn_norm_add_func.py  \n",
            "  inflating: apex/apex/contrib/multihead_attn/encdec_multihead_attn.py  \n",
            "  inflating: apex/apex/contrib/multihead_attn/encdec_multihead_attn_func.py  \n",
            "  inflating: apex/apex/contrib/multihead_attn/self_multihead_attn.py  \n",
            "  inflating: apex/apex/contrib/multihead_attn/self_multihead_attn_func.py  \n",
            "  inflating: apex/apex/contrib/multihead_attn/__init__.py  \n",
            "  inflating: apex/apex/contrib/multihead_attn/mask_softmax_dropout_func.py  \n",
            "  inflating: apex/apex/contrib/multihead_attn/fast_encdec_multihead_attn_norm_add_func.py  \n",
            "  inflating: apex/apex/contrib/multihead_attn/README.md  \n",
            "  inflating: apex/apex/contrib/multihead_attn/MHA_bwd.png  \n",
            "  inflating: apex/apex/contrib/multihead_attn/fast_self_multihead_attn_func.py  \n",
            "  inflating: apex/apex/contrib/multihead_attn/MHA_fwd.png  \n",
            "   creating: apex/apex/contrib/csrc/\n",
            "   creating: apex/apex/contrib/csrc/conv_bias_relu/\n",
            "  inflating: apex/apex/contrib/csrc/conv_bias_relu/conv_bias_relu.cpp  \n",
            "   creating: apex/apex/contrib/csrc/transducer/\n",
            "  inflating: apex/apex/contrib/csrc/transducer/transducer_loss.cpp  \n",
            "  inflating: apex/apex/contrib/csrc/transducer/transducer_loss_kernel.cu  \n",
            "  inflating: apex/apex/contrib/csrc/transducer/transducer_joint_kernel.cu  \n",
            "  inflating: apex/apex/contrib/csrc/transducer/transducer_joint.cpp  \n",
            "   creating: apex/apex/contrib/csrc/xentropy/\n",
            "  inflating: apex/apex/contrib/csrc/xentropy/interface.cpp  \n",
            "  inflating: apex/apex/contrib/csrc/xentropy/xentropy_kernel.cu  \n",
            "   creating: apex/apex/contrib/csrc/focal_loss/\n",
            "  inflating: apex/apex/contrib/csrc/focal_loss/focal_loss_cuda.cpp  \n",
            "  inflating: apex/apex/contrib/csrc/focal_loss/focal_loss_cuda_kernel.cu  \n",
            "   creating: apex/apex/contrib/csrc/groupbn/\n",
            "  inflating: apex/apex/contrib/csrc/groupbn/ipc.cu  \n",
            "  inflating: apex/apex/contrib/csrc/groupbn/interface.cpp  \n",
            "  inflating: apex/apex/contrib/csrc/groupbn/nhwc_batch_norm_kernel.h  \n",
            "  inflating: apex/apex/contrib/csrc/groupbn/batch_norm_add_relu.h  \n",
            "  inflating: apex/apex/contrib/csrc/groupbn/batch_norm.cu  \n",
            "  inflating: apex/apex/contrib/csrc/groupbn/batch_norm_add_relu.cu  \n",
            "  inflating: apex/apex/contrib/csrc/groupbn/batch_norm.h  \n",
            "  inflating: apex/apex/contrib/csrc/groupbn/cuda_utils.h  \n",
            "   creating: apex/apex/contrib/csrc/cudnn_gbn/\n",
            "  inflating: apex/apex/contrib/csrc/cudnn_gbn/norm_sample.h  \n",
            "  inflating: apex/apex/contrib/csrc/cudnn_gbn/cudnn_gbn.cpp  \n",
            "  inflating: apex/apex/contrib/csrc/cudnn_gbn/norm_sample.cpp  \n",
            "   creating: apex/apex/contrib/csrc/cudnn-frontend/\n",
            "   creating: apex/apex/contrib/csrc/multihead_attn/\n",
            "  inflating: apex/apex/contrib/csrc/multihead_attn/dropout.cuh  \n",
            "  inflating: apex/apex/contrib/csrc/multihead_attn/layer_norm.cuh  \n",
            "  inflating: apex/apex/contrib/csrc/multihead_attn/self_multihead_attn_bias_cuda.cu  \n",
            "  inflating: apex/apex/contrib/csrc/multihead_attn/self_multihead_attn_norm_add_cuda.cu  \n",
            "  inflating: apex/apex/contrib/csrc/multihead_attn/self_multihead_attn_bias_additive_mask_cuda.cu  \n",
            "  inflating: apex/apex/contrib/csrc/multihead_attn/encdec_multihead_attn_norm_add_cuda.cu  \n",
            "  inflating: apex/apex/contrib/csrc/multihead_attn/additive_masked_softmax_dropout_cuda.cu  \n",
            "  inflating: apex/apex/contrib/csrc/multihead_attn/multihead_attn_frontend.cpp  \n",
            "  inflating: apex/apex/contrib/csrc/multihead_attn/philox.cuh  \n",
            "  inflating: apex/apex/contrib/csrc/multihead_attn/self_multihead_attn_cuda.cu  \n",
            "  inflating: apex/apex/contrib/csrc/multihead_attn/strided_batched_gemm.cuh  \n",
            "  inflating: apex/apex/contrib/csrc/multihead_attn/encdec_multihead_attn_cuda.cu  \n",
            "  inflating: apex/apex/contrib/csrc/multihead_attn/softmax.cuh  \n",
            "  inflating: apex/apex/contrib/csrc/multihead_attn/masked_softmax_dropout_cuda.cu  \n",
            "   creating: apex/apex/contrib/csrc/multihead_attn/cutlass/\n",
            "   creating: apex/apex/contrib/csrc/peer_memory/\n",
            "  inflating: apex/apex/contrib/csrc/peer_memory/peer_memory_cuda.cu  \n",
            "  inflating: apex/apex/contrib/csrc/peer_memory/peer_memory_cuda.cuh  \n",
            "  inflating: apex/apex/contrib/csrc/peer_memory/peer_memory.cpp  \n",
            "   creating: apex/apex/contrib/csrc/optimizers/\n",
            "  inflating: apex/apex/contrib/csrc/optimizers/fused_adam_cuda.cpp  \n",
            "  inflating: apex/apex/contrib/csrc/optimizers/fused_adam_cuda_kernel.cu  \n",
            "  inflating: apex/apex/contrib/csrc/optimizers/fused_lamb_cuda.cpp  \n",
            "  inflating: apex/apex/contrib/csrc/optimizers/multi_tensor_distopt_lamb.cpp  \n",
            "  inflating: apex/apex/contrib/csrc/optimizers/multi_tensor_distopt_adam_kernel.cu  \n",
            "  inflating: apex/apex/contrib/csrc/optimizers/fused_lamb_cuda_kernel.cu  \n",
            "  inflating: apex/apex/contrib/csrc/optimizers/multi_tensor_distopt_lamb_kernel.cu  \n",
            "  inflating: apex/apex/contrib/csrc/optimizers/multi_tensor_distopt_adam.cpp  \n",
            "   creating: apex/apex/contrib/csrc/bottleneck/\n",
            "  inflating: apex/apex/contrib/csrc/bottleneck/bottleneck.cpp  \n",
            "   creating: apex/apex/contrib/csrc/index_mul_2d/\n",
            "  inflating: apex/apex/contrib/csrc/index_mul_2d/index_mul_2d_cuda.cpp  \n",
            "  inflating: apex/apex/contrib/csrc/index_mul_2d/index_mul_2d_cuda_kernel.cu  \n",
            "   creating: apex/apex/contrib/csrc/fmha/\n",
            "  inflating: apex/apex/contrib/csrc/fmha/fmha_api.cpp  \n",
            "   creating: apex/apex/contrib/csrc/fmha/src/\n",
            "  inflating: apex/apex/contrib/csrc/fmha/src/fmha_fprop_fp16_512_64_kernel.sm80.cu  \n",
            "  inflating: apex/apex/contrib/csrc/fmha/src/fmha_fprop_fp16_128_64_kernel.sm80.cu  \n",
            "  inflating: apex/apex/contrib/csrc/fmha/src/fmha_dgrad_kernel_1xN_reload_nl.h  \n",
            "  inflating: apex/apex/contrib/csrc/fmha/src/fmha_fill.cu  \n",
            "  inflating: apex/apex/contrib/csrc/fmha/src/fmha_kernel.h  \n",
            "  inflating: apex/apex/contrib/csrc/fmha/src/fmha_dgrad_fp16_256_64_kernel.sm80.cu  \n",
            "  inflating: apex/apex/contrib/csrc/fmha/src/fmha_fprop_kernel_1xN.h  \n",
            "  inflating: apex/apex/contrib/csrc/fmha/src/fmha_fprop_fp16_384_64_kernel.sm80.cu  \n",
            "  inflating: apex/apex/contrib/csrc/fmha/src/fmha.h  \n",
            "  inflating: apex/apex/contrib/csrc/fmha/src/fmha_dgrad_fp16_512_64_kernel.sm80.cu  \n",
            "  inflating: apex/apex/contrib/csrc/fmha/src/fmha_noloop_reduce.cu  \n",
            "  inflating: apex/apex/contrib/csrc/fmha/src/fmha_dgrad_kernel_1xN_reload.h  \n",
            "  inflating: apex/apex/contrib/csrc/fmha/src/fmha_dgrad_fp16_128_64_kernel.sm80.cu  \n",
            "   creating: apex/apex/contrib/csrc/fmha/src/fmha/\n",
            "  inflating: apex/apex/contrib/csrc/fmha/src/fmha/gmem_tile.h  \n",
            "  inflating: apex/apex/contrib/csrc/fmha/src/fmha/kernel_traits.h  \n",
            "  inflating: apex/apex/contrib/csrc/fmha/src/fmha/utils.h  \n",
            "  inflating: apex/apex/contrib/csrc/fmha/src/fmha/softmax.h  \n",
            "  inflating: apex/apex/contrib/csrc/fmha/src/fmha/smem_tile.h  \n",
            "  inflating: apex/apex/contrib/csrc/fmha/src/fmha/gemm.h  \n",
            "  inflating: apex/apex/contrib/csrc/fmha/src/fmha/mask.h  \n",
            "  inflating: apex/apex/contrib/csrc/fmha/src/fmha_fprop_fp16_256_64_kernel.sm80.cu  \n",
            "  inflating: apex/apex/contrib/csrc/fmha/src/fmha_utils.h  \n",
            "  inflating: apex/apex/contrib/csrc/fmha/src/fmha_dgrad_fp16_384_64_kernel.sm80.cu  \n",
            "   creating: apex/apex/contrib/csrc/layer_norm/\n",
            "  inflating: apex/apex/contrib/csrc/layer_norm/ln.h  \n",
            "  inflating: apex/apex/contrib/csrc/layer_norm/ln_utils.cuh  \n",
            "  inflating: apex/apex/contrib/csrc/layer_norm/ln_kernel_traits.h  \n",
            "  inflating: apex/apex/contrib/csrc/layer_norm/ln_bwd_semi_cuda_kernel.cu  \n",
            "  inflating: apex/apex/contrib/csrc/layer_norm/ln_api.cpp  \n",
            "  inflating: apex/apex/contrib/csrc/layer_norm/ln_fwd_cuda_kernel.cu  \n",
            "  inflating: apex/apex/contrib/csrc/layer_norm/ln_fwd_kernels.cuh  \n",
            "  inflating: apex/apex/contrib/csrc/layer_norm/ln_bwd_kernels.cuh  \n",
            "   creating: apex/apex/contrib/csrc/nccl_p2p/\n",
            "  inflating: apex/apex/contrib/csrc/nccl_p2p/nccl_p2p.cpp  \n",
            "  inflating: apex/apex/contrib/csrc/nccl_p2p/nccl_version_check.cu  \n",
            "  inflating: apex/apex/contrib/csrc/nccl_p2p/nccl_p2p_cuda.cuh  \n",
            "  inflating: apex/apex/contrib/csrc/nccl_p2p/nccl_p2p_cuda.cu  \n",
            "  inflating: apex/apex/contrib/csrc/nccl_p2p/nccl_version.cpp  \n",
            "   creating: apex/apex/contrib/peer_memory/\n",
            "  inflating: apex/apex/contrib/peer_memory/peer_memory.py  \n",
            "  inflating: apex/apex/contrib/peer_memory/__init__.py  \n",
            "  inflating: apex/apex/contrib/peer_memory/peer_halo_exchanger_1d.py  \n",
            "   creating: apex/apex/contrib/optimizers/\n",
            "  inflating: apex/apex/contrib/optimizers/distributed_fused_adam.py  \n",
            "  inflating: apex/apex/contrib/optimizers/fused_adam.py  \n",
            "  inflating: apex/apex/contrib/optimizers/__init__.py  \n",
            "   creating: apex/apex/contrib/optimizers/__pycache__/\n",
            "  inflating: apex/apex/contrib/optimizers/__pycache__/fused_adam.cpython-310.pyc  \n",
            "  inflating: apex/apex/contrib/optimizers/__pycache__/__init__.cpython-310.pyc  \n",
            "  inflating: apex/apex/contrib/optimizers/__pycache__/fused_lamb.cpython-310.pyc  \n",
            "  inflating: apex/apex/contrib/optimizers/__pycache__/fp16_optimizer.cpython-310.pyc  \n",
            "  inflating: apex/apex/contrib/optimizers/distributed_fused_lamb.py  \n",
            "  inflating: apex/apex/contrib/optimizers/fused_sgd.py  \n",
            "  inflating: apex/apex/contrib/optimizers/fused_lamb.py  \n",
            "  inflating: apex/apex/contrib/optimizers/fp16_optimizer.py  \n",
            "   creating: apex/apex/contrib/bottleneck/\n",
            "  inflating: apex/apex/contrib/bottleneck/bottleneck.py  \n",
            "  inflating: apex/apex/contrib/bottleneck/__init__.py  \n",
            "  inflating: apex/apex/contrib/bottleneck/test.py  \n",
            "  inflating: apex/apex/contrib/bottleneck/halo_exchangers.py  \n",
            "   creating: apex/apex/contrib/index_mul_2d/\n",
            "  inflating: apex/apex/contrib/index_mul_2d/__init__.py  \n",
            "  inflating: apex/apex/contrib/index_mul_2d/index_mul_2d.py  \n",
            "   creating: apex/apex/contrib/sparsity/\n",
            "  inflating: apex/apex/contrib/sparsity/sparse_masklib.py  \n",
            "   creating: apex/apex/contrib/sparsity/test/\n",
            "  inflating: apex/apex/contrib/sparsity/test/checkpointing_test_part1.py  \n",
            "  inflating: apex/apex/contrib/sparsity/test/checkpointing_test_part2.py  \n",
            "  inflating: apex/apex/contrib/sparsity/test/toy_problem.py  \n",
            "  inflating: apex/apex/contrib/sparsity/test/checkpointing_test_reference.py  \n",
            "  inflating: apex/apex/contrib/sparsity/test/test_permutation_application.py  \n",
            "  inflating: apex/apex/contrib/sparsity/__init__.py  \n",
            "  inflating: apex/apex/contrib/sparsity/permutation_lib.py  \n",
            "  inflating: apex/apex/contrib/sparsity/README.md  \n",
            "   creating: apex/apex/contrib/sparsity/permutation_tests/\n",
            "  inflating: apex/apex/contrib/sparsity/permutation_tests/permutation_test.py  \n",
            "  inflating: apex/apex/contrib/sparsity/permutation_tests/README.md  \n",
            "  inflating: apex/apex/contrib/sparsity/permutation_tests/ablation_studies.sh  \n",
            "  inflating: apex/apex/contrib/sparsity/permutation_tests/runtime_table.sh  \n",
            "  inflating: apex/apex/contrib/sparsity/permutation_tests/unstructured_study.sh  \n",
            "   creating: apex/apex/contrib/sparsity/permutation_search_kernels/\n",
            "  inflating: apex/apex/contrib/sparsity/permutation_search_kernels/exhaustive_search.py  \n",
            "   creating: apex/apex/contrib/sparsity/permutation_search_kernels/CUDA_kernels/\n",
            "  inflating: apex/apex/contrib/sparsity/permutation_search_kernels/CUDA_kernels/permutation_search_kernels.cu  \n",
            "  inflating: apex/apex/contrib/sparsity/permutation_search_kernels/channel_swap.py  \n",
            "  inflating: apex/apex/contrib/sparsity/permutation_search_kernels/__init__.py  \n",
            "  inflating: apex/apex/contrib/sparsity/permutation_search_kernels/call_permutation_search_kernels.py  \n",
            "  inflating: apex/apex/contrib/sparsity/permutation_search_kernels/permutation_utilities.py  \n",
            "  inflating: apex/apex/contrib/sparsity/asp.py  \n",
            "  inflating: apex/apex/contrib/sparsity/COPYRIGHT  \n",
            "   creating: apex/apex/contrib/fmha/\n",
            "  inflating: apex/apex/contrib/fmha/fmha.py  \n",
            " extracting: apex/apex/contrib/fmha/__init__.py  \n",
            "   creating: apex/apex/contrib/layer_norm/\n",
            "  inflating: apex/apex/contrib/layer_norm/layer_norm.py  \n",
            "  inflating: apex/apex/contrib/layer_norm/__init__.py  \n",
            "   creating: apex/apex/multi_tensor_apply/\n",
            "  inflating: apex/apex/multi_tensor_apply/multi_tensor_apply.py  \n",
            "  inflating: apex/apex/multi_tensor_apply/__init__.py  \n",
            "   creating: apex/apex/multi_tensor_apply/__pycache__/\n",
            "  inflating: apex/apex/multi_tensor_apply/__pycache__/multi_tensor_apply.cpython-310.pyc  \n",
            "  inflating: apex/apex/multi_tensor_apply/__pycache__/__init__.cpython-310.pyc  \n",
            "   creating: apex/apex/optimizers/\n",
            "  inflating: apex/apex/optimizers/fused_mixed_precision_lamb.py  \n",
            "  inflating: apex/apex/optimizers/fused_adam.py  \n",
            "  inflating: apex/apex/optimizers/fused_adagrad.py  \n",
            "  inflating: apex/apex/optimizers/__init__.py  \n",
            "   creating: apex/apex/optimizers/__pycache__/\n",
            "  inflating: apex/apex/optimizers/__pycache__/fused_adam.cpython-310.pyc  \n",
            "  inflating: apex/apex/optimizers/__pycache__/__init__.cpython-310.pyc  \n",
            "  inflating: apex/apex/optimizers/__pycache__/fused_novograd.cpython-310.pyc  \n",
            "  inflating: apex/apex/optimizers/__pycache__/fused_lamb.cpython-310.pyc  \n",
            "  inflating: apex/apex/optimizers/__pycache__/fused_mixed_precision_lamb.cpython-310.pyc  \n",
            "  inflating: apex/apex/optimizers/__pycache__/fused_sgd.cpython-310.pyc  \n",
            "  inflating: apex/apex/optimizers/__pycache__/fused_adagrad.cpython-310.pyc  \n",
            "  inflating: apex/apex/optimizers/fused_novograd.py  \n",
            "  inflating: apex/apex/optimizers/fused_sgd.py  \n",
            "  inflating: apex/apex/optimizers/fused_lamb.py  \n",
            "   creating: apex/apex/fp16_utils/\n",
            "  inflating: apex/apex/fp16_utils/fp16util.py  \n",
            "  inflating: apex/apex/fp16_utils/__init__.py  \n",
            "  inflating: apex/apex/fp16_utils/loss_scaler.py  \n",
            "   creating: apex/apex/fp16_utils/__pycache__/\n",
            "  inflating: apex/apex/fp16_utils/__pycache__/fp16util.cpython-310.pyc  \n",
            "  inflating: apex/apex/fp16_utils/__pycache__/__init__.cpython-310.pyc  \n",
            "  inflating: apex/apex/fp16_utils/__pycache__/loss_scaler.cpython-310.pyc  \n",
            "  inflating: apex/apex/fp16_utils/__pycache__/fp16_optimizer.cpython-310.pyc  \n",
            "  inflating: apex/apex/fp16_utils/README.md  \n",
            "  inflating: apex/apex/fp16_utils/fp16_optimizer.py  \n",
            "   creating: apex/apex/mlp/\n",
            " extracting: apex/apex/mlp/__init__.py  \n",
            "  inflating: apex/apex/mlp/mlp.py    \n",
            "   creating: apex/apex/transformer/\n",
            "  inflating: apex/apex/transformer/microbatches.py  \n",
            "   creating: apex/apex/transformer/functional/\n",
            "  inflating: apex/apex/transformer/functional/__init__.py  \n",
            "   creating: apex/apex/transformer/functional/__pycache__/\n",
            "  inflating: apex/apex/transformer/functional/__pycache__/__init__.cpython-310.pyc  \n",
            "  inflating: apex/apex/transformer/functional/__pycache__/fused_softmax.cpython-310.pyc  \n",
            "  inflating: apex/apex/transformer/functional/fused_softmax.py  \n",
            "   creating: apex/apex/transformer/amp/\n",
            "  inflating: apex/apex/transformer/amp/__init__.py  \n",
            "   creating: apex/apex/transformer/amp/__pycache__/\n",
            "  inflating: apex/apex/transformer/amp/__pycache__/grad_scaler.cpython-310.pyc  \n",
            "  inflating: apex/apex/transformer/amp/__pycache__/__init__.cpython-310.pyc  \n",
            "  inflating: apex/apex/transformer/amp/grad_scaler.py  \n",
            "   creating: apex/apex/transformer/tensor_parallel/\n",
            "  inflating: apex/apex/transformer/tensor_parallel/cross_entropy.py  \n",
            "  inflating: apex/apex/transformer/tensor_parallel/memory.py  \n",
            "  inflating: apex/apex/transformer/tensor_parallel/data.py  \n",
            "  inflating: apex/apex/transformer/tensor_parallel/layers.py  \n",
            "  inflating: apex/apex/transformer/tensor_parallel/__init__.py  \n",
            "   creating: apex/apex/transformer/tensor_parallel/__pycache__/\n",
            "  inflating: apex/apex/transformer/tensor_parallel/__pycache__/utils.cpython-310.pyc  \n",
            "  inflating: apex/apex/transformer/tensor_parallel/__pycache__/random.cpython-310.pyc  \n",
            "  inflating: apex/apex/transformer/tensor_parallel/__pycache__/layers.cpython-310.pyc  \n",
            "  inflating: apex/apex/transformer/tensor_parallel/__pycache__/cross_entropy.cpython-310.pyc  \n",
            "  inflating: apex/apex/transformer/tensor_parallel/__pycache__/__init__.cpython-310.pyc  \n",
            "  inflating: apex/apex/transformer/tensor_parallel/__pycache__/data.cpython-310.pyc  \n",
            "  inflating: apex/apex/transformer/tensor_parallel/__pycache__/memory.cpython-310.pyc  \n",
            "  inflating: apex/apex/transformer/tensor_parallel/__pycache__/mappings.cpython-310.pyc  \n",
            "  inflating: apex/apex/transformer/tensor_parallel/random.py  \n",
            "  inflating: apex/apex/transformer/tensor_parallel/utils.py  \n",
            "  inflating: apex/apex/transformer/tensor_parallel/mappings.py  \n",
            "  inflating: apex/apex/transformer/__init__.py  \n",
            "  inflating: apex/apex/transformer/enums.py  \n",
            "   creating: apex/apex/transformer/__pycache__/\n",
            "  inflating: apex/apex/transformer/__pycache__/utils.cpython-310.pyc  \n",
            "  inflating: apex/apex/transformer/__pycache__/__init__.cpython-310.pyc  \n",
            "  inflating: apex/apex/transformer/__pycache__/enums.cpython-310.pyc  \n",
            "  inflating: apex/apex/transformer/__pycache__/_ucc_util.cpython-310.pyc  \n",
            "  inflating: apex/apex/transformer/__pycache__/microbatches.cpython-310.pyc  \n",
            "  inflating: apex/apex/transformer/__pycache__/log_util.cpython-310.pyc  \n",
            "  inflating: apex/apex/transformer/__pycache__/parallel_state.cpython-310.pyc  \n",
            "   creating: apex/apex/transformer/testing/\n",
            "  inflating: apex/apex/transformer/testing/standalone_bert.py  \n",
            " extracting: apex/apex/transformer/testing/__init__.py  \n",
            "  inflating: apex/apex/transformer/testing/arguments.py  \n",
            "  inflating: apex/apex/transformer/testing/commons.py  \n",
            "  inflating: apex/apex/transformer/testing/standalone_gpt.py  \n",
            "  inflating: apex/apex/transformer/testing/global_vars.py  \n",
            "  inflating: apex/apex/transformer/testing/distributed_test_base.py  \n",
            "  inflating: apex/apex/transformer/testing/standalone_transformer_lm.py  \n",
            "   creating: apex/apex/transformer/_data/\n",
            "  inflating: apex/apex/transformer/_data/__init__.py  \n",
            "  inflating: apex/apex/transformer/_data/_batchsampler.py  \n",
            "   creating: apex/apex/transformer/pipeline_parallel/\n",
            "  inflating: apex/apex/transformer/pipeline_parallel/__init__.py  \n",
            "   creating: apex/apex/transformer/pipeline_parallel/__pycache__/\n",
            "  inflating: apex/apex/transformer/pipeline_parallel/__pycache__/utils.cpython-310.pyc  \n",
            "  inflating: apex/apex/transformer/pipeline_parallel/__pycache__/__init__.cpython-310.pyc  \n",
            "  inflating: apex/apex/transformer/pipeline_parallel/__pycache__/p2p_communication.cpython-310.pyc  \n",
            "  inflating: apex/apex/transformer/pipeline_parallel/__pycache__/_timers.cpython-310.pyc  \n",
            "  inflating: apex/apex/transformer/pipeline_parallel/_timers.py  \n",
            "   creating: apex/apex/transformer/pipeline_parallel/schedules/\n",
            "  inflating: apex/apex/transformer/pipeline_parallel/schedules/fwd_bwd_pipelining_without_interleaving.py  \n",
            "  inflating: apex/apex/transformer/pipeline_parallel/schedules/fwd_bwd_pipelining_with_interleaving.py  \n",
            "  inflating: apex/apex/transformer/pipeline_parallel/schedules/__init__.py  \n",
            "   creating: apex/apex/transformer/pipeline_parallel/schedules/__pycache__/\n",
            "  inflating: apex/apex/transformer/pipeline_parallel/schedules/__pycache__/common.cpython-310.pyc  \n",
            "  inflating: apex/apex/transformer/pipeline_parallel/schedules/__pycache__/fwd_bwd_pipelining_with_interleaving.cpython-310.pyc  \n",
            "  inflating: apex/apex/transformer/pipeline_parallel/schedules/__pycache__/__init__.cpython-310.pyc  \n",
            "  inflating: apex/apex/transformer/pipeline_parallel/schedules/__pycache__/fwd_bwd_no_pipelining.cpython-310.pyc  \n",
            "  inflating: apex/apex/transformer/pipeline_parallel/schedules/__pycache__/fwd_bwd_pipelining_without_interleaving.cpython-310.pyc  \n",
            "  inflating: apex/apex/transformer/pipeline_parallel/schedules/fwd_bwd_no_pipelining.py  \n",
            "  inflating: apex/apex/transformer/pipeline_parallel/schedules/common.py  \n",
            "  inflating: apex/apex/transformer/pipeline_parallel/utils.py  \n",
            "  inflating: apex/apex/transformer/pipeline_parallel/p2p_communication.py  \n",
            "  inflating: apex/apex/transformer/README.md  \n",
            "  inflating: apex/apex/transformer/log_util.py  \n",
            "  inflating: apex/apex/transformer/_ucc_util.py  \n",
            "  inflating: apex/apex/transformer/parallel_state.py  \n",
            "  inflating: apex/apex/transformer/utils.py  \n",
            "   creating: apex/apex/transformer/layers/\n",
            "  inflating: apex/apex/transformer/layers/layer_norm.py  \n",
            "  inflating: apex/apex/transformer/layers/__init__.py  \n",
            "   creating: apex/apex/RNN/\n",
            "  inflating: apex/apex/RNN/RNNBackend.py  \n",
            "  inflating: apex/apex/RNN/__init__.py  \n",
            "  inflating: apex/apex/RNN/README.md  \n",
            "  inflating: apex/apex/RNN/models.py  \n",
            "  inflating: apex/apex/RNN/cells.py  \n",
            "  inflating: apex/README.md          \n",
            "   creating: apex/csrc/\n",
            "  inflating: apex/csrc/fused_dense_cuda.cu  \n",
            "  inflating: apex/csrc/instance_norm_nvfuser_kernel.cu  \n",
            "  inflating: apex/csrc/multi_tensor_lamb.cu  \n",
            "  inflating: apex/csrc/multi_tensor_novograd.cu  \n",
            "  inflating: apex/csrc/layer_norm_cuda_kernel.cu  \n",
            "  inflating: apex/csrc/multi_tensor_axpby_kernel.cu  \n",
            "  inflating: apex/csrc/compat.h      \n",
            "  inflating: apex/csrc/multi_tensor_l2norm_kernel.cu  \n",
            "  inflating: apex/csrc/welford.cu    \n",
            "  inflating: apex/csrc/multi_tensor_scale_kernel.cu  \n",
            "  inflating: apex/csrc/multi_tensor_lamb_mp.cu  \n",
            "  inflating: apex/csrc/mlp_cuda.cu   \n",
            "  inflating: apex/csrc/flatten_unflatten.cpp  \n",
            "  inflating: apex/csrc/multi_tensor_lamb_stage_2.cu  \n",
            "  inflating: apex/csrc/instance_norm_nvfuser.cpp  \n",
            "  inflating: apex/csrc/multi_tensor_adagrad.cu  \n",
            "   creating: apex/csrc/megatron/\n",
            "  inflating: apex/csrc/megatron/generic_scaled_masked_softmax_cuda.cu  \n",
            "  inflating: apex/csrc/megatron/scaled_masked_softmax.h  \n",
            "  inflating: apex/csrc/megatron/scaled_softmax.cpp  \n",
            "  inflating: apex/csrc/megatron/scaled_upper_triang_masked_softmax.cpp  \n",
            "  inflating: apex/csrc/megatron/scaled_upper_triang_masked_softmax.h  \n",
            "  inflating: apex/csrc/megatron/scaled_masked_softmax.cpp  \n",
            "  inflating: apex/csrc/megatron/scaled_upper_triang_masked_softmax_cuda.cu  \n",
            "  inflating: apex/csrc/megatron/scaled_softmax_cuda.cu  \n",
            "  inflating: apex/csrc/megatron/generic_scaled_masked_softmax.h  \n",
            "  inflating: apex/csrc/megatron/scaled_masked_softmax_cuda.cu  \n",
            "  inflating: apex/csrc/megatron/fused_weight_gradient_dense.cpp  \n",
            "  inflating: apex/csrc/megatron/fused_weight_gradient_dense_cuda.cu  \n",
            "  inflating: apex/csrc/megatron/fused_weight_gradient_dense_16bit_prec_cuda.cu  \n",
            "  inflating: apex/csrc/megatron/generic_scaled_masked_softmax.cpp  \n",
            "  inflating: apex/csrc/multi_tensor_lamb_stage_1.cu  \n",
            "  inflating: apex/csrc/multi_tensor_sgd_kernel.cu  \n",
            "  inflating: apex/csrc/syncbn.cpp    \n",
            "  inflating: apex/csrc/fused_dense.cpp  \n",
            "  inflating: apex/csrc/multi_tensor_apply.cuh  \n",
            "  inflating: apex/csrc/mlp.cpp       \n",
            "  inflating: apex/csrc/multi_tensor_l2norm_kernel_mp.cu  \n",
            "  inflating: apex/csrc/type_shim.h   \n",
            "  inflating: apex/csrc/amp_C_frontend.cpp  \n",
            "  inflating: apex/csrc/multi_tensor_l2norm_scale_kernel.cu  \n",
            "  inflating: apex/csrc/multi_tensor_adam.cu  \n",
            "  inflating: apex/csrc/layer_norm_cuda.cpp  \n",
            " extracting: apex/.nojekyll          \n",
            "   creating: apex/tests/\n",
            "   creating: apex/tests/distributed/\n",
            "   creating: apex/tests/distributed/amp_master_params/\n",
            "  inflating: apex/tests/distributed/amp_master_params/run.sh  \n",
            "  inflating: apex/tests/distributed/amp_master_params/compare.py  \n",
            "  inflating: apex/tests/distributed/amp_master_params/amp_master_params.py  \n",
            "   creating: apex/tests/distributed/synced_batchnorm/\n",
            "  inflating: apex/tests/distributed/synced_batchnorm/test_groups.py  \n",
            "  inflating: apex/tests/distributed/synced_batchnorm/unit_test.sh  \n",
            "  inflating: apex/tests/distributed/synced_batchnorm/two_gpu_test_different_batch_size.py  \n",
            "  inflating: apex/tests/distributed/synced_batchnorm/single_gpu_unit_test.py  \n",
            "  inflating: apex/tests/distributed/synced_batchnorm/python_single_gpu_unit_test.py  \n",
            "  inflating: apex/tests/distributed/synced_batchnorm/test_batchnorm1d.py  \n",
            "  inflating: apex/tests/distributed/synced_batchnorm/two_gpu_unit_test.py  \n",
            "   creating: apex/tests/distributed/DDP/\n",
            "  inflating: apex/tests/distributed/DDP/run_race_test.sh  \n",
            "  inflating: apex/tests/distributed/DDP/ddp_race_condition_test.py  \n",
            "   creating: apex/tests/L1/\n",
            "   creating: apex/tests/L1/common/\n",
            "  inflating: apex/tests/L1/common/compare.py  \n",
            "  inflating: apex/tests/L1/common/main_amp.py  \n",
            "  inflating: apex/tests/L1/common/run_test.sh  \n",
            "   creating: apex/tests/L1/cross_product_distributed/\n",
            "  inflating: apex/tests/L1/cross_product_distributed/run.sh  \n",
            "   creating: apex/tests/L1/cross_product/\n",
            "  inflating: apex/tests/L1/cross_product/run.sh  \n",
            "   creating: apex/tests/L1/transformer/\n",
            "  inflating: apex/tests/L1/transformer/pipeline_parallel_fwd_bwd_ucc_async.py  \n",
            "   creating: apex/tests/L0/\n",
            "  inflating: apex/tests/L0/run_test.py  \n",
            "   creating: apex/tests/L0/run_optimizers/\n",
            "  inflating: apex/tests/L0/run_optimizers/test_fused_novograd.py  \n",
            " extracting: apex/tests/L0/run_optimizers/__init__.py  \n",
            "  inflating: apex/tests/L0/run_optimizers/test_lamb.py  \n",
            "  inflating: apex/tests/L0/run_optimizers/test_fused_optimizer.py  \n",
            "  inflating: apex/tests/L0/run_optimizers/test_adam.py  \n",
            "   creating: apex/tests/L0/run_instance_norm_nvfuser/\n",
            "  inflating: apex/tests/L0/run_instance_norm_nvfuser/test_instance_norm_nvfuser.py  \n",
            " extracting: apex/tests/L0/run_instance_norm_nvfuser/__init__.py  \n",
            "   creating: apex/tests/L0/run_fp16util/\n",
            "  inflating: apex/tests/L0/run_fp16util/test_fp16util.py  \n",
            " extracting: apex/tests/L0/run_fp16util/__init__.py  \n",
            "   creating: apex/tests/L0/run_mlp/\n",
            "  inflating: apex/tests/L0/run_mlp/test_mlp.py  \n",
            "   creating: apex/tests/L0/run_fused_layer_norm/\n",
            "  inflating: apex/tests/L0/run_fused_layer_norm/test_fused_layer_norm.py  \n",
            "   creating: apex/tests/L0/run_deprecated/\n",
            "  inflating: apex/tests/L0/run_deprecated/test_deprecated_warning.py  \n",
            "   creating: apex/tests/L0/run_amp/\n",
            "  inflating: apex/tests/L0/run_amp/test_fused_sgd.py  \n",
            "  inflating: apex/tests/L0/run_amp/test_multi_tensor_scale.py  \n",
            "  inflating: apex/tests/L0/run_amp/test_promotion.py  \n",
            "  inflating: apex/tests/L0/run_amp/test_add_param_group.py  \n",
            "  inflating: apex/tests/L0/run_amp/test_basic_casts.py  \n",
            " extracting: apex/tests/L0/run_amp/__init__.py  \n",
            "  inflating: apex/tests/L0/run_amp/test_cache.py  \n",
            "  inflating: apex/tests/L0/run_amp/test_multi_tensor_axpby.py  \n",
            "  inflating: apex/tests/L0/run_amp/utils.py  \n",
            "  inflating: apex/tests/L0/run_amp/test_multi_tensor_l2norm.py  \n",
            "  inflating: apex/tests/L0/run_amp/test_checkpointing.py  \n",
            "  inflating: apex/tests/L0/run_amp/test_rnn.py  \n",
            "  inflating: apex/tests/L0/run_amp/test_larc.py  \n",
            "  inflating: apex/tests/L0/run_amp/test_multiple_models_optimizers_losses.py  \n",
            "   creating: apex/tests/L0/run_transformer/\n",
            "  inflating: apex/tests/L0/run_transformer/test_microbatches.py  \n",
            "  inflating: apex/tests/L0/run_transformer/test_bert_minimal.py  \n",
            "  inflating: apex/tests/L0/run_transformer/test_p2p_comm.py  \n",
            "  inflating: apex/tests/L0/run_transformer/gpt_scaling_test.py  \n",
            "  inflating: apex/tests/L0/run_transformer/test_fused_softmax.py  \n",
            "  inflating: apex/tests/L0/run_transformer/test_layers.py  \n",
            "  inflating: apex/tests/L0/run_transformer/test_mapping.py  \n",
            "  inflating: apex/tests/L0/run_transformer/test_gpt_minimal.py  \n",
            " extracting: apex/tests/L0/run_transformer/__init__.py  \n",
            "  inflating: apex/tests/L0/run_transformer/test_pipeline_parallel_fwd_bwd.py  \n",
            "  inflating: apex/tests/L0/run_transformer/test_dynamic_batchsize.py  \n",
            "  inflating: apex/tests/L0/run_transformer/test_data.py  \n",
            "  inflating: apex/tests/L0/run_transformer/test_parallel_state.py  \n",
            "  inflating: apex/tests/L0/run_transformer/test_random.py  \n",
            "  inflating: apex/tests/L0/run_transformer/test_batch_sampler.py  \n",
            "  inflating: apex/tests/L0/run_transformer/test_cross_entropy.py  \n",
            "  inflating: apex/tests/L0/run_transformer/test_transformer_utils.py  \n",
            "   creating: apex/tests/docker_extension_builds/\n",
            "  inflating: apex/tests/docker_extension_builds/run.sh  \n",
            "   creating: apex/logs/\n"
          ]
        }
      ]
    },
    {
      "cell_type": "code",
      "source": [
        "!git clone https://github.com/NVIDIA/apex\n",
        "%cd apex\n",
        "!git checkout 23.05\n",
        "!pip install -v --no-cache-dir --global-option=\"--cpp_ext\" --global-option=\"--cuda_ext\" ./\n",
        "!pip install openpyxl\n",
        "%cd ..\n",
        "!pip install sentencepiece"
      ],
      "metadata": {
        "colab": {
          "base_uri": "https://localhost:8080/"
        },
        "id": "lNNzmW9OEvFH",
        "outputId": "445c6f21-f56f-4899-eded-7e17d24a97d7"
      },
      "execution_count": null,
      "outputs": [
        {
          "output_type": "stream",
          "name": "stdout",
          "text": [
            "fatal: destination path 'apex' already exists and is not an empty directory.\n",
            "/content/apex\n",
            "HEAD is now at 0da3ffb use `nvfuser_codegen`\n",
            "Using pip 23.1.2 from /usr/local/lib/python3.10/dist-packages/pip (python 3.10)\n",
            "\u001b[33mDEPRECATION: --build-option and --global-option are deprecated. pip 23.3 will enforce this behaviour change. A possible replacement is to use --config-settings. Discussion can be found at https://github.com/pypa/pip/issues/11859\u001b[0m\u001b[33m\n",
            "\u001b[0m\u001b[33mWARNING: Implying --no-binary=:all: due to the presence of --build-option / --global-option. \u001b[0m\u001b[33m\n",
            "\u001b[0mProcessing /content/apex\n",
            "  Running command python setup.py egg_info\n",
            "\n",
            "\n",
            "  torch.__version__  = 2.1.0+cu118\n",
            "\n",
            "\n",
            "  running egg_info\n",
            "  creating /tmp/pip-pip-egg-info-6582uvmn/apex.egg-info\n",
            "  writing /tmp/pip-pip-egg-info-6582uvmn/apex.egg-info/PKG-INFO\n",
            "  writing dependency_links to /tmp/pip-pip-egg-info-6582uvmn/apex.egg-info/dependency_links.txt\n",
            "  writing requirements to /tmp/pip-pip-egg-info-6582uvmn/apex.egg-info/requires.txt\n",
            "  writing top-level names to /tmp/pip-pip-egg-info-6582uvmn/apex.egg-info/top_level.txt\n",
            "  writing manifest file '/tmp/pip-pip-egg-info-6582uvmn/apex.egg-info/SOURCES.txt'\n",
            "  reading manifest file '/tmp/pip-pip-egg-info-6582uvmn/apex.egg-info/SOURCES.txt'\n",
            "  adding license file 'LICENSE'\n",
            "  writing manifest file '/tmp/pip-pip-egg-info-6582uvmn/apex.egg-info/SOURCES.txt'\n",
            "  Preparing metadata (setup.py) ... \u001b[?25l\u001b[?25hdone\n",
            "Requirement already satisfied: packaging>20.6 in /usr/local/lib/python3.10/dist-packages (from apex==0.1) (23.2)\n",
            "Building wheels for collected packages: apex\n",
            "  Running command python setup.py bdist_wheel\n",
            "\n",
            "\n",
            "  torch.__version__  = 2.1.0+cu118\n",
            "\n",
            "\n",
            "\n",
            "  Compiling cuda extensions with\n",
            "  nvcc: NVIDIA (R) Cuda compiler driver\n",
            "  Copyright (c) 2005-2022 NVIDIA Corporation\n",
            "  Built on Wed_Sep_21_10:33:58_PDT_2022\n",
            "  Cuda compilation tools, release 11.8, V11.8.89\n",
            "  Build cuda_11.8.r11.8/compiler.31833905_0\n",
            "  from /usr/local/cuda/bin\n",
            "\n",
            "  running bdist_wheel\n",
            "  /usr/local/lib/python3.10/dist-packages/torch/utils/cpp_extension.py:502: UserWarning: Attempted to use ninja as the BuildExtension backend but we could not find ninja.. Falling back to using the slow distutils backend.\n",
            "    warnings.warn(msg.format('we could not find ninja.'))\n",
            "  running build\n",
            "  running build_py\n",
            "  running build_ext\n",
            "  /usr/local/lib/python3.10/dist-packages/torch/utils/cpp_extension.py:424: UserWarning: There are no x86_64-linux-gnu-g++ version bounds defined for CUDA version 11.8\n",
            "    warnings.warn(f'There are no {compiler_name} version bounds defined for CUDA version {cuda_str_version}')\n",
            "  /usr/local/lib/python3.10/dist-packages/setuptools/_distutils/cmd.py:66: SetuptoolsDeprecationWarning: setup.py install is deprecated.\n",
            "  !!\n",
            "\n",
            "          ********************************************************************************\n",
            "          Please avoid running ``setup.py`` directly.\n",
            "          Instead, use pypa/build, pypa/installer, pypa/build or\n",
            "          other standards-based tools.\n",
            "\n",
            "          See https://blog.ganssle.io/articles/2021/10/setup-py-deprecated.html for details.\n",
            "          ********************************************************************************\n",
            "\n",
            "  !!\n",
            "    self.initialize_options()\n",
            "  installing to build/bdist.linux-x86_64/wheel\n",
            "  running install\n",
            "  running install_lib\n",
            "  creating build/bdist.linux-x86_64/wheel\n",
            "  copying build/lib.linux-x86_64-cpython-310/syncbn.cpython-310-x86_64-linux-gnu.so -> build/bdist.linux-x86_64/wheel\n",
            "  copying build/lib.linux-x86_64-cpython-310/fused_layer_norm_cuda.cpython-310-x86_64-linux-gnu.so -> build/bdist.linux-x86_64/wheel\n",
            "  copying build/lib.linux-x86_64-cpython-310/mlp_cuda.cpython-310-x86_64-linux-gnu.so -> build/bdist.linux-x86_64/wheel\n",
            "  copying build/lib.linux-x86_64-cpython-310/scaled_upper_triang_masked_softmax_cuda.cpython-310-x86_64-linux-gnu.so -> build/bdist.linux-x86_64/wheel\n",
            "  copying build/lib.linux-x86_64-cpython-310/scaled_masked_softmax_cuda.cpython-310-x86_64-linux-gnu.so -> build/bdist.linux-x86_64/wheel\n",
            "  copying build/lib.linux-x86_64-cpython-310/generic_scaled_masked_softmax_cuda.cpython-310-x86_64-linux-gnu.so -> build/bdist.linux-x86_64/wheel\n",
            "  copying build/lib.linux-x86_64-cpython-310/scaled_softmax_cuda.cpython-310-x86_64-linux-gnu.so -> build/bdist.linux-x86_64/wheel\n",
            "  copying build/lib.linux-x86_64-cpython-310/apex_C.cpython-310-x86_64-linux-gnu.so -> build/bdist.linux-x86_64/wheel\n",
            "  creating build/bdist.linux-x86_64/wheel/apex\n",
            "  creating build/bdist.linux-x86_64/wheel/apex/amp\n",
            "  copying build/lib.linux-x86_64-cpython-310/apex/amp/__version__.py -> build/bdist.linux-x86_64/wheel/apex/amp\n",
            "  copying build/lib.linux-x86_64-cpython-310/apex/amp/scaler.py -> build/bdist.linux-x86_64/wheel/apex/amp\n",
            "  copying build/lib.linux-x86_64-cpython-310/apex/amp/opt.py -> build/bdist.linux-x86_64/wheel/apex/amp\n",
            "  creating build/bdist.linux-x86_64/wheel/apex/amp/lists\n",
            "  copying build/lib.linux-x86_64-cpython-310/apex/amp/lists/torch_overrides.py -> build/bdist.linux-x86_64/wheel/apex/amp/lists\n",
            "  copying build/lib.linux-x86_64-cpython-310/apex/amp/lists/functional_overrides.py -> build/bdist.linux-x86_64/wheel/apex/amp/lists\n",
            "  copying build/lib.linux-x86_64-cpython-310/apex/amp/lists/__init__.py -> build/bdist.linux-x86_64/wheel/apex/amp/lists\n",
            "  copying build/lib.linux-x86_64-cpython-310/apex/amp/lists/tensor_overrides.py -> build/bdist.linux-x86_64/wheel/apex/amp/lists\n",
            "  copying build/lib.linux-x86_64-cpython-310/apex/amp/_amp_state.py -> build/bdist.linux-x86_64/wheel/apex/amp\n",
            "  copying build/lib.linux-x86_64-cpython-310/apex/amp/rnn_compat.py -> build/bdist.linux-x86_64/wheel/apex/amp\n",
            "  copying build/lib.linux-x86_64-cpython-310/apex/amp/__init__.py -> build/bdist.linux-x86_64/wheel/apex/amp\n",
            "  copying build/lib.linux-x86_64-cpython-310/apex/amp/compat.py -> build/bdist.linux-x86_64/wheel/apex/amp\n",
            "  copying build/lib.linux-x86_64-cpython-310/apex/amp/frontend.py -> build/bdist.linux-x86_64/wheel/apex/amp\n",
            "  copying build/lib.linux-x86_64-cpython-310/apex/amp/wrap.py -> build/bdist.linux-x86_64/wheel/apex/amp\n",
            "  copying build/lib.linux-x86_64-cpython-310/apex/amp/_initialize.py -> build/bdist.linux-x86_64/wheel/apex/amp\n",
            "  copying build/lib.linux-x86_64-cpython-310/apex/amp/amp.py -> build/bdist.linux-x86_64/wheel/apex/amp\n",
            "  copying build/lib.linux-x86_64-cpython-310/apex/amp/handle.py -> build/bdist.linux-x86_64/wheel/apex/amp\n",
            "  copying build/lib.linux-x86_64-cpython-310/apex/amp/utils.py -> build/bdist.linux-x86_64/wheel/apex/amp\n",
            "  copying build/lib.linux-x86_64-cpython-310/apex/amp/_process_optimizer.py -> build/bdist.linux-x86_64/wheel/apex/amp\n",
            "  creating build/bdist.linux-x86_64/wheel/apex/fused_dense\n",
            "  copying build/lib.linux-x86_64-cpython-310/apex/fused_dense/__init__.py -> build/bdist.linux-x86_64/wheel/apex/fused_dense\n",
            "  copying build/lib.linux-x86_64-cpython-310/apex/fused_dense/fused_dense.py -> build/bdist.linux-x86_64/wheel/apex/fused_dense\n",
            "  copying build/lib.linux-x86_64-cpython-310/apex/_autocast_utils.py -> build/bdist.linux-x86_64/wheel/apex\n",
            "  creating build/bdist.linux-x86_64/wheel/apex/normalization\n",
            "  copying build/lib.linux-x86_64-cpython-310/apex/normalization/__init__.py -> build/bdist.linux-x86_64/wheel/apex/normalization\n",
            "  copying build/lib.linux-x86_64-cpython-310/apex/normalization/instance_norm.py -> build/bdist.linux-x86_64/wheel/apex/normalization\n",
            "  copying build/lib.linux-x86_64-cpython-310/apex/normalization/fused_layer_norm.py -> build/bdist.linux-x86_64/wheel/apex/normalization\n",
            "  copying build/lib.linux-x86_64-cpython-310/apex/__init__.py -> build/bdist.linux-x86_64/wheel/apex\n",
            "  creating build/bdist.linux-x86_64/wheel/apex/parallel\n",
            "  copying build/lib.linux-x86_64-cpython-310/apex/parallel/sync_batchnorm_kernel.py -> build/bdist.linux-x86_64/wheel/apex/parallel\n",
            "  copying build/lib.linux-x86_64-cpython-310/apex/parallel/multiproc.py -> build/bdist.linux-x86_64/wheel/apex/parallel\n",
            "  copying build/lib.linux-x86_64-cpython-310/apex/parallel/distributed.py -> build/bdist.linux-x86_64/wheel/apex/parallel\n",
            "  copying build/lib.linux-x86_64-cpython-310/apex/parallel/optimized_sync_batchnorm_kernel.py -> build/bdist.linux-x86_64/wheel/apex/parallel\n",
            "  copying build/lib.linux-x86_64-cpython-310/apex/parallel/__init__.py -> build/bdist.linux-x86_64/wheel/apex/parallel\n",
            "  copying build/lib.linux-x86_64-cpython-310/apex/parallel/LARC.py -> build/bdist.linux-x86_64/wheel/apex/parallel\n",
            "  copying build/lib.linux-x86_64-cpython-310/apex/parallel/sync_batchnorm.py -> build/bdist.linux-x86_64/wheel/apex/parallel\n",
            "  copying build/lib.linux-x86_64-cpython-310/apex/parallel/optimized_sync_batchnorm.py -> build/bdist.linux-x86_64/wheel/apex/parallel\n",
            "  creating build/bdist.linux-x86_64/wheel/apex/contrib\n",
            "  creating build/bdist.linux-x86_64/wheel/apex/contrib/conv_bias_relu\n",
            "  copying build/lib.linux-x86_64-cpython-310/apex/contrib/conv_bias_relu/__init__.py -> build/bdist.linux-x86_64/wheel/apex/contrib/conv_bias_relu\n",
            "  copying build/lib.linux-x86_64-cpython-310/apex/contrib/conv_bias_relu/conv_bias_relu.py -> build/bdist.linux-x86_64/wheel/apex/contrib/conv_bias_relu\n",
            "  creating build/bdist.linux-x86_64/wheel/apex/contrib/transducer\n",
            "  copying build/lib.linux-x86_64-cpython-310/apex/contrib/transducer/__init__.py -> build/bdist.linux-x86_64/wheel/apex/contrib/transducer\n",
            "  copying build/lib.linux-x86_64-cpython-310/apex/contrib/transducer/transducer.py -> build/bdist.linux-x86_64/wheel/apex/contrib/transducer\n",
            "  copying build/lib.linux-x86_64-cpython-310/apex/contrib/transducer/_transducer_ref.py -> build/bdist.linux-x86_64/wheel/apex/contrib/transducer\n",
            "  creating build/bdist.linux-x86_64/wheel/apex/contrib/clip_grad\n",
            "  copying build/lib.linux-x86_64-cpython-310/apex/contrib/clip_grad/clip_grad.py -> build/bdist.linux-x86_64/wheel/apex/contrib/clip_grad\n",
            "  copying build/lib.linux-x86_64-cpython-310/apex/contrib/clip_grad/__init__.py -> build/bdist.linux-x86_64/wheel/apex/contrib/clip_grad\n",
            "  creating build/bdist.linux-x86_64/wheel/apex/contrib/test\n",
            "  creating build/bdist.linux-x86_64/wheel/apex/contrib/test/conv_bias_relu\n",
            "  copying build/lib.linux-x86_64-cpython-310/apex/contrib/test/conv_bias_relu/__init__.py -> build/bdist.linux-x86_64/wheel/apex/contrib/test/conv_bias_relu\n",
            "  copying build/lib.linux-x86_64-cpython-310/apex/contrib/test/conv_bias_relu/test_conv_bias_relu.py -> build/bdist.linux-x86_64/wheel/apex/contrib/test/conv_bias_relu\n",
            "  creating build/bdist.linux-x86_64/wheel/apex/contrib/test/transducer\n",
            "  copying build/lib.linux-x86_64-cpython-310/apex/contrib/test/transducer/__init__.py -> build/bdist.linux-x86_64/wheel/apex/contrib/test/transducer\n",
            "  copying build/lib.linux-x86_64-cpython-310/apex/contrib/test/transducer/test_transducer_loss.py -> build/bdist.linux-x86_64/wheel/apex/contrib/test/transducer\n",
            "  copying build/lib.linux-x86_64-cpython-310/apex/contrib/test/transducer/test_transducer_joint.py -> build/bdist.linux-x86_64/wheel/apex/contrib/test/transducer\n",
            "  creating build/bdist.linux-x86_64/wheel/apex/contrib/test/clip_grad\n",
            "  copying build/lib.linux-x86_64-cpython-310/apex/contrib/test/clip_grad/__init__.py -> build/bdist.linux-x86_64/wheel/apex/contrib/test/clip_grad\n",
            "  copying build/lib.linux-x86_64-cpython-310/apex/contrib/test/clip_grad/test_clip_grad.py -> build/bdist.linux-x86_64/wheel/apex/contrib/test/clip_grad\n",
            "  copying build/lib.linux-x86_64-cpython-310/apex/contrib/test/__init__.py -> build/bdist.linux-x86_64/wheel/apex/contrib/test\n",
            "  creating build/bdist.linux-x86_64/wheel/apex/contrib/test/xentropy\n",
            "  copying build/lib.linux-x86_64-cpython-310/apex/contrib/test/xentropy/test_label_smoothing.py -> build/bdist.linux-x86_64/wheel/apex/contrib/test/xentropy\n",
            "  copying build/lib.linux-x86_64-cpython-310/apex/contrib/test/xentropy/__init__.py -> build/bdist.linux-x86_64/wheel/apex/contrib/test/xentropy\n",
            "  creating build/bdist.linux-x86_64/wheel/apex/contrib/test/focal_loss\n",
            "  copying build/lib.linux-x86_64-cpython-310/apex/contrib/test/focal_loss/test_focal_loss.py -> build/bdist.linux-x86_64/wheel/apex/contrib/test/focal_loss\n",
            "  copying build/lib.linux-x86_64-cpython-310/apex/contrib/test/focal_loss/__init__.py -> build/bdist.linux-x86_64/wheel/apex/contrib/test/focal_loss\n",
            "  creating build/bdist.linux-x86_64/wheel/apex/contrib/test/cudnn_gbn\n",
            "  copying build/lib.linux-x86_64-cpython-310/apex/contrib/test/cudnn_gbn/__init__.py -> build/bdist.linux-x86_64/wheel/apex/contrib/test/cudnn_gbn\n",
            "  copying build/lib.linux-x86_64-cpython-310/apex/contrib/test/cudnn_gbn/test_cudnn_gbn_with_two_gpus.py -> build/bdist.linux-x86_64/wheel/apex/contrib/test/cudnn_gbn\n",
            "  creating build/bdist.linux-x86_64/wheel/apex/contrib/test/multihead_attn\n",
            "  copying build/lib.linux-x86_64-cpython-310/apex/contrib/test/multihead_attn/test_encdec_multihead_attn.py -> build/bdist.linux-x86_64/wheel/apex/contrib/test/multihead_attn\n",
            "  copying build/lib.linux-x86_64-cpython-310/apex/contrib/test/multihead_attn/test_encdec_multihead_attn_norm_add.py -> build/bdist.linux-x86_64/wheel/apex/contrib/test/multihead_attn\n",
            "  copying build/lib.linux-x86_64-cpython-310/apex/contrib/test/multihead_attn/__init__.py -> build/bdist.linux-x86_64/wheel/apex/contrib/test/multihead_attn\n",
            "  copying build/lib.linux-x86_64-cpython-310/apex/contrib/test/multihead_attn/test_mha_fused_softmax.py -> build/bdist.linux-x86_64/wheel/apex/contrib/test/multihead_attn\n",
            "  copying build/lib.linux-x86_64-cpython-310/apex/contrib/test/multihead_attn/test_fast_self_multihead_attn_bias.py -> build/bdist.linux-x86_64/wheel/apex/contrib/test/multihead_attn\n",
            "  copying build/lib.linux-x86_64-cpython-310/apex/contrib/test/multihead_attn/test_self_multihead_attn.py -> build/bdist.linux-x86_64/wheel/apex/contrib/test/multihead_attn\n",
            "  copying build/lib.linux-x86_64-cpython-310/apex/contrib/test/multihead_attn/test_self_multihead_attn_norm_add.py -> build/bdist.linux-x86_64/wheel/apex/contrib/test/multihead_attn\n",
            "  creating build/bdist.linux-x86_64/wheel/apex/contrib/test/peer_memory\n",
            "  copying build/lib.linux-x86_64-cpython-310/apex/contrib/test/peer_memory/__init__.py -> build/bdist.linux-x86_64/wheel/apex/contrib/test/peer_memory\n",
            "  copying build/lib.linux-x86_64-cpython-310/apex/contrib/test/peer_memory/test_peer_halo_exchange_module.py -> build/bdist.linux-x86_64/wheel/apex/contrib/test/peer_memory\n",
            "  creating build/bdist.linux-x86_64/wheel/apex/contrib/test/optimizers\n",
            "  copying build/lib.linux-x86_64-cpython-310/apex/contrib/test/optimizers/test_dist_adam.py -> build/bdist.linux-x86_64/wheel/apex/contrib/test/optimizers\n",
            "  copying build/lib.linux-x86_64-cpython-310/apex/contrib/test/optimizers/__init__.py -> build/bdist.linux-x86_64/wheel/apex/contrib/test/optimizers\n",
            "  copying build/lib.linux-x86_64-cpython-310/apex/contrib/test/optimizers/test_distributed_fused_lamb.py -> build/bdist.linux-x86_64/wheel/apex/contrib/test/optimizers\n",
            "  creating build/bdist.linux-x86_64/wheel/apex/contrib/test/bottleneck\n",
            "  copying build/lib.linux-x86_64-cpython-310/apex/contrib/test/bottleneck/test_bottleneck_module.py -> build/bdist.linux-x86_64/wheel/apex/contrib/test/bottleneck\n",
            "  copying build/lib.linux-x86_64-cpython-310/apex/contrib/test/bottleneck/__init__.py -> build/bdist.linux-x86_64/wheel/apex/contrib/test/bottleneck\n",
            "  creating build/bdist.linux-x86_64/wheel/apex/contrib/test/index_mul_2d\n",
            "  copying build/lib.linux-x86_64-cpython-310/apex/contrib/test/index_mul_2d/__init__.py -> build/bdist.linux-x86_64/wheel/apex/contrib/test/index_mul_2d\n",
            "  copying build/lib.linux-x86_64-cpython-310/apex/contrib/test/index_mul_2d/test_index_mul_2d.py -> build/bdist.linux-x86_64/wheel/apex/contrib/test/index_mul_2d\n",
            "  creating build/bdist.linux-x86_64/wheel/apex/contrib/test/fmha\n",
            "  copying build/lib.linux-x86_64-cpython-310/apex/contrib/test/fmha/test_fmha.py -> build/bdist.linux-x86_64/wheel/apex/contrib/test/fmha\n",
            "  copying build/lib.linux-x86_64-cpython-310/apex/contrib/test/fmha/__init__.py -> build/bdist.linux-x86_64/wheel/apex/contrib/test/fmha\n",
            "  creating build/bdist.linux-x86_64/wheel/apex/contrib/test/layer_norm\n",
            "  copying build/lib.linux-x86_64-cpython-310/apex/contrib/test/layer_norm/__init__.py -> build/bdist.linux-x86_64/wheel/apex/contrib/test/layer_norm\n",
            "  copying build/lib.linux-x86_64-cpython-310/apex/contrib/test/layer_norm/test_fast_layer_norm.py -> build/bdist.linux-x86_64/wheel/apex/contrib/test/layer_norm\n",
            "  copying build/lib.linux-x86_64-cpython-310/apex/contrib/__init__.py -> build/bdist.linux-x86_64/wheel/apex/contrib\n",
            "  creating build/bdist.linux-x86_64/wheel/apex/contrib/xentropy\n",
            "  copying build/lib.linux-x86_64-cpython-310/apex/contrib/xentropy/__init__.py -> build/bdist.linux-x86_64/wheel/apex/contrib/xentropy\n",
            "  copying build/lib.linux-x86_64-cpython-310/apex/contrib/xentropy/softmax_xentropy.py -> build/bdist.linux-x86_64/wheel/apex/contrib/xentropy\n",
            "  creating build/bdist.linux-x86_64/wheel/apex/contrib/focal_loss\n",
            "  copying build/lib.linux-x86_64-cpython-310/apex/contrib/focal_loss/__init__.py -> build/bdist.linux-x86_64/wheel/apex/contrib/focal_loss\n",
            "  copying build/lib.linux-x86_64-cpython-310/apex/contrib/focal_loss/focal_loss.py -> build/bdist.linux-x86_64/wheel/apex/contrib/focal_loss\n",
            "  creating build/bdist.linux-x86_64/wheel/apex/contrib/groupbn\n",
            "  copying build/lib.linux-x86_64-cpython-310/apex/contrib/groupbn/__init__.py -> build/bdist.linux-x86_64/wheel/apex/contrib/groupbn\n",
            "  copying build/lib.linux-x86_64-cpython-310/apex/contrib/groupbn/batch_norm.py -> build/bdist.linux-x86_64/wheel/apex/contrib/groupbn\n",
            "  creating build/bdist.linux-x86_64/wheel/apex/contrib/cudnn_gbn\n",
            "  copying build/lib.linux-x86_64-cpython-310/apex/contrib/cudnn_gbn/__init__.py -> build/bdist.linux-x86_64/wheel/apex/contrib/cudnn_gbn\n",
            "  copying build/lib.linux-x86_64-cpython-310/apex/contrib/cudnn_gbn/batch_norm.py -> build/bdist.linux-x86_64/wheel/apex/contrib/cudnn_gbn\n",
            "  creating build/bdist.linux-x86_64/wheel/apex/contrib/multihead_attn\n",
            "  copying build/lib.linux-x86_64-cpython-310/apex/contrib/multihead_attn/fast_encdec_multihead_attn_func.py -> build/bdist.linux-x86_64/wheel/apex/contrib/multihead_attn\n",
            "  copying build/lib.linux-x86_64-cpython-310/apex/contrib/multihead_attn/fast_self_multihead_attn_norm_add_func.py -> build/bdist.linux-x86_64/wheel/apex/contrib/multihead_attn\n",
            "  copying build/lib.linux-x86_64-cpython-310/apex/contrib/multihead_attn/encdec_multihead_attn.py -> build/bdist.linux-x86_64/wheel/apex/contrib/multihead_attn\n",
            "  copying build/lib.linux-x86_64-cpython-310/apex/contrib/multihead_attn/encdec_multihead_attn_func.py -> build/bdist.linux-x86_64/wheel/apex/contrib/multihead_attn\n",
            "  copying build/lib.linux-x86_64-cpython-310/apex/contrib/multihead_attn/self_multihead_attn.py -> build/bdist.linux-x86_64/wheel/apex/contrib/multihead_attn\n",
            "  copying build/lib.linux-x86_64-cpython-310/apex/contrib/multihead_attn/self_multihead_attn_func.py -> build/bdist.linux-x86_64/wheel/apex/contrib/multihead_attn\n",
            "  copying build/lib.linux-x86_64-cpython-310/apex/contrib/multihead_attn/__init__.py -> build/bdist.linux-x86_64/wheel/apex/contrib/multihead_attn\n",
            "  copying build/lib.linux-x86_64-cpython-310/apex/contrib/multihead_attn/mask_softmax_dropout_func.py -> build/bdist.linux-x86_64/wheel/apex/contrib/multihead_attn\n",
            "  copying build/lib.linux-x86_64-cpython-310/apex/contrib/multihead_attn/fast_encdec_multihead_attn_norm_add_func.py -> build/bdist.linux-x86_64/wheel/apex/contrib/multihead_attn\n",
            "  copying build/lib.linux-x86_64-cpython-310/apex/contrib/multihead_attn/fast_self_multihead_attn_func.py -> build/bdist.linux-x86_64/wheel/apex/contrib/multihead_attn\n",
            "  creating build/bdist.linux-x86_64/wheel/apex/contrib/peer_memory\n",
            "  copying build/lib.linux-x86_64-cpython-310/apex/contrib/peer_memory/peer_memory.py -> build/bdist.linux-x86_64/wheel/apex/contrib/peer_memory\n",
            "  copying build/lib.linux-x86_64-cpython-310/apex/contrib/peer_memory/__init__.py -> build/bdist.linux-x86_64/wheel/apex/contrib/peer_memory\n",
            "  copying build/lib.linux-x86_64-cpython-310/apex/contrib/peer_memory/peer_halo_exchanger_1d.py -> build/bdist.linux-x86_64/wheel/apex/contrib/peer_memory\n",
            "  creating build/bdist.linux-x86_64/wheel/apex/contrib/optimizers\n",
            "  copying build/lib.linux-x86_64-cpython-310/apex/contrib/optimizers/distributed_fused_adam.py -> build/bdist.linux-x86_64/wheel/apex/contrib/optimizers\n",
            "  copying build/lib.linux-x86_64-cpython-310/apex/contrib/optimizers/fused_adam.py -> build/bdist.linux-x86_64/wheel/apex/contrib/optimizers\n",
            "  copying build/lib.linux-x86_64-cpython-310/apex/contrib/optimizers/__init__.py -> build/bdist.linux-x86_64/wheel/apex/contrib/optimizers\n",
            "  copying build/lib.linux-x86_64-cpython-310/apex/contrib/optimizers/distributed_fused_lamb.py -> build/bdist.linux-x86_64/wheel/apex/contrib/optimizers\n",
            "  copying build/lib.linux-x86_64-cpython-310/apex/contrib/optimizers/fused_sgd.py -> build/bdist.linux-x86_64/wheel/apex/contrib/optimizers\n",
            "  copying build/lib.linux-x86_64-cpython-310/apex/contrib/optimizers/fused_lamb.py -> build/bdist.linux-x86_64/wheel/apex/contrib/optimizers\n",
            "  copying build/lib.linux-x86_64-cpython-310/apex/contrib/optimizers/fp16_optimizer.py -> build/bdist.linux-x86_64/wheel/apex/contrib/optimizers\n",
            "  creating build/bdist.linux-x86_64/wheel/apex/contrib/bottleneck\n",
            "  copying build/lib.linux-x86_64-cpython-310/apex/contrib/bottleneck/bottleneck.py -> build/bdist.linux-x86_64/wheel/apex/contrib/bottleneck\n",
            "  copying build/lib.linux-x86_64-cpython-310/apex/contrib/bottleneck/__init__.py -> build/bdist.linux-x86_64/wheel/apex/contrib/bottleneck\n",
            "  copying build/lib.linux-x86_64-cpython-310/apex/contrib/bottleneck/test.py -> build/bdist.linux-x86_64/wheel/apex/contrib/bottleneck\n",
            "  copying build/lib.linux-x86_64-cpython-310/apex/contrib/bottleneck/halo_exchangers.py -> build/bdist.linux-x86_64/wheel/apex/contrib/bottleneck\n",
            "  creating build/bdist.linux-x86_64/wheel/apex/contrib/index_mul_2d\n",
            "  copying build/lib.linux-x86_64-cpython-310/apex/contrib/index_mul_2d/__init__.py -> build/bdist.linux-x86_64/wheel/apex/contrib/index_mul_2d\n",
            "  copying build/lib.linux-x86_64-cpython-310/apex/contrib/index_mul_2d/index_mul_2d.py -> build/bdist.linux-x86_64/wheel/apex/contrib/index_mul_2d\n",
            "  creating build/bdist.linux-x86_64/wheel/apex/contrib/sparsity\n",
            "  copying build/lib.linux-x86_64-cpython-310/apex/contrib/sparsity/sparse_masklib.py -> build/bdist.linux-x86_64/wheel/apex/contrib/sparsity\n",
            "  copying build/lib.linux-x86_64-cpython-310/apex/contrib/sparsity/__init__.py -> build/bdist.linux-x86_64/wheel/apex/contrib/sparsity\n",
            "  copying build/lib.linux-x86_64-cpython-310/apex/contrib/sparsity/permutation_lib.py -> build/bdist.linux-x86_64/wheel/apex/contrib/sparsity\n",
            "  creating build/bdist.linux-x86_64/wheel/apex/contrib/sparsity/permutation_search_kernels\n",
            "  copying build/lib.linux-x86_64-cpython-310/apex/contrib/sparsity/permutation_search_kernels/exhaustive_search.py -> build/bdist.linux-x86_64/wheel/apex/contrib/sparsity/permutation_search_kernels\n",
            "  copying build/lib.linux-x86_64-cpython-310/apex/contrib/sparsity/permutation_search_kernels/channel_swap.py -> build/bdist.linux-x86_64/wheel/apex/contrib/sparsity/permutation_search_kernels\n",
            "  copying build/lib.linux-x86_64-cpython-310/apex/contrib/sparsity/permutation_search_kernels/__init__.py -> build/bdist.linux-x86_64/wheel/apex/contrib/sparsity/permutation_search_kernels\n",
            "  copying build/lib.linux-x86_64-cpython-310/apex/contrib/sparsity/permutation_search_kernels/call_permutation_search_kernels.py -> build/bdist.linux-x86_64/wheel/apex/contrib/sparsity/permutation_search_kernels\n",
            "  copying build/lib.linux-x86_64-cpython-310/apex/contrib/sparsity/permutation_search_kernels/permutation_utilities.py -> build/bdist.linux-x86_64/wheel/apex/contrib/sparsity/permutation_search_kernels\n",
            "  copying build/lib.linux-x86_64-cpython-310/apex/contrib/sparsity/asp.py -> build/bdist.linux-x86_64/wheel/apex/contrib/sparsity\n",
            "  creating build/bdist.linux-x86_64/wheel/apex/contrib/fmha\n",
            "  copying build/lib.linux-x86_64-cpython-310/apex/contrib/fmha/fmha.py -> build/bdist.linux-x86_64/wheel/apex/contrib/fmha\n",
            "  copying build/lib.linux-x86_64-cpython-310/apex/contrib/fmha/__init__.py -> build/bdist.linux-x86_64/wheel/apex/contrib/fmha\n",
            "  creating build/bdist.linux-x86_64/wheel/apex/contrib/layer_norm\n",
            "  copying build/lib.linux-x86_64-cpython-310/apex/contrib/layer_norm/layer_norm.py -> build/bdist.linux-x86_64/wheel/apex/contrib/layer_norm\n",
            "  copying build/lib.linux-x86_64-cpython-310/apex/contrib/layer_norm/__init__.py -> build/bdist.linux-x86_64/wheel/apex/contrib/layer_norm\n",
            "  creating build/bdist.linux-x86_64/wheel/apex/multi_tensor_apply\n",
            "  copying build/lib.linux-x86_64-cpython-310/apex/multi_tensor_apply/multi_tensor_apply.py -> build/bdist.linux-x86_64/wheel/apex/multi_tensor_apply\n",
            "  copying build/lib.linux-x86_64-cpython-310/apex/multi_tensor_apply/__init__.py -> build/bdist.linux-x86_64/wheel/apex/multi_tensor_apply\n",
            "  creating build/bdist.linux-x86_64/wheel/apex/optimizers\n",
            "  copying build/lib.linux-x86_64-cpython-310/apex/optimizers/fused_mixed_precision_lamb.py -> build/bdist.linux-x86_64/wheel/apex/optimizers\n",
            "  copying build/lib.linux-x86_64-cpython-310/apex/optimizers/fused_adam.py -> build/bdist.linux-x86_64/wheel/apex/optimizers\n",
            "  copying build/lib.linux-x86_64-cpython-310/apex/optimizers/fused_adagrad.py -> build/bdist.linux-x86_64/wheel/apex/optimizers\n",
            "  copying build/lib.linux-x86_64-cpython-310/apex/optimizers/__init__.py -> build/bdist.linux-x86_64/wheel/apex/optimizers\n",
            "  copying build/lib.linux-x86_64-cpython-310/apex/optimizers/fused_novograd.py -> build/bdist.linux-x86_64/wheel/apex/optimizers\n",
            "  copying build/lib.linux-x86_64-cpython-310/apex/optimizers/fused_sgd.py -> build/bdist.linux-x86_64/wheel/apex/optimizers\n",
            "  copying build/lib.linux-x86_64-cpython-310/apex/optimizers/fused_lamb.py -> build/bdist.linux-x86_64/wheel/apex/optimizers\n",
            "  creating build/bdist.linux-x86_64/wheel/apex/fp16_utils\n",
            "  copying build/lib.linux-x86_64-cpython-310/apex/fp16_utils/fp16util.py -> build/bdist.linux-x86_64/wheel/apex/fp16_utils\n",
            "  copying build/lib.linux-x86_64-cpython-310/apex/fp16_utils/__init__.py -> build/bdist.linux-x86_64/wheel/apex/fp16_utils\n",
            "  copying build/lib.linux-x86_64-cpython-310/apex/fp16_utils/loss_scaler.py -> build/bdist.linux-x86_64/wheel/apex/fp16_utils\n",
            "  copying build/lib.linux-x86_64-cpython-310/apex/fp16_utils/fp16_optimizer.py -> build/bdist.linux-x86_64/wheel/apex/fp16_utils\n",
            "  creating build/bdist.linux-x86_64/wheel/apex/mlp\n",
            "  copying build/lib.linux-x86_64-cpython-310/apex/mlp/__init__.py -> build/bdist.linux-x86_64/wheel/apex/mlp\n",
            "  copying build/lib.linux-x86_64-cpython-310/apex/mlp/mlp.py -> build/bdist.linux-x86_64/wheel/apex/mlp\n",
            "  creating build/bdist.linux-x86_64/wheel/apex/transformer\n",
            "  copying build/lib.linux-x86_64-cpython-310/apex/transformer/microbatches.py -> build/bdist.linux-x86_64/wheel/apex/transformer\n",
            "  creating build/bdist.linux-x86_64/wheel/apex/transformer/functional\n",
            "  copying build/lib.linux-x86_64-cpython-310/apex/transformer/functional/__init__.py -> build/bdist.linux-x86_64/wheel/apex/transformer/functional\n",
            "  copying build/lib.linux-x86_64-cpython-310/apex/transformer/functional/fused_softmax.py -> build/bdist.linux-x86_64/wheel/apex/transformer/functional\n",
            "  creating build/bdist.linux-x86_64/wheel/apex/transformer/amp\n",
            "  copying build/lib.linux-x86_64-cpython-310/apex/transformer/amp/__init__.py -> build/bdist.linux-x86_64/wheel/apex/transformer/amp\n",
            "  copying build/lib.linux-x86_64-cpython-310/apex/transformer/amp/grad_scaler.py -> build/bdist.linux-x86_64/wheel/apex/transformer/amp\n",
            "  creating build/bdist.linux-x86_64/wheel/apex/transformer/tensor_parallel\n",
            "  copying build/lib.linux-x86_64-cpython-310/apex/transformer/tensor_parallel/cross_entropy.py -> build/bdist.linux-x86_64/wheel/apex/transformer/tensor_parallel\n",
            "  copying build/lib.linux-x86_64-cpython-310/apex/transformer/tensor_parallel/memory.py -> build/bdist.linux-x86_64/wheel/apex/transformer/tensor_parallel\n",
            "  copying build/lib.linux-x86_64-cpython-310/apex/transformer/tensor_parallel/data.py -> build/bdist.linux-x86_64/wheel/apex/transformer/tensor_parallel\n",
            "  copying build/lib.linux-x86_64-cpython-310/apex/transformer/tensor_parallel/layers.py -> build/bdist.linux-x86_64/wheel/apex/transformer/tensor_parallel\n",
            "  copying build/lib.linux-x86_64-cpython-310/apex/transformer/tensor_parallel/__init__.py -> build/bdist.linux-x86_64/wheel/apex/transformer/tensor_parallel\n",
            "  copying build/lib.linux-x86_64-cpython-310/apex/transformer/tensor_parallel/random.py -> build/bdist.linux-x86_64/wheel/apex/transformer/tensor_parallel\n",
            "  copying build/lib.linux-x86_64-cpython-310/apex/transformer/tensor_parallel/utils.py -> build/bdist.linux-x86_64/wheel/apex/transformer/tensor_parallel\n",
            "  copying build/lib.linux-x86_64-cpython-310/apex/transformer/tensor_parallel/mappings.py -> build/bdist.linux-x86_64/wheel/apex/transformer/tensor_parallel\n",
            "  copying build/lib.linux-x86_64-cpython-310/apex/transformer/__init__.py -> build/bdist.linux-x86_64/wheel/apex/transformer\n",
            "  copying build/lib.linux-x86_64-cpython-310/apex/transformer/enums.py -> build/bdist.linux-x86_64/wheel/apex/transformer\n",
            "  creating build/bdist.linux-x86_64/wheel/apex/transformer/testing\n",
            "  copying build/lib.linux-x86_64-cpython-310/apex/transformer/testing/standalone_bert.py -> build/bdist.linux-x86_64/wheel/apex/transformer/testing\n",
            "  copying build/lib.linux-x86_64-cpython-310/apex/transformer/testing/__init__.py -> build/bdist.linux-x86_64/wheel/apex/transformer/testing\n",
            "  copying build/lib.linux-x86_64-cpython-310/apex/transformer/testing/arguments.py -> build/bdist.linux-x86_64/wheel/apex/transformer/testing\n",
            "  copying build/lib.linux-x86_64-cpython-310/apex/transformer/testing/commons.py -> build/bdist.linux-x86_64/wheel/apex/transformer/testing\n",
            "  copying build/lib.linux-x86_64-cpython-310/apex/transformer/testing/standalone_gpt.py -> build/bdist.linux-x86_64/wheel/apex/transformer/testing\n",
            "  copying build/lib.linux-x86_64-cpython-310/apex/transformer/testing/global_vars.py -> build/bdist.linux-x86_64/wheel/apex/transformer/testing\n",
            "  copying build/lib.linux-x86_64-cpython-310/apex/transformer/testing/distributed_test_base.py -> build/bdist.linux-x86_64/wheel/apex/transformer/testing\n",
            "  copying build/lib.linux-x86_64-cpython-310/apex/transformer/testing/standalone_transformer_lm.py -> build/bdist.linux-x86_64/wheel/apex/transformer/testing\n",
            "  creating build/bdist.linux-x86_64/wheel/apex/transformer/_data\n",
            "  copying build/lib.linux-x86_64-cpython-310/apex/transformer/_data/__init__.py -> build/bdist.linux-x86_64/wheel/apex/transformer/_data\n",
            "  copying build/lib.linux-x86_64-cpython-310/apex/transformer/_data/_batchsampler.py -> build/bdist.linux-x86_64/wheel/apex/transformer/_data\n",
            "  creating build/bdist.linux-x86_64/wheel/apex/transformer/pipeline_parallel\n",
            "  copying build/lib.linux-x86_64-cpython-310/apex/transformer/pipeline_parallel/__init__.py -> build/bdist.linux-x86_64/wheel/apex/transformer/pipeline_parallel\n",
            "  copying build/lib.linux-x86_64-cpython-310/apex/transformer/pipeline_parallel/_timers.py -> build/bdist.linux-x86_64/wheel/apex/transformer/pipeline_parallel\n",
            "  creating build/bdist.linux-x86_64/wheel/apex/transformer/pipeline_parallel/schedules\n",
            "  copying build/lib.linux-x86_64-cpython-310/apex/transformer/pipeline_parallel/schedules/fwd_bwd_pipelining_without_interleaving.py -> build/bdist.linux-x86_64/wheel/apex/transformer/pipeline_parallel/schedules\n",
            "  copying build/lib.linux-x86_64-cpython-310/apex/transformer/pipeline_parallel/schedules/fwd_bwd_pipelining_with_interleaving.py -> build/bdist.linux-x86_64/wheel/apex/transformer/pipeline_parallel/schedules\n",
            "  copying build/lib.linux-x86_64-cpython-310/apex/transformer/pipeline_parallel/schedules/__init__.py -> build/bdist.linux-x86_64/wheel/apex/transformer/pipeline_parallel/schedules\n",
            "  copying build/lib.linux-x86_64-cpython-310/apex/transformer/pipeline_parallel/schedules/fwd_bwd_no_pipelining.py -> build/bdist.linux-x86_64/wheel/apex/transformer/pipeline_parallel/schedules\n",
            "  copying build/lib.linux-x86_64-cpython-310/apex/transformer/pipeline_parallel/schedules/common.py -> build/bdist.linux-x86_64/wheel/apex/transformer/pipeline_parallel/schedules\n",
            "  copying build/lib.linux-x86_64-cpython-310/apex/transformer/pipeline_parallel/utils.py -> build/bdist.linux-x86_64/wheel/apex/transformer/pipeline_parallel\n",
            "  copying build/lib.linux-x86_64-cpython-310/apex/transformer/pipeline_parallel/p2p_communication.py -> build/bdist.linux-x86_64/wheel/apex/transformer/pipeline_parallel\n",
            "  copying build/lib.linux-x86_64-cpython-310/apex/transformer/log_util.py -> build/bdist.linux-x86_64/wheel/apex/transformer\n",
            "  copying build/lib.linux-x86_64-cpython-310/apex/transformer/_ucc_util.py -> build/bdist.linux-x86_64/wheel/apex/transformer\n",
            "  copying build/lib.linux-x86_64-cpython-310/apex/transformer/parallel_state.py -> build/bdist.linux-x86_64/wheel/apex/transformer\n",
            "  copying build/lib.linux-x86_64-cpython-310/apex/transformer/utils.py -> build/bdist.linux-x86_64/wheel/apex/transformer\n",
            "  creating build/bdist.linux-x86_64/wheel/apex/transformer/layers\n",
            "  copying build/lib.linux-x86_64-cpython-310/apex/transformer/layers/layer_norm.py -> build/bdist.linux-x86_64/wheel/apex/transformer/layers\n",
            "  copying build/lib.linux-x86_64-cpython-310/apex/transformer/layers/__init__.py -> build/bdist.linux-x86_64/wheel/apex/transformer/layers\n",
            "  creating build/bdist.linux-x86_64/wheel/apex/RNN\n",
            "  copying build/lib.linux-x86_64-cpython-310/apex/RNN/RNNBackend.py -> build/bdist.linux-x86_64/wheel/apex/RNN\n",
            "  copying build/lib.linux-x86_64-cpython-310/apex/RNN/__init__.py -> build/bdist.linux-x86_64/wheel/apex/RNN\n",
            "  copying build/lib.linux-x86_64-cpython-310/apex/RNN/models.py -> build/bdist.linux-x86_64/wheel/apex/RNN\n",
            "  copying build/lib.linux-x86_64-cpython-310/apex/RNN/cells.py -> build/bdist.linux-x86_64/wheel/apex/RNN\n",
            "  copying build/lib.linux-x86_64-cpython-310/amp_C.cpython-310-x86_64-linux-gnu.so -> build/bdist.linux-x86_64/wheel\n",
            "  copying build/lib.linux-x86_64-cpython-310/fused_dense_cuda.cpython-310-x86_64-linux-gnu.so -> build/bdist.linux-x86_64/wheel\n",
            "  copying build/lib.linux-x86_64-cpython-310/fused_weight_gradient_mlp_cuda.cpython-310-x86_64-linux-gnu.so -> build/bdist.linux-x86_64/wheel\n",
            "  running install_egg_info\n",
            "  running egg_info\n",
            "  writing apex.egg-info/PKG-INFO\n",
            "  writing dependency_links to apex.egg-info/dependency_links.txt\n",
            "  writing requirements to apex.egg-info/requires.txt\n",
            "  writing top-level names to apex.egg-info/top_level.txt\n",
            "  reading manifest file 'apex.egg-info/SOURCES.txt'\n",
            "  adding license file 'LICENSE'\n",
            "  writing manifest file 'apex.egg-info/SOURCES.txt'\n",
            "  Copying apex.egg-info to build/bdist.linux-x86_64/wheel/apex-0.1-py3.10.egg-info\n",
            "  running install_scripts\n",
            "  creating build/bdist.linux-x86_64/wheel/apex-0.1.dist-info/WHEEL\n",
            "  creating '/tmp/pip-wheel-imx1kzyw/apex-0.1-cp310-cp310-linux_x86_64.whl' and adding 'build/bdist.linux-x86_64/wheel' to it\n",
            "  adding 'amp_C.cpython-310-x86_64-linux-gnu.so'\n",
            "  adding 'apex_C.cpython-310-x86_64-linux-gnu.so'\n",
            "  adding 'fused_dense_cuda.cpython-310-x86_64-linux-gnu.so'\n",
            "  adding 'fused_layer_norm_cuda.cpython-310-x86_64-linux-gnu.so'\n",
            "  adding 'fused_weight_gradient_mlp_cuda.cpython-310-x86_64-linux-gnu.so'\n",
            "  adding 'generic_scaled_masked_softmax_cuda.cpython-310-x86_64-linux-gnu.so'\n",
            "  adding 'mlp_cuda.cpython-310-x86_64-linux-gnu.so'\n",
            "  adding 'scaled_masked_softmax_cuda.cpython-310-x86_64-linux-gnu.so'\n",
            "  adding 'scaled_softmax_cuda.cpython-310-x86_64-linux-gnu.so'\n",
            "  adding 'scaled_upper_triang_masked_softmax_cuda.cpython-310-x86_64-linux-gnu.so'\n",
            "  adding 'syncbn.cpython-310-x86_64-linux-gnu.so'\n",
            "  adding 'apex/__init__.py'\n",
            "  adding 'apex/_autocast_utils.py'\n",
            "  adding 'apex/RNN/RNNBackend.py'\n",
            "  adding 'apex/RNN/__init__.py'\n",
            "  adding 'apex/RNN/cells.py'\n",
            "  adding 'apex/RNN/models.py'\n",
            "  adding 'apex/amp/__init__.py'\n",
            "  adding 'apex/amp/__version__.py'\n",
            "  adding 'apex/amp/_amp_state.py'\n",
            "  adding 'apex/amp/_initialize.py'\n",
            "  adding 'apex/amp/_process_optimizer.py'\n",
            "  adding 'apex/amp/amp.py'\n",
            "  adding 'apex/amp/compat.py'\n",
            "  adding 'apex/amp/frontend.py'\n",
            "  adding 'apex/amp/handle.py'\n",
            "  adding 'apex/amp/opt.py'\n",
            "  adding 'apex/amp/rnn_compat.py'\n",
            "  adding 'apex/amp/scaler.py'\n",
            "  adding 'apex/amp/utils.py'\n",
            "  adding 'apex/amp/wrap.py'\n",
            "  adding 'apex/amp/lists/__init__.py'\n",
            "  adding 'apex/amp/lists/functional_overrides.py'\n",
            "  adding 'apex/amp/lists/tensor_overrides.py'\n",
            "  adding 'apex/amp/lists/torch_overrides.py'\n",
            "  adding 'apex/contrib/__init__.py'\n",
            "  adding 'apex/contrib/bottleneck/__init__.py'\n",
            "  adding 'apex/contrib/bottleneck/bottleneck.py'\n",
            "  adding 'apex/contrib/bottleneck/halo_exchangers.py'\n",
            "  adding 'apex/contrib/bottleneck/test.py'\n",
            "  adding 'apex/contrib/clip_grad/__init__.py'\n",
            "  adding 'apex/contrib/clip_grad/clip_grad.py'\n",
            "  adding 'apex/contrib/conv_bias_relu/__init__.py'\n",
            "  adding 'apex/contrib/conv_bias_relu/conv_bias_relu.py'\n",
            "  adding 'apex/contrib/cudnn_gbn/__init__.py'\n",
            "  adding 'apex/contrib/cudnn_gbn/batch_norm.py'\n",
            "  adding 'apex/contrib/fmha/__init__.py'\n",
            "  adding 'apex/contrib/fmha/fmha.py'\n",
            "  adding 'apex/contrib/focal_loss/__init__.py'\n",
            "  adding 'apex/contrib/focal_loss/focal_loss.py'\n",
            "  adding 'apex/contrib/groupbn/__init__.py'\n",
            "  adding 'apex/contrib/groupbn/batch_norm.py'\n",
            "  adding 'apex/contrib/index_mul_2d/__init__.py'\n",
            "  adding 'apex/contrib/index_mul_2d/index_mul_2d.py'\n",
            "  adding 'apex/contrib/layer_norm/__init__.py'\n",
            "  adding 'apex/contrib/layer_norm/layer_norm.py'\n",
            "  adding 'apex/contrib/multihead_attn/__init__.py'\n",
            "  adding 'apex/contrib/multihead_attn/encdec_multihead_attn.py'\n",
            "  adding 'apex/contrib/multihead_attn/encdec_multihead_attn_func.py'\n",
            "  adding 'apex/contrib/multihead_attn/fast_encdec_multihead_attn_func.py'\n",
            "  adding 'apex/contrib/multihead_attn/fast_encdec_multihead_attn_norm_add_func.py'\n",
            "  adding 'apex/contrib/multihead_attn/fast_self_multihead_attn_func.py'\n",
            "  adding 'apex/contrib/multihead_attn/fast_self_multihead_attn_norm_add_func.py'\n",
            "  adding 'apex/contrib/multihead_attn/mask_softmax_dropout_func.py'\n",
            "  adding 'apex/contrib/multihead_attn/self_multihead_attn.py'\n",
            "  adding 'apex/contrib/multihead_attn/self_multihead_attn_func.py'\n",
            "  adding 'apex/contrib/optimizers/__init__.py'\n",
            "  adding 'apex/contrib/optimizers/distributed_fused_adam.py'\n",
            "  adding 'apex/contrib/optimizers/distributed_fused_lamb.py'\n",
            "  adding 'apex/contrib/optimizers/fp16_optimizer.py'\n",
            "  adding 'apex/contrib/optimizers/fused_adam.py'\n",
            "  adding 'apex/contrib/optimizers/fused_lamb.py'\n",
            "  adding 'apex/contrib/optimizers/fused_sgd.py'\n",
            "  adding 'apex/contrib/peer_memory/__init__.py'\n",
            "  adding 'apex/contrib/peer_memory/peer_halo_exchanger_1d.py'\n",
            "  adding 'apex/contrib/peer_memory/peer_memory.py'\n",
            "  adding 'apex/contrib/sparsity/__init__.py'\n",
            "  adding 'apex/contrib/sparsity/asp.py'\n",
            "  adding 'apex/contrib/sparsity/permutation_lib.py'\n",
            "  adding 'apex/contrib/sparsity/sparse_masklib.py'\n",
            "  adding 'apex/contrib/sparsity/permutation_search_kernels/__init__.py'\n",
            "  adding 'apex/contrib/sparsity/permutation_search_kernels/call_permutation_search_kernels.py'\n",
            "  adding 'apex/contrib/sparsity/permutation_search_kernels/channel_swap.py'\n",
            "  adding 'apex/contrib/sparsity/permutation_search_kernels/exhaustive_search.py'\n",
            "  adding 'apex/contrib/sparsity/permutation_search_kernels/permutation_utilities.py'\n",
            "  adding 'apex/contrib/test/__init__.py'\n",
            "  adding 'apex/contrib/test/bottleneck/__init__.py'\n",
            "  adding 'apex/contrib/test/bottleneck/test_bottleneck_module.py'\n",
            "  adding 'apex/contrib/test/clip_grad/__init__.py'\n",
            "  adding 'apex/contrib/test/clip_grad/test_clip_grad.py'\n",
            "  adding 'apex/contrib/test/conv_bias_relu/__init__.py'\n",
            "  adding 'apex/contrib/test/conv_bias_relu/test_conv_bias_relu.py'\n",
            "  adding 'apex/contrib/test/cudnn_gbn/__init__.py'\n",
            "  adding 'apex/contrib/test/cudnn_gbn/test_cudnn_gbn_with_two_gpus.py'\n",
            "  adding 'apex/contrib/test/fmha/__init__.py'\n",
            "  adding 'apex/contrib/test/fmha/test_fmha.py'\n",
            "  adding 'apex/contrib/test/focal_loss/__init__.py'\n",
            "  adding 'apex/contrib/test/focal_loss/test_focal_loss.py'\n",
            "  adding 'apex/contrib/test/index_mul_2d/__init__.py'\n",
            "  adding 'apex/contrib/test/index_mul_2d/test_index_mul_2d.py'\n",
            "  adding 'apex/contrib/test/layer_norm/__init__.py'\n",
            "  adding 'apex/contrib/test/layer_norm/test_fast_layer_norm.py'\n",
            "  adding 'apex/contrib/test/multihead_attn/__init__.py'\n",
            "  adding 'apex/contrib/test/multihead_attn/test_encdec_multihead_attn.py'\n",
            "  adding 'apex/contrib/test/multihead_attn/test_encdec_multihead_attn_norm_add.py'\n",
            "  adding 'apex/contrib/test/multihead_attn/test_fast_self_multihead_attn_bias.py'\n",
            "  adding 'apex/contrib/test/multihead_attn/test_mha_fused_softmax.py'\n",
            "  adding 'apex/contrib/test/multihead_attn/test_self_multihead_attn.py'\n",
            "  adding 'apex/contrib/test/multihead_attn/test_self_multihead_attn_norm_add.py'\n",
            "  adding 'apex/contrib/test/optimizers/__init__.py'\n",
            "  adding 'apex/contrib/test/optimizers/test_dist_adam.py'\n",
            "  adding 'apex/contrib/test/optimizers/test_distributed_fused_lamb.py'\n",
            "  adding 'apex/contrib/test/peer_memory/__init__.py'\n",
            "  adding 'apex/contrib/test/peer_memory/test_peer_halo_exchange_module.py'\n",
            "  adding 'apex/contrib/test/transducer/__init__.py'\n",
            "  adding 'apex/contrib/test/transducer/test_transducer_joint.py'\n",
            "  adding 'apex/contrib/test/transducer/test_transducer_loss.py'\n",
            "  adding 'apex/contrib/test/xentropy/__init__.py'\n",
            "  adding 'apex/contrib/test/xentropy/test_label_smoothing.py'\n",
            "  adding 'apex/contrib/transducer/__init__.py'\n",
            "  adding 'apex/contrib/transducer/_transducer_ref.py'\n",
            "  adding 'apex/contrib/transducer/transducer.py'\n",
            "  adding 'apex/contrib/xentropy/__init__.py'\n",
            "  adding 'apex/contrib/xentropy/softmax_xentropy.py'\n",
            "  adding 'apex/fp16_utils/__init__.py'\n",
            "  adding 'apex/fp16_utils/fp16_optimizer.py'\n",
            "  adding 'apex/fp16_utils/fp16util.py'\n",
            "  adding 'apex/fp16_utils/loss_scaler.py'\n",
            "  adding 'apex/fused_dense/__init__.py'\n",
            "  adding 'apex/fused_dense/fused_dense.py'\n",
            "  adding 'apex/mlp/__init__.py'\n",
            "  adding 'apex/mlp/mlp.py'\n",
            "  adding 'apex/multi_tensor_apply/__init__.py'\n",
            "  adding 'apex/multi_tensor_apply/multi_tensor_apply.py'\n",
            "  adding 'apex/normalization/__init__.py'\n",
            "  adding 'apex/normalization/fused_layer_norm.py'\n",
            "  adding 'apex/normalization/instance_norm.py'\n",
            "  adding 'apex/optimizers/__init__.py'\n",
            "  adding 'apex/optimizers/fused_adagrad.py'\n",
            "  adding 'apex/optimizers/fused_adam.py'\n",
            "  adding 'apex/optimizers/fused_lamb.py'\n",
            "  adding 'apex/optimizers/fused_mixed_precision_lamb.py'\n",
            "  adding 'apex/optimizers/fused_novograd.py'\n",
            "  adding 'apex/optimizers/fused_sgd.py'\n",
            "  adding 'apex/parallel/LARC.py'\n",
            "  adding 'apex/parallel/__init__.py'\n",
            "  adding 'apex/parallel/distributed.py'\n",
            "  adding 'apex/parallel/multiproc.py'\n",
            "  adding 'apex/parallel/optimized_sync_batchnorm.py'\n",
            "  adding 'apex/parallel/optimized_sync_batchnorm_kernel.py'\n",
            "  adding 'apex/parallel/sync_batchnorm.py'\n",
            "  adding 'apex/parallel/sync_batchnorm_kernel.py'\n",
            "  adding 'apex/transformer/__init__.py'\n",
            "  adding 'apex/transformer/_ucc_util.py'\n",
            "  adding 'apex/transformer/enums.py'\n",
            "  adding 'apex/transformer/log_util.py'\n",
            "  adding 'apex/transformer/microbatches.py'\n",
            "  adding 'apex/transformer/parallel_state.py'\n",
            "  adding 'apex/transformer/utils.py'\n",
            "  adding 'apex/transformer/_data/__init__.py'\n",
            "  adding 'apex/transformer/_data/_batchsampler.py'\n",
            "  adding 'apex/transformer/amp/__init__.py'\n",
            "  adding 'apex/transformer/amp/grad_scaler.py'\n",
            "  adding 'apex/transformer/functional/__init__.py'\n",
            "  adding 'apex/transformer/functional/fused_softmax.py'\n",
            "  adding 'apex/transformer/layers/__init__.py'\n",
            "  adding 'apex/transformer/layers/layer_norm.py'\n",
            "  adding 'apex/transformer/pipeline_parallel/__init__.py'\n",
            "  adding 'apex/transformer/pipeline_parallel/_timers.py'\n",
            "  adding 'apex/transformer/pipeline_parallel/p2p_communication.py'\n",
            "  adding 'apex/transformer/pipeline_parallel/utils.py'\n",
            "  adding 'apex/transformer/pipeline_parallel/schedules/__init__.py'\n",
            "  adding 'apex/transformer/pipeline_parallel/schedules/common.py'\n",
            "  adding 'apex/transformer/pipeline_parallel/schedules/fwd_bwd_no_pipelining.py'\n",
            "  adding 'apex/transformer/pipeline_parallel/schedules/fwd_bwd_pipelining_with_interleaving.py'\n",
            "  adding 'apex/transformer/pipeline_parallel/schedules/fwd_bwd_pipelining_without_interleaving.py'\n",
            "  adding 'apex/transformer/tensor_parallel/__init__.py'\n",
            "  adding 'apex/transformer/tensor_parallel/cross_entropy.py'\n",
            "  adding 'apex/transformer/tensor_parallel/data.py'\n",
            "  adding 'apex/transformer/tensor_parallel/layers.py'\n",
            "  adding 'apex/transformer/tensor_parallel/mappings.py'\n",
            "  adding 'apex/transformer/tensor_parallel/memory.py'\n",
            "  adding 'apex/transformer/tensor_parallel/random.py'\n",
            "  adding 'apex/transformer/tensor_parallel/utils.py'\n",
            "  adding 'apex/transformer/testing/__init__.py'\n",
            "  adding 'apex/transformer/testing/arguments.py'\n",
            "  adding 'apex/transformer/testing/commons.py'\n",
            "  adding 'apex/transformer/testing/distributed_test_base.py'\n",
            "  adding 'apex/transformer/testing/global_vars.py'\n",
            "  adding 'apex/transformer/testing/standalone_bert.py'\n",
            "  adding 'apex/transformer/testing/standalone_gpt.py'\n",
            "  adding 'apex/transformer/testing/standalone_transformer_lm.py'\n",
            "  adding 'apex-0.1.dist-info/LICENSE'\n",
            "  adding 'apex-0.1.dist-info/METADATA'\n",
            "  adding 'apex-0.1.dist-info/WHEEL'\n",
            "  adding 'apex-0.1.dist-info/top_level.txt'\n",
            "  adding 'apex-0.1.dist-info/RECORD'\n",
            "  removing build/bdist.linux-x86_64/wheel\n",
            "  Building wheel for apex (setup.py) ... \u001b[?25l\u001b[?25hdone\n",
            "  Created wheel for apex: filename=apex-0.1-cp310-cp310-linux_x86_64.whl size=32301246 sha256=dd73c1aac73e8c5629d54d9897f3b13abbdff18fc080982e92095a77450e1c45\n",
            "  Stored in directory: /tmp/pip-ephem-wheel-cache-3n2p3fz9/wheels/83/7e/8e/84a535a8280d2de7a77a3fed6710fa86220721b5045c017df9\n",
            "Successfully built apex\n",
            "Installing collected packages: apex\n",
            "Successfully installed apex-0.1\n",
            "Requirement already satisfied: openpyxl in /usr/local/lib/python3.10/dist-packages (3.1.2)\n",
            "Requirement already satisfied: et-xmlfile in /usr/local/lib/python3.10/dist-packages (from openpyxl) (1.1.0)\n",
            "/content\n",
            "Collecting sentencepiece\n",
            "  Downloading sentencepiece-0.1.99-cp310-cp310-manylinux_2_17_x86_64.manylinux2014_x86_64.whl (1.3 MB)\n",
            "\u001b[2K     \u001b[90m━━━━━━━━━━━━━━━━━━━━━━━━━━━━━━━━━━━━━━━━\u001b[0m \u001b[32m1.3/1.3 MB\u001b[0m \u001b[31m8.6 MB/s\u001b[0m eta \u001b[36m0:00:00\u001b[0m\n",
            "\u001b[?25hInstalling collected packages: sentencepiece\n",
            "Successfully installed sentencepiece-0.1.99\n"
          ]
        }
      ]
    },
    {
      "cell_type": "code",
      "execution_count": null,
      "metadata": {
        "id": "587S26ZCEhyr",
        "colab": {
          "base_uri": "https://localhost:8080/",
          "height": 104,
          "referenced_widgets": [
            "7afd43da9199443f987f3e396863dd5b",
            "70c53926b74b4d2493db4c1e3b3dfb1c",
            "21e2d0308846415caf57b426a05dd61d",
            "1b7096d104b44925b0d09ca409703635",
            "8cffd6d8bd764305b12989a30bc21199",
            "4d987b55b37e4e95b3d927a681ff55b6",
            "11b32ae6fe55420d85795ff2ab46bf6f",
            "a0141c98a6a648e6b29e28526ee3dfed",
            "b66e823ee25a460cad9249258b234957",
            "acab9e61a8a34e4d9b14f32a70cd6be0",
            "13a876d8d97b495ab576253b35a79aa9"
          ]
        },
        "outputId": "f2d98803-4818-43fc-acbf-5eabad5d5269"
      },
      "outputs": [
        {
          "output_type": "stream",
          "name": "stderr",
          "text": [
            "The cache for model files in Transformers v4.22.0 has been updated. Migrating your old cache. This is a one-time only operation. You can interrupt this and resume the migration later on by calling `transformers.utils.move_cache()`.\n"
          ]
        },
        {
          "output_type": "stream",
          "name": "stdout",
          "text": [
            "Moving 0 files to the new cache system\n"
          ]
        },
        {
          "output_type": "display_data",
          "data": {
            "text/plain": [
              "0it [00:00, ?it/s]"
            ],
            "application/vnd.jupyter.widget-view+json": {
              "version_major": 2,
              "version_minor": 0,
              "model_id": "7afd43da9199443f987f3e396863dd5b"
            }
          },
          "metadata": {}
        }
      ],
      "source": [
        "import torch\n",
        "from fast_bert.data_cls import BertDataBunch\n",
        "from fast_bert.learner_cls import BertLearner\n",
        "from fast_bert.data_lm import BertLMDataBunch\n",
        "from fast_bert.learner_lm import BertLMLearner\n",
        "from fast_bert.metrics import fbeta, roc_auc\n",
        "from fast_bert.prediction import BertClassificationPredictor\n",
        "from pathlib import Path\n",
        "import pandas as pd\n",
        "import logging\n",
        "\n",
        "\n",
        "logger = logging.getLogger()\n",
        "device_cuda = torch.device(\"cuda\")\n",
        "# device_mps = torch.device(\"cpu\")"
      ]
    },
    {
      "cell_type": "code",
      "execution_count": null,
      "metadata": {
        "id": "lZ4lhTIiEhy6"
      },
      "outputs": [],
      "source": [
        "DATA_PATH = Path.cwd()/'data'\n",
        "LOG_PATH = Path.cwd()/'logs'\n",
        "MODEL_PATH = Path.cwd()/'model'\n",
        "LABEL_PATH = Path.cwd()/'labels'"
      ]
    },
    {
      "cell_type": "code",
      "execution_count": null,
      "metadata": {
        "id": "dYvUcmGtEhy-"
      },
      "outputs": [],
      "source": [
        "DATA_PATH.mkdir(parents=True, exist_ok=True)\n",
        "LOG_PATH.mkdir(parents=True, exist_ok=True)\n",
        "MODEL_PATH.mkdir(parents=True, exist_ok=True)\n",
        "LABEL_PATH.mkdir(parents=True, exist_ok=True)"
      ]
    },
    {
      "cell_type": "code",
      "execution_count": null,
      "metadata": {
        "id": "oao2C8dnEhzA"
      },
      "outputs": [],
      "source": [
        "# Lecture de la base de donnees et selection des colonnes\n",
        "data = pd.read_excel(\"data2.xlsx\")\n",
        "data = data[[c for c in data.columns if c!='Unnamed: 0']]\n",
        "cols = data.columns.to_list()[7:]\n",
        "cols.insert(0,'Commentaire')\n",
        "data = data[cols]"
      ]
    },
    {
      "cell_type": "code",
      "execution_count": null,
      "metadata": {
        "colab": {
          "base_uri": "https://localhost:8080/",
          "height": 213
        },
        "id": "SWIu-StbEhzB",
        "outputId": "710fae74-d26c-4e8f-bb4d-f6061e2b3b90"
      },
      "outputs": [
        {
          "output_type": "execute_result",
          "data": {
            "text/plain": [
              "                                         Commentaire  Cohésion Sociale  \\\n",
              "0  D’accord avec l’internaute Nr 1, le Developpem...                 1   \n",
              "1  Il m’apparait singulier de comparer une \"coopé...                 0   \n",
              "2  Encore une OCS. Je pense qu’on devrait serrer ...                 1   \n",
              "\n",
              "   Insecurité  Gouvernance économique  Gouvernance politique  \n",
              "0           0                       1                      0  \n",
              "1           0                       0                      1  \n",
              "2           0                       0                      0  "
            ],
            "text/html": [
              "\n",
              "  <div id=\"df-ea1f0f3c-6fd7-444f-ad4b-f9925bf3788c\" class=\"colab-df-container\">\n",
              "    <div>\n",
              "<style scoped>\n",
              "    .dataframe tbody tr th:only-of-type {\n",
              "        vertical-align: middle;\n",
              "    }\n",
              "\n",
              "    .dataframe tbody tr th {\n",
              "        vertical-align: top;\n",
              "    }\n",
              "\n",
              "    .dataframe thead th {\n",
              "        text-align: right;\n",
              "    }\n",
              "</style>\n",
              "<table border=\"1\" class=\"dataframe\">\n",
              "  <thead>\n",
              "    <tr style=\"text-align: right;\">\n",
              "      <th></th>\n",
              "      <th>Commentaire</th>\n",
              "      <th>Cohésion Sociale</th>\n",
              "      <th>Insecurité</th>\n",
              "      <th>Gouvernance économique</th>\n",
              "      <th>Gouvernance politique</th>\n",
              "    </tr>\n",
              "  </thead>\n",
              "  <tbody>\n",
              "    <tr>\n",
              "      <th>0</th>\n",
              "      <td>D’accord avec l’internaute Nr 1, le Developpem...</td>\n",
              "      <td>1</td>\n",
              "      <td>0</td>\n",
              "      <td>1</td>\n",
              "      <td>0</td>\n",
              "    </tr>\n",
              "    <tr>\n",
              "      <th>1</th>\n",
              "      <td>Il m’apparait singulier de comparer une \"coopé...</td>\n",
              "      <td>0</td>\n",
              "      <td>0</td>\n",
              "      <td>0</td>\n",
              "      <td>1</td>\n",
              "    </tr>\n",
              "    <tr>\n",
              "      <th>2</th>\n",
              "      <td>Encore une OCS. Je pense qu’on devrait serrer ...</td>\n",
              "      <td>1</td>\n",
              "      <td>0</td>\n",
              "      <td>0</td>\n",
              "      <td>0</td>\n",
              "    </tr>\n",
              "  </tbody>\n",
              "</table>\n",
              "</div>\n",
              "    <div class=\"colab-df-buttons\">\n",
              "\n",
              "  <div class=\"colab-df-container\">\n",
              "    <button class=\"colab-df-convert\" onclick=\"convertToInteractive('df-ea1f0f3c-6fd7-444f-ad4b-f9925bf3788c')\"\n",
              "            title=\"Convert this dataframe to an interactive table.\"\n",
              "            style=\"display:none;\">\n",
              "\n",
              "  <svg xmlns=\"http://www.w3.org/2000/svg\" height=\"24px\" viewBox=\"0 -960 960 960\">\n",
              "    <path d=\"M120-120v-720h720v720H120Zm60-500h600v-160H180v160Zm220 220h160v-160H400v160Zm0 220h160v-160H400v160ZM180-400h160v-160H180v160Zm440 0h160v-160H620v160ZM180-180h160v-160H180v160Zm440 0h160v-160H620v160Z\"/>\n",
              "  </svg>\n",
              "    </button>\n",
              "\n",
              "  <style>\n",
              "    .colab-df-container {\n",
              "      display:flex;\n",
              "      gap: 12px;\n",
              "    }\n",
              "\n",
              "    .colab-df-convert {\n",
              "      background-color: #E8F0FE;\n",
              "      border: none;\n",
              "      border-radius: 50%;\n",
              "      cursor: pointer;\n",
              "      display: none;\n",
              "      fill: #1967D2;\n",
              "      height: 32px;\n",
              "      padding: 0 0 0 0;\n",
              "      width: 32px;\n",
              "    }\n",
              "\n",
              "    .colab-df-convert:hover {\n",
              "      background-color: #E2EBFA;\n",
              "      box-shadow: 0px 1px 2px rgba(60, 64, 67, 0.3), 0px 1px 3px 1px rgba(60, 64, 67, 0.15);\n",
              "      fill: #174EA6;\n",
              "    }\n",
              "\n",
              "    .colab-df-buttons div {\n",
              "      margin-bottom: 4px;\n",
              "    }\n",
              "\n",
              "    [theme=dark] .colab-df-convert {\n",
              "      background-color: #3B4455;\n",
              "      fill: #D2E3FC;\n",
              "    }\n",
              "\n",
              "    [theme=dark] .colab-df-convert:hover {\n",
              "      background-color: #434B5C;\n",
              "      box-shadow: 0px 1px 3px 1px rgba(0, 0, 0, 0.15);\n",
              "      filter: drop-shadow(0px 1px 2px rgba(0, 0, 0, 0.3));\n",
              "      fill: #FFFFFF;\n",
              "    }\n",
              "  </style>\n",
              "\n",
              "    <script>\n",
              "      const buttonEl =\n",
              "        document.querySelector('#df-ea1f0f3c-6fd7-444f-ad4b-f9925bf3788c button.colab-df-convert');\n",
              "      buttonEl.style.display =\n",
              "        google.colab.kernel.accessAllowed ? 'block' : 'none';\n",
              "\n",
              "      async function convertToInteractive(key) {\n",
              "        const element = document.querySelector('#df-ea1f0f3c-6fd7-444f-ad4b-f9925bf3788c');\n",
              "        const dataTable =\n",
              "          await google.colab.kernel.invokeFunction('convertToInteractive',\n",
              "                                                    [key], {});\n",
              "        if (!dataTable) return;\n",
              "\n",
              "        const docLinkHtml = 'Like what you see? Visit the ' +\n",
              "          '<a target=\"_blank\" href=https://colab.research.google.com/notebooks/data_table.ipynb>data table notebook</a>'\n",
              "          + ' to learn more about interactive tables.';\n",
              "        element.innerHTML = '';\n",
              "        dataTable['output_type'] = 'display_data';\n",
              "        await google.colab.output.renderOutput(dataTable, element);\n",
              "        const docLink = document.createElement('div');\n",
              "        docLink.innerHTML = docLinkHtml;\n",
              "        element.appendChild(docLink);\n",
              "      }\n",
              "    </script>\n",
              "  </div>\n",
              "\n",
              "\n",
              "<div id=\"df-a1fe10f0-ac04-434f-83e6-d27c3a5abb90\">\n",
              "  <button class=\"colab-df-quickchart\" onclick=\"quickchart('df-a1fe10f0-ac04-434f-83e6-d27c3a5abb90')\"\n",
              "            title=\"Suggest charts.\"\n",
              "            style=\"display:none;\">\n",
              "\n",
              "<svg xmlns=\"http://www.w3.org/2000/svg\" height=\"24px\"viewBox=\"0 0 24 24\"\n",
              "     width=\"24px\">\n",
              "    <g>\n",
              "        <path d=\"M19 3H5c-1.1 0-2 .9-2 2v14c0 1.1.9 2 2 2h14c1.1 0 2-.9 2-2V5c0-1.1-.9-2-2-2zM9 17H7v-7h2v7zm4 0h-2V7h2v10zm4 0h-2v-4h2v4z\"/>\n",
              "    </g>\n",
              "</svg>\n",
              "  </button>\n",
              "\n",
              "<style>\n",
              "  .colab-df-quickchart {\n",
              "      --bg-color: #E8F0FE;\n",
              "      --fill-color: #1967D2;\n",
              "      --hover-bg-color: #E2EBFA;\n",
              "      --hover-fill-color: #174EA6;\n",
              "      --disabled-fill-color: #AAA;\n",
              "      --disabled-bg-color: #DDD;\n",
              "  }\n",
              "\n",
              "  [theme=dark] .colab-df-quickchart {\n",
              "      --bg-color: #3B4455;\n",
              "      --fill-color: #D2E3FC;\n",
              "      --hover-bg-color: #434B5C;\n",
              "      --hover-fill-color: #FFFFFF;\n",
              "      --disabled-bg-color: #3B4455;\n",
              "      --disabled-fill-color: #666;\n",
              "  }\n",
              "\n",
              "  .colab-df-quickchart {\n",
              "    background-color: var(--bg-color);\n",
              "    border: none;\n",
              "    border-radius: 50%;\n",
              "    cursor: pointer;\n",
              "    display: none;\n",
              "    fill: var(--fill-color);\n",
              "    height: 32px;\n",
              "    padding: 0;\n",
              "    width: 32px;\n",
              "  }\n",
              "\n",
              "  .colab-df-quickchart:hover {\n",
              "    background-color: var(--hover-bg-color);\n",
              "    box-shadow: 0 1px 2px rgba(60, 64, 67, 0.3), 0 1px 3px 1px rgba(60, 64, 67, 0.15);\n",
              "    fill: var(--button-hover-fill-color);\n",
              "  }\n",
              "\n",
              "  .colab-df-quickchart-complete:disabled,\n",
              "  .colab-df-quickchart-complete:disabled:hover {\n",
              "    background-color: var(--disabled-bg-color);\n",
              "    fill: var(--disabled-fill-color);\n",
              "    box-shadow: none;\n",
              "  }\n",
              "\n",
              "  .colab-df-spinner {\n",
              "    border: 2px solid var(--fill-color);\n",
              "    border-color: transparent;\n",
              "    border-bottom-color: var(--fill-color);\n",
              "    animation:\n",
              "      spin 1s steps(1) infinite;\n",
              "  }\n",
              "\n",
              "  @keyframes spin {\n",
              "    0% {\n",
              "      border-color: transparent;\n",
              "      border-bottom-color: var(--fill-color);\n",
              "      border-left-color: var(--fill-color);\n",
              "    }\n",
              "    20% {\n",
              "      border-color: transparent;\n",
              "      border-left-color: var(--fill-color);\n",
              "      border-top-color: var(--fill-color);\n",
              "    }\n",
              "    30% {\n",
              "      border-color: transparent;\n",
              "      border-left-color: var(--fill-color);\n",
              "      border-top-color: var(--fill-color);\n",
              "      border-right-color: var(--fill-color);\n",
              "    }\n",
              "    40% {\n",
              "      border-color: transparent;\n",
              "      border-right-color: var(--fill-color);\n",
              "      border-top-color: var(--fill-color);\n",
              "    }\n",
              "    60% {\n",
              "      border-color: transparent;\n",
              "      border-right-color: var(--fill-color);\n",
              "    }\n",
              "    80% {\n",
              "      border-color: transparent;\n",
              "      border-right-color: var(--fill-color);\n",
              "      border-bottom-color: var(--fill-color);\n",
              "    }\n",
              "    90% {\n",
              "      border-color: transparent;\n",
              "      border-bottom-color: var(--fill-color);\n",
              "    }\n",
              "  }\n",
              "</style>\n",
              "\n",
              "  <script>\n",
              "    async function quickchart(key) {\n",
              "      const quickchartButtonEl =\n",
              "        document.querySelector('#' + key + ' button');\n",
              "      quickchartButtonEl.disabled = true;  // To prevent multiple clicks.\n",
              "      quickchartButtonEl.classList.add('colab-df-spinner');\n",
              "      try {\n",
              "        const charts = await google.colab.kernel.invokeFunction(\n",
              "            'suggestCharts', [key], {});\n",
              "      } catch (error) {\n",
              "        console.error('Error during call to suggestCharts:', error);\n",
              "      }\n",
              "      quickchartButtonEl.classList.remove('colab-df-spinner');\n",
              "      quickchartButtonEl.classList.add('colab-df-quickchart-complete');\n",
              "    }\n",
              "    (() => {\n",
              "      let quickchartButtonEl =\n",
              "        document.querySelector('#df-a1fe10f0-ac04-434f-83e6-d27c3a5abb90 button');\n",
              "      quickchartButtonEl.style.display =\n",
              "        google.colab.kernel.accessAllowed ? 'block' : 'none';\n",
              "    })();\n",
              "  </script>\n",
              "</div>\n",
              "    </div>\n",
              "  </div>\n"
            ]
          },
          "metadata": {},
          "execution_count": 5
        }
      ],
      "source": [
        "data.head(3)"
      ]
    },
    {
      "cell_type": "code",
      "execution_count": null,
      "metadata": {
        "colab": {
          "base_uri": "https://localhost:8080/"
        },
        "id": "FLYQ_cTCEhzF",
        "outputId": "803e8901-dd2e-4fd8-9712-e7cec446afd9"
      },
      "outputs": [
        {
          "output_type": "stream",
          "name": "stdout",
          "text": [
            "Nombre de commentaires dans le val_set: 76\n",
            "Nombre de commentaires dans le train_set: 303\n"
          ]
        }
      ],
      "source": [
        "val_set = data.sample(frac=0.2, replace=False, random_state=42)\n",
        "train_set = data.drop(index = val_set.index)\n",
        "print('Nombre de commentaires dans le val_set:',len(val_set))\n",
        "print('Nombre de commentaires dans le train_set:', len(train_set))\n",
        "val_set.to_csv(DATA_PATH/'val.csv')\n",
        "train_set.to_csv(DATA_PATH/'train.csv')"
      ]
    },
    {
      "cell_type": "code",
      "execution_count": null,
      "metadata": {
        "id": "EniXbM_EEhzG"
      },
      "outputs": [],
      "source": [
        "# Creation du fichier labels.txt\n",
        "labels = data.columns[1:].to_list()\n",
        "with open(LABEL_PATH/'labels.txt', 'w') as f:\n",
        "    for i in labels:\n",
        "        f.write(i + \"\\n\")"
      ]
    },
    {
      "cell_type": "code",
      "execution_count": null,
      "metadata": {
        "id": "hwn-kPP1EhzH"
      },
      "outputs": [],
      "source": [
        "# Creation du fichier labels.csv\n",
        "pd.DataFrame(labels).to_csv(LABEL_PATH/'labels.csv',index=False, header=False)"
      ]
    },
    {
      "cell_type": "code",
      "execution_count": null,
      "metadata": {
        "colab": {
          "base_uri": "https://localhost:8080/"
        },
        "id": "Dp-4M2gwEhzI",
        "outputId": "7828483e-a642-4289-d4ab-77d2b1a0fa70"
      },
      "outputs": [
        {
          "output_type": "stream",
          "name": "stdout",
          "text": [
            "Nombre de commentaires: 379\n"
          ]
        }
      ],
      "source": [
        "all_texts = data['Commentaire'].to_list()\n",
        "print('Nombre de commentaires:', len(all_texts))"
      ]
    },
    {
      "cell_type": "markdown",
      "metadata": {
        "id": "fmPwmCdgEhzK"
      },
      "source": [
        "### Création de LMDataBunch"
      ]
    },
    {
      "cell_type": "code",
      "execution_count": null,
      "metadata": {
        "colab": {
          "base_uri": "https://localhost:8080/",
          "height": 57
        },
        "id": "KwXbpje0EhzY",
        "outputId": "6e74f53a-5df9-4aa4-a3db-4a7bf9913cd0"
      },
      "outputs": [
        {
          "output_type": "display_data",
          "data": {
            "text/plain": [
              "<IPython.core.display.HTML object>"
            ],
            "text/html": [
              "\n",
              "<style>\n",
              "    /* Turns off some styling */\n",
              "    progress {\n",
              "        /* gets rid of default border in Firefox and Opera. */\n",
              "        border: none;\n",
              "        /* Needs to be in here for Safari polyfill so background images work as expected. */\n",
              "        background-size: auto;\n",
              "    }\n",
              "    progress:not([value]), progress:not([value])::-webkit-progress-bar {\n",
              "        background: repeating-linear-gradient(45deg, #7e7e7e, #7e7e7e 10px, #5c5c5c 10px, #5c5c5c 20px);\n",
              "    }\n",
              "    .progress-bar-interrupted, .progress-bar-interrupted::-webkit-progress-bar {\n",
              "        background: #F44336;\n",
              "    }\n",
              "</style>\n"
            ]
          },
          "metadata": {}
        },
        {
          "output_type": "display_data",
          "data": {
            "text/plain": [
              "<IPython.core.display.HTML object>"
            ],
            "text/html": [
              "\n",
              "    <div>\n",
              "      <progress value='341' class='' max='341' style='width:300px; height:20px; vertical-align: middle;'></progress>\n",
              "      100.00% [341/341 00:00&lt;00:00]\n",
              "    </div>\n",
              "    "
            ]
          },
          "metadata": {}
        },
        {
          "output_type": "display_data",
          "data": {
            "text/plain": [
              "<IPython.core.display.HTML object>"
            ],
            "text/html": [
              "\n",
              "<style>\n",
              "    /* Turns off some styling */\n",
              "    progress {\n",
              "        /* gets rid of default border in Firefox and Opera. */\n",
              "        border: none;\n",
              "        /* Needs to be in here for Safari polyfill so background images work as expected. */\n",
              "        background-size: auto;\n",
              "    }\n",
              "    progress:not([value]), progress:not([value])::-webkit-progress-bar {\n",
              "        background: repeating-linear-gradient(45deg, #7e7e7e, #7e7e7e 10px, #5c5c5c 10px, #5c5c5c 20px);\n",
              "    }\n",
              "    .progress-bar-interrupted, .progress-bar-interrupted::-webkit-progress-bar {\n",
              "        background: #F44336;\n",
              "    }\n",
              "</style>\n"
            ]
          },
          "metadata": {}
        },
        {
          "output_type": "display_data",
          "data": {
            "text/plain": [
              "<IPython.core.display.HTML object>"
            ],
            "text/html": [
              "\n",
              "    <div>\n",
              "      <progress value='38' class='' max='38' style='width:300px; height:20px; vertical-align: middle;'></progress>\n",
              "      100.00% [38/38 00:00&lt;00:00]\n",
              "    </div>\n",
              "    "
            ]
          },
          "metadata": {}
        }
      ],
      "source": [
        "databunch_lm = BertLMDataBunch.from_raw_corpus(\n",
        "                    data_dir=DATA_PATH,\n",
        "                    text_list=all_texts,\n",
        "                    tokenizer='camembert-base',\n",
        "                    batch_size_per_gpu=16,\n",
        "                    max_seq_length=512,\n",
        "                    multi_gpu=False,\n",
        "                    model_type='camembert-base',\n",
        "                    logger=logger)"
      ]
    },
    {
      "cell_type": "markdown",
      "metadata": {
        "id": "zykivTa1Ehza"
      },
      "source": [
        "### Création de LMLearner"
      ]
    },
    {
      "cell_type": "code",
      "execution_count": null,
      "metadata": {
        "id": "etMJhh6lEhzb"
      },
      "outputs": [],
      "source": [
        "lm_learner = BertLMLearner.from_pretrained_model(\n",
        "                            dataBunch=databunch_lm,\n",
        "                            pretrained_path='camembert-base',\n",
        "                            output_dir=MODEL_PATH,\n",
        "                            metrics=[],\n",
        "                            device=device_cuda,\n",
        "                            logger=logger,\n",
        "                            multi_gpu=False,\n",
        "                            logging_steps=50,\n",
        "                            fp16_opt_level=\"O2\")"
      ]
    },
    {
      "cell_type": "code",
      "execution_count": null,
      "metadata": {
        "id": "KwG8UVoMEhzc",
        "colab": {
          "base_uri": "https://localhost:8080/",
          "height": 838
        },
        "outputId": "63008ec1-2cc1-4a73-bab5-da404073ebae"
      },
      "outputs": [
        {
          "output_type": "stream",
          "name": "stderr",
          "text": [
            "/usr/local/lib/python3.10/dist-packages/transformers/optimization.py:306: FutureWarning: This implementation of AdamW is deprecated and will be removed in a future version. Use the PyTorch implementation torch.optim.AdamW instead, or set `no_deprecation_warning=True` to disable this warning\n",
            "  warnings.warn(\n"
          ]
        },
        {
          "output_type": "display_data",
          "data": {
            "text/plain": [
              "<IPython.core.display.HTML object>"
            ],
            "text/html": [
              "\n",
              "<style>\n",
              "    /* Turns off some styling */\n",
              "    progress {\n",
              "        /* gets rid of default border in Firefox and Opera. */\n",
              "        border: none;\n",
              "        /* Needs to be in here for Safari polyfill so background images work as expected. */\n",
              "        background-size: auto;\n",
              "    }\n",
              "    progress:not([value]), progress:not([value])::-webkit-progress-bar {\n",
              "        background: repeating-linear-gradient(45deg, #7e7e7e, #7e7e7e 10px, #5c5c5c 10px, #5c5c5c 20px);\n",
              "    }\n",
              "    .progress-bar-interrupted, .progress-bar-interrupted::-webkit-progress-bar {\n",
              "        background: #F44336;\n",
              "    }\n",
              "</style>\n"
            ]
          },
          "metadata": {}
        },
        {
          "output_type": "display_data",
          "data": {
            "text/plain": [
              "<IPython.core.display.HTML object>"
            ],
            "text/html": []
          },
          "metadata": {}
        },
        {
          "output_type": "stream",
          "name": "stderr",
          "text": [
            "/usr/local/lib/python3.10/dist-packages/torch/optim/lr_scheduler.py:136: UserWarning: Detected call of `lr_scheduler.step()` before `optimizer.step()`. In PyTorch 1.1.0 and later, you should call them in the opposite order: `optimizer.step()` before `lr_scheduler.step()`.  Failure to do this will result in PyTorch skipping the first value of the learning rate schedule. See more details at https://pytorch.org/docs/stable/optim.html#how-to-adjust-learning-rate\n",
            "  warnings.warn(\"Detected call of `lr_scheduler.step()` before `optimizer.step()`. \"\n"
          ]
        },
        {
          "output_type": "display_data",
          "data": {
            "text/plain": [
              "<IPython.core.display.HTML object>"
            ],
            "text/html": [
              "\n",
              "<style>\n",
              "    /* Turns off some styling */\n",
              "    progress {\n",
              "        /* gets rid of default border in Firefox and Opera. */\n",
              "        border: none;\n",
              "        /* Needs to be in here for Safari polyfill so background images work as expected. */\n",
              "        background-size: auto;\n",
              "    }\n",
              "    progress:not([value]), progress:not([value])::-webkit-progress-bar {\n",
              "        background: repeating-linear-gradient(45deg, #7e7e7e, #7e7e7e 10px, #5c5c5c 10px, #5c5c5c 20px);\n",
              "    }\n",
              "    .progress-bar-interrupted, .progress-bar-interrupted::-webkit-progress-bar {\n",
              "        background: #F44336;\n",
              "    }\n",
              "</style>\n"
            ]
          },
          "metadata": {}
        },
        {
          "output_type": "display_data",
          "data": {
            "text/plain": [
              "<IPython.core.display.HTML object>"
            ],
            "text/html": [
              "\n",
              "    <div>\n",
              "      <progress value='1' class='' max='1' style='width:300px; height:20px; vertical-align: middle;'></progress>\n",
              "      100.00% [1/1 00:00&lt;00:00]\n",
              "    </div>\n",
              "    "
            ]
          },
          "metadata": {}
        },
        {
          "output_type": "stream",
          "name": "stderr",
          "text": [
            "/usr/local/lib/python3.10/dist-packages/torch/optim/lr_scheduler.py:261: UserWarning: To get the last learning rate computed by the scheduler, please use `get_last_lr()`.\n",
            "  warnings.warn(\"To get the last learning rate computed by the scheduler, \"\n"
          ]
        },
        {
          "output_type": "display_data",
          "data": {
            "text/plain": [
              "<IPython.core.display.HTML object>"
            ],
            "text/html": [
              "\n",
              "<style>\n",
              "    /* Turns off some styling */\n",
              "    progress {\n",
              "        /* gets rid of default border in Firefox and Opera. */\n",
              "        border: none;\n",
              "        /* Needs to be in here for Safari polyfill so background images work as expected. */\n",
              "        background-size: auto;\n",
              "    }\n",
              "    progress:not([value]), progress:not([value])::-webkit-progress-bar {\n",
              "        background: repeating-linear-gradient(45deg, #7e7e7e, #7e7e7e 10px, #5c5c5c 10px, #5c5c5c 20px);\n",
              "    }\n",
              "    .progress-bar-interrupted, .progress-bar-interrupted::-webkit-progress-bar {\n",
              "        background: #F44336;\n",
              "    }\n",
              "</style>\n"
            ]
          },
          "metadata": {}
        },
        {
          "output_type": "display_data",
          "data": {
            "text/plain": [
              "<IPython.core.display.HTML object>"
            ],
            "text/html": [
              "\n",
              "    <div>\n",
              "      <progress value='1' class='' max='1' style='width:300px; height:20px; vertical-align: middle;'></progress>\n",
              "      100.00% [1/1 00:00&lt;00:00]\n",
              "    </div>\n",
              "    "
            ]
          },
          "metadata": {}
        },
        {
          "output_type": "display_data",
          "data": {
            "text/plain": [
              "<IPython.core.display.HTML object>"
            ],
            "text/html": [
              "\n",
              "<style>\n",
              "    /* Turns off some styling */\n",
              "    progress {\n",
              "        /* gets rid of default border in Firefox and Opera. */\n",
              "        border: none;\n",
              "        /* Needs to be in here for Safari polyfill so background images work as expected. */\n",
              "        background-size: auto;\n",
              "    }\n",
              "    progress:not([value]), progress:not([value])::-webkit-progress-bar {\n",
              "        background: repeating-linear-gradient(45deg, #7e7e7e, #7e7e7e 10px, #5c5c5c 10px, #5c5c5c 20px);\n",
              "    }\n",
              "    .progress-bar-interrupted, .progress-bar-interrupted::-webkit-progress-bar {\n",
              "        background: #F44336;\n",
              "    }\n",
              "</style>\n"
            ]
          },
          "metadata": {}
        },
        {
          "output_type": "display_data",
          "data": {
            "text/plain": [
              "<IPython.core.display.HTML object>"
            ],
            "text/html": [
              "\n",
              "    <div>\n",
              "      <progress value='1' class='' max='1' style='width:300px; height:20px; vertical-align: middle;'></progress>\n",
              "      100.00% [1/1 00:00&lt;00:00]\n",
              "    </div>\n",
              "    "
            ]
          },
          "metadata": {}
        },
        {
          "output_type": "display_data",
          "data": {
            "text/plain": [
              "<IPython.core.display.HTML object>"
            ],
            "text/html": [
              "\n",
              "<style>\n",
              "    /* Turns off some styling */\n",
              "    progress {\n",
              "        /* gets rid of default border in Firefox and Opera. */\n",
              "        border: none;\n",
              "        /* Needs to be in here for Safari polyfill so background images work as expected. */\n",
              "        background-size: auto;\n",
              "    }\n",
              "    progress:not([value]), progress:not([value])::-webkit-progress-bar {\n",
              "        background: repeating-linear-gradient(45deg, #7e7e7e, #7e7e7e 10px, #5c5c5c 10px, #5c5c5c 20px);\n",
              "    }\n",
              "    .progress-bar-interrupted, .progress-bar-interrupted::-webkit-progress-bar {\n",
              "        background: #F44336;\n",
              "    }\n",
              "</style>\n"
            ]
          },
          "metadata": {}
        },
        {
          "output_type": "display_data",
          "data": {
            "text/plain": [
              "<IPython.core.display.HTML object>"
            ],
            "text/html": [
              "\n",
              "    <div>\n",
              "      <progress value='1' class='' max='1' style='width:300px; height:20px; vertical-align: middle;'></progress>\n",
              "      100.00% [1/1 00:00&lt;00:00]\n",
              "    </div>\n",
              "    "
            ]
          },
          "metadata": {}
        },
        {
          "output_type": "display_data",
          "data": {
            "text/plain": [
              "<IPython.core.display.HTML object>"
            ],
            "text/html": [
              "\n",
              "<style>\n",
              "    /* Turns off some styling */\n",
              "    progress {\n",
              "        /* gets rid of default border in Firefox and Opera. */\n",
              "        border: none;\n",
              "        /* Needs to be in here for Safari polyfill so background images work as expected. */\n",
              "        background-size: auto;\n",
              "    }\n",
              "    progress:not([value]), progress:not([value])::-webkit-progress-bar {\n",
              "        background: repeating-linear-gradient(45deg, #7e7e7e, #7e7e7e 10px, #5c5c5c 10px, #5c5c5c 20px);\n",
              "    }\n",
              "    .progress-bar-interrupted, .progress-bar-interrupted::-webkit-progress-bar {\n",
              "        background: #F44336;\n",
              "    }\n",
              "</style>\n"
            ]
          },
          "metadata": {}
        },
        {
          "output_type": "display_data",
          "data": {
            "text/plain": [
              "<IPython.core.display.HTML object>"
            ],
            "text/html": [
              "\n",
              "    <div>\n",
              "      <progress value='1' class='' max='1' style='width:300px; height:20px; vertical-align: middle;'></progress>\n",
              "      100.00% [1/1 00:00&lt;00:00]\n",
              "    </div>\n",
              "    "
            ]
          },
          "metadata": {}
        },
        {
          "output_type": "display_data",
          "data": {
            "text/plain": [
              "<IPython.core.display.HTML object>"
            ],
            "text/html": [
              "\n",
              "<style>\n",
              "    /* Turns off some styling */\n",
              "    progress {\n",
              "        /* gets rid of default border in Firefox and Opera. */\n",
              "        border: none;\n",
              "        /* Needs to be in here for Safari polyfill so background images work as expected. */\n",
              "        background-size: auto;\n",
              "    }\n",
              "    progress:not([value]), progress:not([value])::-webkit-progress-bar {\n",
              "        background: repeating-linear-gradient(45deg, #7e7e7e, #7e7e7e 10px, #5c5c5c 10px, #5c5c5c 20px);\n",
              "    }\n",
              "    .progress-bar-interrupted, .progress-bar-interrupted::-webkit-progress-bar {\n",
              "        background: #F44336;\n",
              "    }\n",
              "</style>\n"
            ]
          },
          "metadata": {}
        },
        {
          "output_type": "display_data",
          "data": {
            "text/plain": [
              "<IPython.core.display.HTML object>"
            ],
            "text/html": [
              "\n",
              "    <div>\n",
              "      <progress value='1' class='' max='1' style='width:300px; height:20px; vertical-align: middle;'></progress>\n",
              "      100.00% [1/1 00:00&lt;00:00]\n",
              "    </div>\n",
              "    "
            ]
          },
          "metadata": {}
        },
        {
          "output_type": "display_data",
          "data": {
            "text/plain": [
              "<IPython.core.display.HTML object>"
            ],
            "text/html": [
              "\n",
              "<style>\n",
              "    /* Turns off some styling */\n",
              "    progress {\n",
              "        /* gets rid of default border in Firefox and Opera. */\n",
              "        border: none;\n",
              "        /* Needs to be in here for Safari polyfill so background images work as expected. */\n",
              "        background-size: auto;\n",
              "    }\n",
              "    progress:not([value]), progress:not([value])::-webkit-progress-bar {\n",
              "        background: repeating-linear-gradient(45deg, #7e7e7e, #7e7e7e 10px, #5c5c5c 10px, #5c5c5c 20px);\n",
              "    }\n",
              "    .progress-bar-interrupted, .progress-bar-interrupted::-webkit-progress-bar {\n",
              "        background: #F44336;\n",
              "    }\n",
              "</style>\n"
            ]
          },
          "metadata": {}
        },
        {
          "output_type": "display_data",
          "data": {
            "text/plain": [
              "<IPython.core.display.HTML object>"
            ],
            "text/html": [
              "\n",
              "    <div>\n",
              "      <progress value='1' class='' max='1' style='width:300px; height:20px; vertical-align: middle;'></progress>\n",
              "      100.00% [1/1 00:00&lt;00:00]\n",
              "    </div>\n",
              "    "
            ]
          },
          "metadata": {}
        },
        {
          "output_type": "display_data",
          "data": {
            "text/plain": [
              "<IPython.core.display.HTML object>"
            ],
            "text/html": [
              "\n",
              "<style>\n",
              "    /* Turns off some styling */\n",
              "    progress {\n",
              "        /* gets rid of default border in Firefox and Opera. */\n",
              "        border: none;\n",
              "        /* Needs to be in here for Safari polyfill so background images work as expected. */\n",
              "        background-size: auto;\n",
              "    }\n",
              "    progress:not([value]), progress:not([value])::-webkit-progress-bar {\n",
              "        background: repeating-linear-gradient(45deg, #7e7e7e, #7e7e7e 10px, #5c5c5c 10px, #5c5c5c 20px);\n",
              "    }\n",
              "    .progress-bar-interrupted, .progress-bar-interrupted::-webkit-progress-bar {\n",
              "        background: #F44336;\n",
              "    }\n",
              "</style>\n"
            ]
          },
          "metadata": {}
        },
        {
          "output_type": "display_data",
          "data": {
            "text/plain": [
              "<IPython.core.display.HTML object>"
            ],
            "text/html": [
              "\n",
              "    <div>\n",
              "      <progress value='1' class='' max='1' style='width:300px; height:20px; vertical-align: middle;'></progress>\n",
              "      100.00% [1/1 00:00&lt;00:00]\n",
              "    </div>\n",
              "    "
            ]
          },
          "metadata": {}
        },
        {
          "output_type": "display_data",
          "data": {
            "text/plain": [
              "<IPython.core.display.HTML object>"
            ],
            "text/html": [
              "\n",
              "<style>\n",
              "    /* Turns off some styling */\n",
              "    progress {\n",
              "        /* gets rid of default border in Firefox and Opera. */\n",
              "        border: none;\n",
              "        /* Needs to be in here for Safari polyfill so background images work as expected. */\n",
              "        background-size: auto;\n",
              "    }\n",
              "    progress:not([value]), progress:not([value])::-webkit-progress-bar {\n",
              "        background: repeating-linear-gradient(45deg, #7e7e7e, #7e7e7e 10px, #5c5c5c 10px, #5c5c5c 20px);\n",
              "    }\n",
              "    .progress-bar-interrupted, .progress-bar-interrupted::-webkit-progress-bar {\n",
              "        background: #F44336;\n",
              "    }\n",
              "</style>\n"
            ]
          },
          "metadata": {}
        },
        {
          "output_type": "display_data",
          "data": {
            "text/plain": [
              "<IPython.core.display.HTML object>"
            ],
            "text/html": [
              "\n",
              "    <div>\n",
              "      <progress value='1' class='' max='1' style='width:300px; height:20px; vertical-align: middle;'></progress>\n",
              "      100.00% [1/1 00:00&lt;00:00]\n",
              "    </div>\n",
              "    "
            ]
          },
          "metadata": {}
        },
        {
          "output_type": "display_data",
          "data": {
            "text/plain": [
              "<IPython.core.display.HTML object>"
            ],
            "text/html": [
              "\n",
              "<style>\n",
              "    /* Turns off some styling */\n",
              "    progress {\n",
              "        /* gets rid of default border in Firefox and Opera. */\n",
              "        border: none;\n",
              "        /* Needs to be in here for Safari polyfill so background images work as expected. */\n",
              "        background-size: auto;\n",
              "    }\n",
              "    progress:not([value]), progress:not([value])::-webkit-progress-bar {\n",
              "        background: repeating-linear-gradient(45deg, #7e7e7e, #7e7e7e 10px, #5c5c5c 10px, #5c5c5c 20px);\n",
              "    }\n",
              "    .progress-bar-interrupted, .progress-bar-interrupted::-webkit-progress-bar {\n",
              "        background: #F44336;\n",
              "    }\n",
              "</style>\n"
            ]
          },
          "metadata": {}
        },
        {
          "output_type": "display_data",
          "data": {
            "text/plain": [
              "<IPython.core.display.HTML object>"
            ],
            "text/html": [
              "\n",
              "    <div>\n",
              "      <progress value='1' class='' max='1' style='width:300px; height:20px; vertical-align: middle;'></progress>\n",
              "      100.00% [1/1 00:00&lt;00:00]\n",
              "    </div>\n",
              "    "
            ]
          },
          "metadata": {}
        },
        {
          "output_type": "display_data",
          "data": {
            "text/plain": [
              "<IPython.core.display.HTML object>"
            ],
            "text/html": [
              "\n",
              "<style>\n",
              "    /* Turns off some styling */\n",
              "    progress {\n",
              "        /* gets rid of default border in Firefox and Opera. */\n",
              "        border: none;\n",
              "        /* Needs to be in here for Safari polyfill so background images work as expected. */\n",
              "        background-size: auto;\n",
              "    }\n",
              "    progress:not([value]), progress:not([value])::-webkit-progress-bar {\n",
              "        background: repeating-linear-gradient(45deg, #7e7e7e, #7e7e7e 10px, #5c5c5c 10px, #5c5c5c 20px);\n",
              "    }\n",
              "    .progress-bar-interrupted, .progress-bar-interrupted::-webkit-progress-bar {\n",
              "        background: #F44336;\n",
              "    }\n",
              "</style>\n"
            ]
          },
          "metadata": {}
        },
        {
          "output_type": "display_data",
          "data": {
            "text/plain": [
              "<IPython.core.display.HTML object>"
            ],
            "text/html": [
              "\n",
              "    <div>\n",
              "      <progress value='1' class='' max='1' style='width:300px; height:20px; vertical-align: middle;'></progress>\n",
              "      100.00% [1/1 00:00&lt;00:00]\n",
              "    </div>\n",
              "    "
            ]
          },
          "metadata": {}
        },
        {
          "output_type": "display_data",
          "data": {
            "text/plain": [
              "<IPython.core.display.HTML object>"
            ],
            "text/html": [
              "\n",
              "<style>\n",
              "    /* Turns off some styling */\n",
              "    progress {\n",
              "        /* gets rid of default border in Firefox and Opera. */\n",
              "        border: none;\n",
              "        /* Needs to be in here for Safari polyfill so background images work as expected. */\n",
              "        background-size: auto;\n",
              "    }\n",
              "    progress:not([value]), progress:not([value])::-webkit-progress-bar {\n",
              "        background: repeating-linear-gradient(45deg, #7e7e7e, #7e7e7e 10px, #5c5c5c 10px, #5c5c5c 20px);\n",
              "    }\n",
              "    .progress-bar-interrupted, .progress-bar-interrupted::-webkit-progress-bar {\n",
              "        background: #F44336;\n",
              "    }\n",
              "</style>\n"
            ]
          },
          "metadata": {}
        },
        {
          "output_type": "display_data",
          "data": {
            "text/plain": [
              "<IPython.core.display.HTML object>"
            ],
            "text/html": [
              "\n",
              "    <div>\n",
              "      <progress value='1' class='' max='1' style='width:300px; height:20px; vertical-align: middle;'></progress>\n",
              "      100.00% [1/1 00:00&lt;00:00]\n",
              "    </div>\n",
              "    "
            ]
          },
          "metadata": {}
        },
        {
          "output_type": "display_data",
          "data": {
            "text/plain": [
              "<IPython.core.display.HTML object>"
            ],
            "text/html": [
              "\n",
              "<style>\n",
              "    /* Turns off some styling */\n",
              "    progress {\n",
              "        /* gets rid of default border in Firefox and Opera. */\n",
              "        border: none;\n",
              "        /* Needs to be in here for Safari polyfill so background images work as expected. */\n",
              "        background-size: auto;\n",
              "    }\n",
              "    progress:not([value]), progress:not([value])::-webkit-progress-bar {\n",
              "        background: repeating-linear-gradient(45deg, #7e7e7e, #7e7e7e 10px, #5c5c5c 10px, #5c5c5c 20px);\n",
              "    }\n",
              "    .progress-bar-interrupted, .progress-bar-interrupted::-webkit-progress-bar {\n",
              "        background: #F44336;\n",
              "    }\n",
              "</style>\n"
            ]
          },
          "metadata": {}
        },
        {
          "output_type": "display_data",
          "data": {
            "text/plain": [
              "<IPython.core.display.HTML object>"
            ],
            "text/html": [
              "\n",
              "    <div>\n",
              "      <progress value='1' class='' max='1' style='width:300px; height:20px; vertical-align: middle;'></progress>\n",
              "      100.00% [1/1 00:00&lt;00:00]\n",
              "    </div>\n",
              "    "
            ]
          },
          "metadata": {}
        },
        {
          "output_type": "display_data",
          "data": {
            "text/plain": [
              "<IPython.core.display.HTML object>"
            ],
            "text/html": [
              "\n",
              "<style>\n",
              "    /* Turns off some styling */\n",
              "    progress {\n",
              "        /* gets rid of default border in Firefox and Opera. */\n",
              "        border: none;\n",
              "        /* Needs to be in here for Safari polyfill so background images work as expected. */\n",
              "        background-size: auto;\n",
              "    }\n",
              "    progress:not([value]), progress:not([value])::-webkit-progress-bar {\n",
              "        background: repeating-linear-gradient(45deg, #7e7e7e, #7e7e7e 10px, #5c5c5c 10px, #5c5c5c 20px);\n",
              "    }\n",
              "    .progress-bar-interrupted, .progress-bar-interrupted::-webkit-progress-bar {\n",
              "        background: #F44336;\n",
              "    }\n",
              "</style>\n"
            ]
          },
          "metadata": {}
        },
        {
          "output_type": "display_data",
          "data": {
            "text/plain": [
              "<IPython.core.display.HTML object>"
            ],
            "text/html": [
              "\n",
              "    <div>\n",
              "      <progress value='1' class='' max='1' style='width:300px; height:20px; vertical-align: middle;'></progress>\n",
              "      100.00% [1/1 00:00&lt;00:00]\n",
              "    </div>\n",
              "    "
            ]
          },
          "metadata": {}
        },
        {
          "output_type": "display_data",
          "data": {
            "text/plain": [
              "<IPython.core.display.HTML object>"
            ],
            "text/html": [
              "\n",
              "<style>\n",
              "    /* Turns off some styling */\n",
              "    progress {\n",
              "        /* gets rid of default border in Firefox and Opera. */\n",
              "        border: none;\n",
              "        /* Needs to be in here for Safari polyfill so background images work as expected. */\n",
              "        background-size: auto;\n",
              "    }\n",
              "    progress:not([value]), progress:not([value])::-webkit-progress-bar {\n",
              "        background: repeating-linear-gradient(45deg, #7e7e7e, #7e7e7e 10px, #5c5c5c 10px, #5c5c5c 20px);\n",
              "    }\n",
              "    .progress-bar-interrupted, .progress-bar-interrupted::-webkit-progress-bar {\n",
              "        background: #F44336;\n",
              "    }\n",
              "</style>\n"
            ]
          },
          "metadata": {}
        },
        {
          "output_type": "display_data",
          "data": {
            "text/plain": [
              "<IPython.core.display.HTML object>"
            ],
            "text/html": [
              "\n",
              "    <div>\n",
              "      <progress value='1' class='' max='1' style='width:300px; height:20px; vertical-align: middle;'></progress>\n",
              "      100.00% [1/1 00:00&lt;00:00]\n",
              "    </div>\n",
              "    "
            ]
          },
          "metadata": {}
        },
        {
          "output_type": "display_data",
          "data": {
            "text/plain": [
              "<IPython.core.display.HTML object>"
            ],
            "text/html": [
              "\n",
              "<style>\n",
              "    /* Turns off some styling */\n",
              "    progress {\n",
              "        /* gets rid of default border in Firefox and Opera. */\n",
              "        border: none;\n",
              "        /* Needs to be in here for Safari polyfill so background images work as expected. */\n",
              "        background-size: auto;\n",
              "    }\n",
              "    progress:not([value]), progress:not([value])::-webkit-progress-bar {\n",
              "        background: repeating-linear-gradient(45deg, #7e7e7e, #7e7e7e 10px, #5c5c5c 10px, #5c5c5c 20px);\n",
              "    }\n",
              "    .progress-bar-interrupted, .progress-bar-interrupted::-webkit-progress-bar {\n",
              "        background: #F44336;\n",
              "    }\n",
              "</style>\n"
            ]
          },
          "metadata": {}
        },
        {
          "output_type": "display_data",
          "data": {
            "text/plain": [
              "<IPython.core.display.HTML object>"
            ],
            "text/html": [
              "\n",
              "    <div>\n",
              "      <progress value='1' class='' max='1' style='width:300px; height:20px; vertical-align: middle;'></progress>\n",
              "      100.00% [1/1 00:00&lt;00:00]\n",
              "    </div>\n",
              "    "
            ]
          },
          "metadata": {}
        },
        {
          "output_type": "display_data",
          "data": {
            "text/plain": [
              "<IPython.core.display.HTML object>"
            ],
            "text/html": [
              "\n",
              "<style>\n",
              "    /* Turns off some styling */\n",
              "    progress {\n",
              "        /* gets rid of default border in Firefox and Opera. */\n",
              "        border: none;\n",
              "        /* Needs to be in here for Safari polyfill so background images work as expected. */\n",
              "        background-size: auto;\n",
              "    }\n",
              "    progress:not([value]), progress:not([value])::-webkit-progress-bar {\n",
              "        background: repeating-linear-gradient(45deg, #7e7e7e, #7e7e7e 10px, #5c5c5c 10px, #5c5c5c 20px);\n",
              "    }\n",
              "    .progress-bar-interrupted, .progress-bar-interrupted::-webkit-progress-bar {\n",
              "        background: #F44336;\n",
              "    }\n",
              "</style>\n"
            ]
          },
          "metadata": {}
        },
        {
          "output_type": "display_data",
          "data": {
            "text/plain": [
              "<IPython.core.display.HTML object>"
            ],
            "text/html": [
              "\n",
              "    <div>\n",
              "      <progress value='1' class='' max='1' style='width:300px; height:20px; vertical-align: middle;'></progress>\n",
              "      100.00% [1/1 00:00&lt;00:00]\n",
              "    </div>\n",
              "    "
            ]
          },
          "metadata": {}
        },
        {
          "output_type": "display_data",
          "data": {
            "text/plain": [
              "<IPython.core.display.HTML object>"
            ],
            "text/html": [
              "\n",
              "<style>\n",
              "    /* Turns off some styling */\n",
              "    progress {\n",
              "        /* gets rid of default border in Firefox and Opera. */\n",
              "        border: none;\n",
              "        /* Needs to be in here for Safari polyfill so background images work as expected. */\n",
              "        background-size: auto;\n",
              "    }\n",
              "    progress:not([value]), progress:not([value])::-webkit-progress-bar {\n",
              "        background: repeating-linear-gradient(45deg, #7e7e7e, #7e7e7e 10px, #5c5c5c 10px, #5c5c5c 20px);\n",
              "    }\n",
              "    .progress-bar-interrupted, .progress-bar-interrupted::-webkit-progress-bar {\n",
              "        background: #F44336;\n",
              "    }\n",
              "</style>\n"
            ]
          },
          "metadata": {}
        },
        {
          "output_type": "display_data",
          "data": {
            "text/plain": [
              "<IPython.core.display.HTML object>"
            ],
            "text/html": [
              "\n",
              "    <div>\n",
              "      <progress value='1' class='' max='1' style='width:300px; height:20px; vertical-align: middle;'></progress>\n",
              "      100.00% [1/1 00:00&lt;00:00]\n",
              "    </div>\n",
              "    "
            ]
          },
          "metadata": {}
        },
        {
          "output_type": "display_data",
          "data": {
            "text/plain": [
              "<IPython.core.display.HTML object>"
            ],
            "text/html": [
              "\n",
              "<style>\n",
              "    /* Turns off some styling */\n",
              "    progress {\n",
              "        /* gets rid of default border in Firefox and Opera. */\n",
              "        border: none;\n",
              "        /* Needs to be in here for Safari polyfill so background images work as expected. */\n",
              "        background-size: auto;\n",
              "    }\n",
              "    progress:not([value]), progress:not([value])::-webkit-progress-bar {\n",
              "        background: repeating-linear-gradient(45deg, #7e7e7e, #7e7e7e 10px, #5c5c5c 10px, #5c5c5c 20px);\n",
              "    }\n",
              "    .progress-bar-interrupted, .progress-bar-interrupted::-webkit-progress-bar {\n",
              "        background: #F44336;\n",
              "    }\n",
              "</style>\n"
            ]
          },
          "metadata": {}
        },
        {
          "output_type": "display_data",
          "data": {
            "text/plain": [
              "<IPython.core.display.HTML object>"
            ],
            "text/html": [
              "\n",
              "    <div>\n",
              "      <progress value='1' class='' max='1' style='width:300px; height:20px; vertical-align: middle;'></progress>\n",
              "      100.00% [1/1 00:00&lt;00:00]\n",
              "    </div>\n",
              "    "
            ]
          },
          "metadata": {}
        },
        {
          "output_type": "display_data",
          "data": {
            "text/plain": [
              "<IPython.core.display.HTML object>"
            ],
            "text/html": [
              "\n",
              "<style>\n",
              "    /* Turns off some styling */\n",
              "    progress {\n",
              "        /* gets rid of default border in Firefox and Opera. */\n",
              "        border: none;\n",
              "        /* Needs to be in here for Safari polyfill so background images work as expected. */\n",
              "        background-size: auto;\n",
              "    }\n",
              "    progress:not([value]), progress:not([value])::-webkit-progress-bar {\n",
              "        background: repeating-linear-gradient(45deg, #7e7e7e, #7e7e7e 10px, #5c5c5c 10px, #5c5c5c 20px);\n",
              "    }\n",
              "    .progress-bar-interrupted, .progress-bar-interrupted::-webkit-progress-bar {\n",
              "        background: #F44336;\n",
              "    }\n",
              "</style>\n"
            ]
          },
          "metadata": {}
        },
        {
          "output_type": "display_data",
          "data": {
            "text/plain": [
              "<IPython.core.display.HTML object>"
            ],
            "text/html": [
              "\n",
              "    <div>\n",
              "      <progress value='1' class='' max='1' style='width:300px; height:20px; vertical-align: middle;'></progress>\n",
              "      100.00% [1/1 00:00&lt;00:00]\n",
              "    </div>\n",
              "    "
            ]
          },
          "metadata": {}
        },
        {
          "output_type": "display_data",
          "data": {
            "text/plain": [
              "<IPython.core.display.HTML object>"
            ],
            "text/html": [
              "\n",
              "<style>\n",
              "    /* Turns off some styling */\n",
              "    progress {\n",
              "        /* gets rid of default border in Firefox and Opera. */\n",
              "        border: none;\n",
              "        /* Needs to be in here for Safari polyfill so background images work as expected. */\n",
              "        background-size: auto;\n",
              "    }\n",
              "    progress:not([value]), progress:not([value])::-webkit-progress-bar {\n",
              "        background: repeating-linear-gradient(45deg, #7e7e7e, #7e7e7e 10px, #5c5c5c 10px, #5c5c5c 20px);\n",
              "    }\n",
              "    .progress-bar-interrupted, .progress-bar-interrupted::-webkit-progress-bar {\n",
              "        background: #F44336;\n",
              "    }\n",
              "</style>\n"
            ]
          },
          "metadata": {}
        },
        {
          "output_type": "display_data",
          "data": {
            "text/plain": [
              "<IPython.core.display.HTML object>"
            ],
            "text/html": [
              "\n",
              "    <div>\n",
              "      <progress value='1' class='' max='1' style='width:300px; height:20px; vertical-align: middle;'></progress>\n",
              "      100.00% [1/1 00:00&lt;00:00]\n",
              "    </div>\n",
              "    "
            ]
          },
          "metadata": {}
        },
        {
          "output_type": "display_data",
          "data": {
            "text/plain": [
              "<IPython.core.display.HTML object>"
            ],
            "text/html": [
              "\n",
              "<style>\n",
              "    /* Turns off some styling */\n",
              "    progress {\n",
              "        /* gets rid of default border in Firefox and Opera. */\n",
              "        border: none;\n",
              "        /* Needs to be in here for Safari polyfill so background images work as expected. */\n",
              "        background-size: auto;\n",
              "    }\n",
              "    progress:not([value]), progress:not([value])::-webkit-progress-bar {\n",
              "        background: repeating-linear-gradient(45deg, #7e7e7e, #7e7e7e 10px, #5c5c5c 10px, #5c5c5c 20px);\n",
              "    }\n",
              "    .progress-bar-interrupted, .progress-bar-interrupted::-webkit-progress-bar {\n",
              "        background: #F44336;\n",
              "    }\n",
              "</style>\n"
            ]
          },
          "metadata": {}
        },
        {
          "output_type": "display_data",
          "data": {
            "text/plain": [
              "<IPython.core.display.HTML object>"
            ],
            "text/html": [
              "\n",
              "    <div>\n",
              "      <progress value='1' class='' max='1' style='width:300px; height:20px; vertical-align: middle;'></progress>\n",
              "      100.00% [1/1 00:00&lt;00:00]\n",
              "    </div>\n",
              "    "
            ]
          },
          "metadata": {}
        },
        {
          "output_type": "display_data",
          "data": {
            "text/plain": [
              "<IPython.core.display.HTML object>"
            ],
            "text/html": [
              "\n",
              "<style>\n",
              "    /* Turns off some styling */\n",
              "    progress {\n",
              "        /* gets rid of default border in Firefox and Opera. */\n",
              "        border: none;\n",
              "        /* Needs to be in here for Safari polyfill so background images work as expected. */\n",
              "        background-size: auto;\n",
              "    }\n",
              "    progress:not([value]), progress:not([value])::-webkit-progress-bar {\n",
              "        background: repeating-linear-gradient(45deg, #7e7e7e, #7e7e7e 10px, #5c5c5c 10px, #5c5c5c 20px);\n",
              "    }\n",
              "    .progress-bar-interrupted, .progress-bar-interrupted::-webkit-progress-bar {\n",
              "        background: #F44336;\n",
              "    }\n",
              "</style>\n"
            ]
          },
          "metadata": {}
        },
        {
          "output_type": "display_data",
          "data": {
            "text/plain": [
              "<IPython.core.display.HTML object>"
            ],
            "text/html": [
              "\n",
              "    <div>\n",
              "      <progress value='1' class='' max='1' style='width:300px; height:20px; vertical-align: middle;'></progress>\n",
              "      100.00% [1/1 00:00&lt;00:00]\n",
              "    </div>\n",
              "    "
            ]
          },
          "metadata": {}
        },
        {
          "output_type": "display_data",
          "data": {
            "text/plain": [
              "<IPython.core.display.HTML object>"
            ],
            "text/html": [
              "\n",
              "<style>\n",
              "    /* Turns off some styling */\n",
              "    progress {\n",
              "        /* gets rid of default border in Firefox and Opera. */\n",
              "        border: none;\n",
              "        /* Needs to be in here for Safari polyfill so background images work as expected. */\n",
              "        background-size: auto;\n",
              "    }\n",
              "    progress:not([value]), progress:not([value])::-webkit-progress-bar {\n",
              "        background: repeating-linear-gradient(45deg, #7e7e7e, #7e7e7e 10px, #5c5c5c 10px, #5c5c5c 20px);\n",
              "    }\n",
              "    .progress-bar-interrupted, .progress-bar-interrupted::-webkit-progress-bar {\n",
              "        background: #F44336;\n",
              "    }\n",
              "</style>\n"
            ]
          },
          "metadata": {}
        },
        {
          "output_type": "display_data",
          "data": {
            "text/plain": [
              "<IPython.core.display.HTML object>"
            ],
            "text/html": [
              "\n",
              "    <div>\n",
              "      <progress value='1' class='' max='1' style='width:300px; height:20px; vertical-align: middle;'></progress>\n",
              "      100.00% [1/1 00:00&lt;00:00]\n",
              "    </div>\n",
              "    "
            ]
          },
          "metadata": {}
        },
        {
          "output_type": "display_data",
          "data": {
            "text/plain": [
              "<IPython.core.display.HTML object>"
            ],
            "text/html": [
              "\n",
              "<style>\n",
              "    /* Turns off some styling */\n",
              "    progress {\n",
              "        /* gets rid of default border in Firefox and Opera. */\n",
              "        border: none;\n",
              "        /* Needs to be in here for Safari polyfill so background images work as expected. */\n",
              "        background-size: auto;\n",
              "    }\n",
              "    progress:not([value]), progress:not([value])::-webkit-progress-bar {\n",
              "        background: repeating-linear-gradient(45deg, #7e7e7e, #7e7e7e 10px, #5c5c5c 10px, #5c5c5c 20px);\n",
              "    }\n",
              "    .progress-bar-interrupted, .progress-bar-interrupted::-webkit-progress-bar {\n",
              "        background: #F44336;\n",
              "    }\n",
              "</style>\n"
            ]
          },
          "metadata": {}
        },
        {
          "output_type": "display_data",
          "data": {
            "text/plain": [
              "<IPython.core.display.HTML object>"
            ],
            "text/html": [
              "\n",
              "    <div>\n",
              "      <progress value='1' class='' max='1' style='width:300px; height:20px; vertical-align: middle;'></progress>\n",
              "      100.00% [1/1 00:00&lt;00:00]\n",
              "    </div>\n",
              "    "
            ]
          },
          "metadata": {}
        },
        {
          "output_type": "display_data",
          "data": {
            "text/plain": [
              "<IPython.core.display.HTML object>"
            ],
            "text/html": [
              "\n",
              "<style>\n",
              "    /* Turns off some styling */\n",
              "    progress {\n",
              "        /* gets rid of default border in Firefox and Opera. */\n",
              "        border: none;\n",
              "        /* Needs to be in here for Safari polyfill so background images work as expected. */\n",
              "        background-size: auto;\n",
              "    }\n",
              "    progress:not([value]), progress:not([value])::-webkit-progress-bar {\n",
              "        background: repeating-linear-gradient(45deg, #7e7e7e, #7e7e7e 10px, #5c5c5c 10px, #5c5c5c 20px);\n",
              "    }\n",
              "    .progress-bar-interrupted, .progress-bar-interrupted::-webkit-progress-bar {\n",
              "        background: #F44336;\n",
              "    }\n",
              "</style>\n"
            ]
          },
          "metadata": {}
        },
        {
          "output_type": "display_data",
          "data": {
            "text/plain": [
              "<IPython.core.display.HTML object>"
            ],
            "text/html": [
              "\n",
              "    <div>\n",
              "      <progress value='1' class='' max='1' style='width:300px; height:20px; vertical-align: middle;'></progress>\n",
              "      100.00% [1/1 00:00&lt;00:00]\n",
              "    </div>\n",
              "    "
            ]
          },
          "metadata": {}
        },
        {
          "output_type": "display_data",
          "data": {
            "text/plain": [
              "<IPython.core.display.HTML object>"
            ],
            "text/html": [
              "\n",
              "<style>\n",
              "    /* Turns off some styling */\n",
              "    progress {\n",
              "        /* gets rid of default border in Firefox and Opera. */\n",
              "        border: none;\n",
              "        /* Needs to be in here for Safari polyfill so background images work as expected. */\n",
              "        background-size: auto;\n",
              "    }\n",
              "    progress:not([value]), progress:not([value])::-webkit-progress-bar {\n",
              "        background: repeating-linear-gradient(45deg, #7e7e7e, #7e7e7e 10px, #5c5c5c 10px, #5c5c5c 20px);\n",
              "    }\n",
              "    .progress-bar-interrupted, .progress-bar-interrupted::-webkit-progress-bar {\n",
              "        background: #F44336;\n",
              "    }\n",
              "</style>\n"
            ]
          },
          "metadata": {}
        },
        {
          "output_type": "display_data",
          "data": {
            "text/plain": [
              "<IPython.core.display.HTML object>"
            ],
            "text/html": [
              "\n",
              "    <div>\n",
              "      <progress value='1' class='' max='1' style='width:300px; height:20px; vertical-align: middle;'></progress>\n",
              "      100.00% [1/1 00:00&lt;00:00]\n",
              "    </div>\n",
              "    "
            ]
          },
          "metadata": {}
        },
        {
          "output_type": "display_data",
          "data": {
            "text/plain": [
              "<IPython.core.display.HTML object>"
            ],
            "text/html": [
              "\n",
              "<style>\n",
              "    /* Turns off some styling */\n",
              "    progress {\n",
              "        /* gets rid of default border in Firefox and Opera. */\n",
              "        border: none;\n",
              "        /* Needs to be in here for Safari polyfill so background images work as expected. */\n",
              "        background-size: auto;\n",
              "    }\n",
              "    progress:not([value]), progress:not([value])::-webkit-progress-bar {\n",
              "        background: repeating-linear-gradient(45deg, #7e7e7e, #7e7e7e 10px, #5c5c5c 10px, #5c5c5c 20px);\n",
              "    }\n",
              "    .progress-bar-interrupted, .progress-bar-interrupted::-webkit-progress-bar {\n",
              "        background: #F44336;\n",
              "    }\n",
              "</style>\n"
            ]
          },
          "metadata": {}
        },
        {
          "output_type": "display_data",
          "data": {
            "text/plain": [
              "<IPython.core.display.HTML object>"
            ],
            "text/html": [
              "\n",
              "    <div>\n",
              "      <progress value='1' class='' max='1' style='width:300px; height:20px; vertical-align: middle;'></progress>\n",
              "      100.00% [1/1 00:00&lt;00:00]\n",
              "    </div>\n",
              "    "
            ]
          },
          "metadata": {}
        },
        {
          "output_type": "display_data",
          "data": {
            "text/plain": [
              "<IPython.core.display.HTML object>"
            ],
            "text/html": [
              "\n",
              "<style>\n",
              "    /* Turns off some styling */\n",
              "    progress {\n",
              "        /* gets rid of default border in Firefox and Opera. */\n",
              "        border: none;\n",
              "        /* Needs to be in here for Safari polyfill so background images work as expected. */\n",
              "        background-size: auto;\n",
              "    }\n",
              "    progress:not([value]), progress:not([value])::-webkit-progress-bar {\n",
              "        background: repeating-linear-gradient(45deg, #7e7e7e, #7e7e7e 10px, #5c5c5c 10px, #5c5c5c 20px);\n",
              "    }\n",
              "    .progress-bar-interrupted, .progress-bar-interrupted::-webkit-progress-bar {\n",
              "        background: #F44336;\n",
              "    }\n",
              "</style>\n"
            ]
          },
          "metadata": {}
        },
        {
          "output_type": "display_data",
          "data": {
            "text/plain": [
              "<IPython.core.display.HTML object>"
            ],
            "text/html": [
              "\n",
              "    <div>\n",
              "      <progress value='1' class='' max='1' style='width:300px; height:20px; vertical-align: middle;'></progress>\n",
              "      100.00% [1/1 00:00&lt;00:00]\n",
              "    </div>\n",
              "    "
            ]
          },
          "metadata": {}
        },
        {
          "output_type": "display_data",
          "data": {
            "text/plain": [
              "<IPython.core.display.HTML object>"
            ],
            "text/html": [
              "\n",
              "<style>\n",
              "    /* Turns off some styling */\n",
              "    progress {\n",
              "        /* gets rid of default border in Firefox and Opera. */\n",
              "        border: none;\n",
              "        /* Needs to be in here for Safari polyfill so background images work as expected. */\n",
              "        background-size: auto;\n",
              "    }\n",
              "    progress:not([value]), progress:not([value])::-webkit-progress-bar {\n",
              "        background: repeating-linear-gradient(45deg, #7e7e7e, #7e7e7e 10px, #5c5c5c 10px, #5c5c5c 20px);\n",
              "    }\n",
              "    .progress-bar-interrupted, .progress-bar-interrupted::-webkit-progress-bar {\n",
              "        background: #F44336;\n",
              "    }\n",
              "</style>\n"
            ]
          },
          "metadata": {}
        },
        {
          "output_type": "display_data",
          "data": {
            "text/plain": [
              "<IPython.core.display.HTML object>"
            ],
            "text/html": [
              "\n",
              "    <div>\n",
              "      <progress value='1' class='' max='1' style='width:300px; height:20px; vertical-align: middle;'></progress>\n",
              "      100.00% [1/1 00:00&lt;00:00]\n",
              "    </div>\n",
              "    "
            ]
          },
          "metadata": {}
        },
        {
          "output_type": "display_data",
          "data": {
            "text/plain": [
              "<IPython.core.display.HTML object>"
            ],
            "text/html": [
              "\n",
              "<style>\n",
              "    /* Turns off some styling */\n",
              "    progress {\n",
              "        /* gets rid of default border in Firefox and Opera. */\n",
              "        border: none;\n",
              "        /* Needs to be in here for Safari polyfill so background images work as expected. */\n",
              "        background-size: auto;\n",
              "    }\n",
              "    progress:not([value]), progress:not([value])::-webkit-progress-bar {\n",
              "        background: repeating-linear-gradient(45deg, #7e7e7e, #7e7e7e 10px, #5c5c5c 10px, #5c5c5c 20px);\n",
              "    }\n",
              "    .progress-bar-interrupted, .progress-bar-interrupted::-webkit-progress-bar {\n",
              "        background: #F44336;\n",
              "    }\n",
              "</style>\n"
            ]
          },
          "metadata": {}
        },
        {
          "output_type": "display_data",
          "data": {
            "text/plain": [
              "<IPython.core.display.HTML object>"
            ],
            "text/html": [
              "\n",
              "    <div>\n",
              "      <progress value='1' class='' max='1' style='width:300px; height:20px; vertical-align: middle;'></progress>\n",
              "      100.00% [1/1 00:00&lt;00:00]\n",
              "    </div>\n",
              "    "
            ]
          },
          "metadata": {}
        },
        {
          "output_type": "display_data",
          "data": {
            "text/plain": [
              "<IPython.core.display.HTML object>"
            ],
            "text/html": [
              "\n",
              "<style>\n",
              "    /* Turns off some styling */\n",
              "    progress {\n",
              "        /* gets rid of default border in Firefox and Opera. */\n",
              "        border: none;\n",
              "        /* Needs to be in here for Safari polyfill so background images work as expected. */\n",
              "        background-size: auto;\n",
              "    }\n",
              "    progress:not([value]), progress:not([value])::-webkit-progress-bar {\n",
              "        background: repeating-linear-gradient(45deg, #7e7e7e, #7e7e7e 10px, #5c5c5c 10px, #5c5c5c 20px);\n",
              "    }\n",
              "    .progress-bar-interrupted, .progress-bar-interrupted::-webkit-progress-bar {\n",
              "        background: #F44336;\n",
              "    }\n",
              "</style>\n"
            ]
          },
          "metadata": {}
        },
        {
          "output_type": "display_data",
          "data": {
            "text/plain": [
              "<IPython.core.display.HTML object>"
            ],
            "text/html": [
              "\n",
              "    <div>\n",
              "      <progress value='1' class='' max='1' style='width:300px; height:20px; vertical-align: middle;'></progress>\n",
              "      100.00% [1/1 00:00&lt;00:00]\n",
              "    </div>\n",
              "    "
            ]
          },
          "metadata": {}
        },
        {
          "output_type": "display_data",
          "data": {
            "text/plain": [
              "<IPython.core.display.HTML object>"
            ],
            "text/html": [
              "\n",
              "<style>\n",
              "    /* Turns off some styling */\n",
              "    progress {\n",
              "        /* gets rid of default border in Firefox and Opera. */\n",
              "        border: none;\n",
              "        /* Needs to be in here for Safari polyfill so background images work as expected. */\n",
              "        background-size: auto;\n",
              "    }\n",
              "    progress:not([value]), progress:not([value])::-webkit-progress-bar {\n",
              "        background: repeating-linear-gradient(45deg, #7e7e7e, #7e7e7e 10px, #5c5c5c 10px, #5c5c5c 20px);\n",
              "    }\n",
              "    .progress-bar-interrupted, .progress-bar-interrupted::-webkit-progress-bar {\n",
              "        background: #F44336;\n",
              "    }\n",
              "</style>\n"
            ]
          },
          "metadata": {}
        },
        {
          "output_type": "display_data",
          "data": {
            "text/plain": [
              "<IPython.core.display.HTML object>"
            ],
            "text/html": [
              "\n",
              "    <div>\n",
              "      <progress value='1' class='' max='1' style='width:300px; height:20px; vertical-align: middle;'></progress>\n",
              "      100.00% [1/1 00:00&lt;00:00]\n",
              "    </div>\n",
              "    "
            ]
          },
          "metadata": {}
        },
        {
          "output_type": "display_data",
          "data": {
            "text/plain": [
              "<IPython.core.display.HTML object>"
            ],
            "text/html": [
              "\n",
              "<style>\n",
              "    /* Turns off some styling */\n",
              "    progress {\n",
              "        /* gets rid of default border in Firefox and Opera. */\n",
              "        border: none;\n",
              "        /* Needs to be in here for Safari polyfill so background images work as expected. */\n",
              "        background-size: auto;\n",
              "    }\n",
              "    progress:not([value]), progress:not([value])::-webkit-progress-bar {\n",
              "        background: repeating-linear-gradient(45deg, #7e7e7e, #7e7e7e 10px, #5c5c5c 10px, #5c5c5c 20px);\n",
              "    }\n",
              "    .progress-bar-interrupted, .progress-bar-interrupted::-webkit-progress-bar {\n",
              "        background: #F44336;\n",
              "    }\n",
              "</style>\n"
            ]
          },
          "metadata": {}
        },
        {
          "output_type": "display_data",
          "data": {
            "text/plain": [
              "<IPython.core.display.HTML object>"
            ],
            "text/html": [
              "\n",
              "    <div>\n",
              "      <progress value='1' class='' max='1' style='width:300px; height:20px; vertical-align: middle;'></progress>\n",
              "      100.00% [1/1 00:00&lt;00:00]\n",
              "    </div>\n",
              "    "
            ]
          },
          "metadata": {}
        },
        {
          "output_type": "execute_result",
          "data": {
            "text/plain": [
              "(210, 3.570679288818723)"
            ]
          },
          "metadata": {},
          "execution_count": 12
        }
      ],
      "source": [
        "lm_learner.fit(epochs=30,\n",
        "            lr=1e-4,\n",
        "            validate=True,\n",
        "            schedule_type=\"warmup_cosine\",\n",
        "            optimizer_type=\"adamw\")"
      ]
    },
    {
      "cell_type": "code",
      "execution_count": null,
      "metadata": {
        "id": "9d1SKd_MEhze",
        "colab": {
          "base_uri": "https://localhost:8080/",
          "height": 54
        },
        "outputId": "ff5c2546-7682-42d7-e334-800d25fd7b27"
      },
      "outputs": [
        {
          "output_type": "display_data",
          "data": {
            "text/plain": [
              "<IPython.core.display.HTML object>"
            ],
            "text/html": [
              "\n",
              "<style>\n",
              "    /* Turns off some styling */\n",
              "    progress {\n",
              "        /* gets rid of default border in Firefox and Opera. */\n",
              "        border: none;\n",
              "        /* Needs to be in here for Safari polyfill so background images work as expected. */\n",
              "        background-size: auto;\n",
              "    }\n",
              "    progress:not([value]), progress:not([value])::-webkit-progress-bar {\n",
              "        background: repeating-linear-gradient(45deg, #7e7e7e, #7e7e7e 10px, #5c5c5c 10px, #5c5c5c 20px);\n",
              "    }\n",
              "    .progress-bar-interrupted, .progress-bar-interrupted::-webkit-progress-bar {\n",
              "        background: #F44336;\n",
              "    }\n",
              "</style>\n"
            ]
          },
          "metadata": {}
        },
        {
          "output_type": "display_data",
          "data": {
            "text/plain": [
              "<IPython.core.display.HTML object>"
            ],
            "text/html": [
              "\n",
              "    <div>\n",
              "      <progress value='1' class='' max='1' style='width:300px; height:20px; vertical-align: middle;'></progress>\n",
              "      100.00% [1/1 00:00&lt;00:00]\n",
              "    </div>\n",
              "    "
            ]
          },
          "metadata": {}
        },
        {
          "output_type": "execute_result",
          "data": {
            "text/plain": [
              "{'loss': 0.1361434906721115, 'perplexity': 1.1458462476730347}"
            ]
          },
          "metadata": {},
          "execution_count": 13
        }
      ],
      "source": [
        "lm_learner.validate()"
      ]
    },
    {
      "cell_type": "code",
      "execution_count": null,
      "metadata": {
        "id": "zvmBXvRvEhzh"
      },
      "outputs": [],
      "source": [
        "lm_learner.save_model()"
      ]
    },
    {
      "cell_type": "markdown",
      "metadata": {
        "id": "kqKsAzdEEhzi"
      },
      "source": [
        "# Entrainement du model"
      ]
    },
    {
      "cell_type": "markdown",
      "metadata": {
        "id": "VuoJaflWEhzj"
      },
      "source": [
        "### Création de databunch pour la classification"
      ]
    },
    {
      "cell_type": "code",
      "execution_count": null,
      "metadata": {
        "id": "UOxhhAepEhzj"
      },
      "outputs": [],
      "source": [
        "databunch = BertDataBunch(DATA_PATH, LABEL_PATH,\n",
        "                          tokenizer='camembert-base',\n",
        "                          train_file='train.csv',\n",
        "                          val_file='val.csv',\n",
        "                          label_file='labels.txt',\n",
        "                          text_col='Commentaire',\n",
        "                          label_col=['Cohésion Sociale', 'Insecurité', 'Gouvernance économique', 'Gouvernance politique'],\n",
        "                          batch_size_per_gpu=16,\n",
        "                          max_seq_length=512,\n",
        "                          multi_gpu=False,\n",
        "                          multi_label=True,\n",
        "                          model_type='camembert-base')"
      ]
    },
    {
      "cell_type": "code",
      "source": [
        "len(databunch.train_dl)"
      ],
      "metadata": {
        "id": "eGVCGXp7YyfL",
        "colab": {
          "base_uri": "https://localhost:8080/"
        },
        "outputId": "78924d44-b380-49f1-fb84-7e6ee5354c33"
      },
      "execution_count": null,
      "outputs": [
        {
          "output_type": "execute_result",
          "data": {
            "text/plain": [
              "19"
            ]
          },
          "metadata": {},
          "execution_count": 16
        }
      ]
    },
    {
      "cell_type": "markdown",
      "metadata": {
        "id": "GDkBRJzLEhzk"
      },
      "source": [
        "### Création de Learner"
      ]
    },
    {
      "cell_type": "code",
      "execution_count": null,
      "metadata": {
        "id": "8lMDKVsFEhzk"
      },
      "outputs": [],
      "source": [
        "metrics = [{'name': 'fbeta', 'function': fbeta}, {'name': 'roc_auc', 'function': roc_auc}]\n",
        "OUTPUT_DIR = Path.cwd()/'finetuned_model'\n",
        "\n",
        "WGTS_PATH = MODEL_PATH/'model_out/pytorch_model.bin'"
      ]
    },
    {
      "cell_type": "code",
      "execution_count": null,
      "metadata": {
        "id": "j-6Np-aLEhzl"
      },
      "outputs": [],
      "source": [
        "OUTPUT_DIR.mkdir(parents=True, exist_ok=True)"
      ]
    },
    {
      "cell_type": "code",
      "execution_count": null,
      "metadata": {
        "id": "IVnsGBakEhzl",
        "colab": {
          "base_uri": "https://localhost:8080/"
        },
        "outputId": "7061657f-be9c-4033-9de9-d098b680bebc"
      },
      "outputs": [
        {
          "output_type": "execute_result",
          "data": {
            "text/plain": [
              "PosixPath('/content/finetuned_model')"
            ]
          },
          "metadata": {},
          "execution_count": 19
        }
      ],
      "source": [
        "OUTPUT_DIR"
      ]
    },
    {
      "cell_type": "code",
      "execution_count": null,
      "metadata": {
        "id": "noo5VafFEhzn",
        "colab": {
          "base_uri": "https://localhost:8080/"
        },
        "outputId": "fb6dedf1-abde-4713-9cc2-4496f9bee6f4"
      },
      "outputs": [
        {
          "output_type": "stream",
          "name": "stderr",
          "text": [
            "Some weights of the model checkpoint at /content/model/model_out were not used when initializing CamembertForMultiLabelSequenceClassification: ['lm_head.layer_norm.bias', 'lm_head.layer_norm.weight', 'lm_head.bias', 'lm_head.dense.weight', 'lm_head.dense.bias']\n",
            "- This IS expected if you are initializing CamembertForMultiLabelSequenceClassification from the checkpoint of a model trained on another task or with another architecture (e.g. initializing a BertForSequenceClassification model from a BertForPreTraining model).\n",
            "- This IS NOT expected if you are initializing CamembertForMultiLabelSequenceClassification from the checkpoint of a model that you expect to be exactly identical (initializing a BertForSequenceClassification model from a BertForSequenceClassification model).\n",
            "Some weights of CamembertForMultiLabelSequenceClassification were not initialized from the model checkpoint at /content/model/model_out and are newly initialized: ['classifier.dense.weight', 'classifier.out_proj.bias', 'classifier.out_proj.weight', 'classifier.dense.bias']\n",
            "You should probably TRAIN this model on a down-stream task to be able to use it for predictions and inference.\n"
          ]
        }
      ],
      "source": [
        "cl_learner = BertLearner.from_pretrained_model(\n",
        "                        databunch,\n",
        "                        pretrained_path=MODEL_PATH/'model_out',\n",
        "                        metrics=metrics,\n",
        "                        device=device_cuda,\n",
        "                        logger=logger,\n",
        "                        output_dir=OUTPUT_DIR,\n",
        "                        finetuned_wgts_path=WGTS_PATH,\n",
        "                        warmup_steps=300,\n",
        "                        multi_gpu=False,\n",
        "                        multi_label=True,\n",
        "                        is_fp16=False,\n",
        "                        logging_steps=50)"
      ]
    },
    {
      "cell_type": "code",
      "execution_count": null,
      "metadata": {
        "id": "6_hEGMu3Ehzo",
        "colab": {
          "base_uri": "https://localhost:8080/",
          "height": 1000
        },
        "outputId": "161837bf-878a-4204-ff5e-1e4f1e7c3d2e"
      },
      "outputs": [
        {
          "output_type": "stream",
          "name": "stderr",
          "text": [
            "/usr/local/lib/python3.10/dist-packages/transformers/optimization.py:306: FutureWarning: This implementation of AdamW is deprecated and will be removed in a future version. Use the PyTorch implementation torch.optim.AdamW instead, or set `no_deprecation_warning=True` to disable this warning\n",
            "  warnings.warn(\n"
          ]
        },
        {
          "output_type": "display_data",
          "data": {
            "text/plain": [
              "<IPython.core.display.HTML object>"
            ],
            "text/html": [
              "\n",
              "<style>\n",
              "    /* Turns off some styling */\n",
              "    progress {\n",
              "        /* gets rid of default border in Firefox and Opera. */\n",
              "        border: none;\n",
              "        /* Needs to be in here for Safari polyfill so background images work as expected. */\n",
              "        background-size: auto;\n",
              "    }\n",
              "    progress:not([value]), progress:not([value])::-webkit-progress-bar {\n",
              "        background: repeating-linear-gradient(45deg, #7e7e7e, #7e7e7e 10px, #5c5c5c 10px, #5c5c5c 20px);\n",
              "    }\n",
              "    .progress-bar-interrupted, .progress-bar-interrupted::-webkit-progress-bar {\n",
              "        background: #F44336;\n",
              "    }\n",
              "</style>\n"
            ]
          },
          "metadata": {}
        },
        {
          "output_type": "display_data",
          "data": {
            "text/plain": [
              "<IPython.core.display.HTML object>"
            ],
            "text/html": []
          },
          "metadata": {}
        },
        {
          "output_type": "stream",
          "name": "stderr",
          "text": [
            "/usr/local/lib/python3.10/dist-packages/torch/optim/lr_scheduler.py:261: UserWarning: To get the last learning rate computed by the scheduler, please use `get_last_lr()`.\n",
            "  warnings.warn(\"To get the last learning rate computed by the scheduler, \"\n"
          ]
        },
        {
          "output_type": "display_data",
          "data": {
            "text/plain": [
              "<IPython.core.display.HTML object>"
            ],
            "text/html": [
              "\n",
              "<style>\n",
              "    /* Turns off some styling */\n",
              "    progress {\n",
              "        /* gets rid of default border in Firefox and Opera. */\n",
              "        border: none;\n",
              "        /* Needs to be in here for Safari polyfill so background images work as expected. */\n",
              "        background-size: auto;\n",
              "    }\n",
              "    progress:not([value]), progress:not([value])::-webkit-progress-bar {\n",
              "        background: repeating-linear-gradient(45deg, #7e7e7e, #7e7e7e 10px, #5c5c5c 10px, #5c5c5c 20px);\n",
              "    }\n",
              "    .progress-bar-interrupted, .progress-bar-interrupted::-webkit-progress-bar {\n",
              "        background: #F44336;\n",
              "    }\n",
              "</style>\n"
            ]
          },
          "metadata": {}
        },
        {
          "output_type": "display_data",
          "data": {
            "text/plain": [
              "<IPython.core.display.HTML object>"
            ],
            "text/html": [
              "\n",
              "    <div>\n",
              "      <progress value='3' class='' max='3' style='width:300px; height:20px; vertical-align: middle;'></progress>\n",
              "      100.00% [3/3 00:02&lt;00:00]\n",
              "    </div>\n",
              "    "
            ]
          },
          "metadata": {}
        },
        {
          "output_type": "stream",
          "name": "stderr",
          "text": [
            "/usr/local/lib/python3.10/dist-packages/torch/optim/lr_scheduler.py:261: UserWarning: To get the last learning rate computed by the scheduler, please use `get_last_lr()`.\n",
            "  warnings.warn(\"To get the last learning rate computed by the scheduler, \"\n"
          ]
        },
        {
          "output_type": "display_data",
          "data": {
            "text/plain": [
              "<IPython.core.display.HTML object>"
            ],
            "text/html": [
              "\n",
              "<style>\n",
              "    /* Turns off some styling */\n",
              "    progress {\n",
              "        /* gets rid of default border in Firefox and Opera. */\n",
              "        border: none;\n",
              "        /* Needs to be in here for Safari polyfill so background images work as expected. */\n",
              "        background-size: auto;\n",
              "    }\n",
              "    progress:not([value]), progress:not([value])::-webkit-progress-bar {\n",
              "        background: repeating-linear-gradient(45deg, #7e7e7e, #7e7e7e 10px, #5c5c5c 10px, #5c5c5c 20px);\n",
              "    }\n",
              "    .progress-bar-interrupted, .progress-bar-interrupted::-webkit-progress-bar {\n",
              "        background: #F44336;\n",
              "    }\n",
              "</style>\n"
            ]
          },
          "metadata": {}
        },
        {
          "output_type": "display_data",
          "data": {
            "text/plain": [
              "<IPython.core.display.HTML object>"
            ],
            "text/html": [
              "\n",
              "    <div>\n",
              "      <progress value='3' class='' max='3' style='width:300px; height:20px; vertical-align: middle;'></progress>\n",
              "      100.00% [3/3 00:02&lt;00:00]\n",
              "    </div>\n",
              "    "
            ]
          },
          "metadata": {}
        },
        {
          "output_type": "stream",
          "name": "stderr",
          "text": [
            "/usr/local/lib/python3.10/dist-packages/torch/optim/lr_scheduler.py:261: UserWarning: To get the last learning rate computed by the scheduler, please use `get_last_lr()`.\n",
            "  warnings.warn(\"To get the last learning rate computed by the scheduler, \"\n"
          ]
        },
        {
          "output_type": "display_data",
          "data": {
            "text/plain": [
              "<IPython.core.display.HTML object>"
            ],
            "text/html": [
              "\n",
              "<style>\n",
              "    /* Turns off some styling */\n",
              "    progress {\n",
              "        /* gets rid of default border in Firefox and Opera. */\n",
              "        border: none;\n",
              "        /* Needs to be in here for Safari polyfill so background images work as expected. */\n",
              "        background-size: auto;\n",
              "    }\n",
              "    progress:not([value]), progress:not([value])::-webkit-progress-bar {\n",
              "        background: repeating-linear-gradient(45deg, #7e7e7e, #7e7e7e 10px, #5c5c5c 10px, #5c5c5c 20px);\n",
              "    }\n",
              "    .progress-bar-interrupted, .progress-bar-interrupted::-webkit-progress-bar {\n",
              "        background: #F44336;\n",
              "    }\n",
              "</style>\n"
            ]
          },
          "metadata": {}
        },
        {
          "output_type": "display_data",
          "data": {
            "text/plain": [
              "<IPython.core.display.HTML object>"
            ],
            "text/html": [
              "\n",
              "    <div>\n",
              "      <progress value='3' class='' max='3' style='width:300px; height:20px; vertical-align: middle;'></progress>\n",
              "      100.00% [3/3 00:02&lt;00:00]\n",
              "    </div>\n",
              "    "
            ]
          },
          "metadata": {}
        },
        {
          "output_type": "stream",
          "name": "stderr",
          "text": [
            "/usr/local/lib/python3.10/dist-packages/torch/optim/lr_scheduler.py:261: UserWarning: To get the last learning rate computed by the scheduler, please use `get_last_lr()`.\n",
            "  warnings.warn(\"To get the last learning rate computed by the scheduler, \"\n"
          ]
        },
        {
          "output_type": "display_data",
          "data": {
            "text/plain": [
              "<IPython.core.display.HTML object>"
            ],
            "text/html": [
              "\n",
              "<style>\n",
              "    /* Turns off some styling */\n",
              "    progress {\n",
              "        /* gets rid of default border in Firefox and Opera. */\n",
              "        border: none;\n",
              "        /* Needs to be in here for Safari polyfill so background images work as expected. */\n",
              "        background-size: auto;\n",
              "    }\n",
              "    progress:not([value]), progress:not([value])::-webkit-progress-bar {\n",
              "        background: repeating-linear-gradient(45deg, #7e7e7e, #7e7e7e 10px, #5c5c5c 10px, #5c5c5c 20px);\n",
              "    }\n",
              "    .progress-bar-interrupted, .progress-bar-interrupted::-webkit-progress-bar {\n",
              "        background: #F44336;\n",
              "    }\n",
              "</style>\n"
            ]
          },
          "metadata": {}
        },
        {
          "output_type": "display_data",
          "data": {
            "text/plain": [
              "<IPython.core.display.HTML object>"
            ],
            "text/html": [
              "\n",
              "    <div>\n",
              "      <progress value='3' class='' max='3' style='width:300px; height:20px; vertical-align: middle;'></progress>\n",
              "      100.00% [3/3 00:02&lt;00:00]\n",
              "    </div>\n",
              "    "
            ]
          },
          "metadata": {}
        },
        {
          "output_type": "stream",
          "name": "stderr",
          "text": [
            "/usr/local/lib/python3.10/dist-packages/torch/optim/lr_scheduler.py:261: UserWarning: To get the last learning rate computed by the scheduler, please use `get_last_lr()`.\n",
            "  warnings.warn(\"To get the last learning rate computed by the scheduler, \"\n"
          ]
        },
        {
          "output_type": "display_data",
          "data": {
            "text/plain": [
              "<IPython.core.display.HTML object>"
            ],
            "text/html": [
              "\n",
              "<style>\n",
              "    /* Turns off some styling */\n",
              "    progress {\n",
              "        /* gets rid of default border in Firefox and Opera. */\n",
              "        border: none;\n",
              "        /* Needs to be in here for Safari polyfill so background images work as expected. */\n",
              "        background-size: auto;\n",
              "    }\n",
              "    progress:not([value]), progress:not([value])::-webkit-progress-bar {\n",
              "        background: repeating-linear-gradient(45deg, #7e7e7e, #7e7e7e 10px, #5c5c5c 10px, #5c5c5c 20px);\n",
              "    }\n",
              "    .progress-bar-interrupted, .progress-bar-interrupted::-webkit-progress-bar {\n",
              "        background: #F44336;\n",
              "    }\n",
              "</style>\n"
            ]
          },
          "metadata": {}
        },
        {
          "output_type": "display_data",
          "data": {
            "text/plain": [
              "<IPython.core.display.HTML object>"
            ],
            "text/html": [
              "\n",
              "    <div>\n",
              "      <progress value='3' class='' max='3' style='width:300px; height:20px; vertical-align: middle;'></progress>\n",
              "      100.00% [3/3 00:02&lt;00:00]\n",
              "    </div>\n",
              "    "
            ]
          },
          "metadata": {}
        },
        {
          "output_type": "stream",
          "name": "stderr",
          "text": [
            "/usr/local/lib/python3.10/dist-packages/torch/optim/lr_scheduler.py:261: UserWarning: To get the last learning rate computed by the scheduler, please use `get_last_lr()`.\n",
            "  warnings.warn(\"To get the last learning rate computed by the scheduler, \"\n"
          ]
        },
        {
          "output_type": "display_data",
          "data": {
            "text/plain": [
              "<IPython.core.display.HTML object>"
            ],
            "text/html": [
              "\n",
              "<style>\n",
              "    /* Turns off some styling */\n",
              "    progress {\n",
              "        /* gets rid of default border in Firefox and Opera. */\n",
              "        border: none;\n",
              "        /* Needs to be in here for Safari polyfill so background images work as expected. */\n",
              "        background-size: auto;\n",
              "    }\n",
              "    progress:not([value]), progress:not([value])::-webkit-progress-bar {\n",
              "        background: repeating-linear-gradient(45deg, #7e7e7e, #7e7e7e 10px, #5c5c5c 10px, #5c5c5c 20px);\n",
              "    }\n",
              "    .progress-bar-interrupted, .progress-bar-interrupted::-webkit-progress-bar {\n",
              "        background: #F44336;\n",
              "    }\n",
              "</style>\n"
            ]
          },
          "metadata": {}
        },
        {
          "output_type": "display_data",
          "data": {
            "text/plain": [
              "<IPython.core.display.HTML object>"
            ],
            "text/html": [
              "\n",
              "    <div>\n",
              "      <progress value='3' class='' max='3' style='width:300px; height:20px; vertical-align: middle;'></progress>\n",
              "      100.00% [3/3 00:02&lt;00:00]\n",
              "    </div>\n",
              "    "
            ]
          },
          "metadata": {}
        },
        {
          "output_type": "stream",
          "name": "stderr",
          "text": [
            "/usr/local/lib/python3.10/dist-packages/torch/optim/lr_scheduler.py:261: UserWarning: To get the last learning rate computed by the scheduler, please use `get_last_lr()`.\n",
            "  warnings.warn(\"To get the last learning rate computed by the scheduler, \"\n"
          ]
        },
        {
          "output_type": "display_data",
          "data": {
            "text/plain": [
              "<IPython.core.display.HTML object>"
            ],
            "text/html": [
              "\n",
              "<style>\n",
              "    /* Turns off some styling */\n",
              "    progress {\n",
              "        /* gets rid of default border in Firefox and Opera. */\n",
              "        border: none;\n",
              "        /* Needs to be in here for Safari polyfill so background images work as expected. */\n",
              "        background-size: auto;\n",
              "    }\n",
              "    progress:not([value]), progress:not([value])::-webkit-progress-bar {\n",
              "        background: repeating-linear-gradient(45deg, #7e7e7e, #7e7e7e 10px, #5c5c5c 10px, #5c5c5c 20px);\n",
              "    }\n",
              "    .progress-bar-interrupted, .progress-bar-interrupted::-webkit-progress-bar {\n",
              "        background: #F44336;\n",
              "    }\n",
              "</style>\n"
            ]
          },
          "metadata": {}
        },
        {
          "output_type": "display_data",
          "data": {
            "text/plain": [
              "<IPython.core.display.HTML object>"
            ],
            "text/html": [
              "\n",
              "    <div>\n",
              "      <progress value='3' class='' max='3' style='width:300px; height:20px; vertical-align: middle;'></progress>\n",
              "      100.00% [3/3 00:02&lt;00:00]\n",
              "    </div>\n",
              "    "
            ]
          },
          "metadata": {}
        },
        {
          "output_type": "stream",
          "name": "stderr",
          "text": [
            "/usr/local/lib/python3.10/dist-packages/torch/optim/lr_scheduler.py:261: UserWarning: To get the last learning rate computed by the scheduler, please use `get_last_lr()`.\n",
            "  warnings.warn(\"To get the last learning rate computed by the scheduler, \"\n"
          ]
        },
        {
          "output_type": "display_data",
          "data": {
            "text/plain": [
              "<IPython.core.display.HTML object>"
            ],
            "text/html": [
              "\n",
              "<style>\n",
              "    /* Turns off some styling */\n",
              "    progress {\n",
              "        /* gets rid of default border in Firefox and Opera. */\n",
              "        border: none;\n",
              "        /* Needs to be in here for Safari polyfill so background images work as expected. */\n",
              "        background-size: auto;\n",
              "    }\n",
              "    progress:not([value]), progress:not([value])::-webkit-progress-bar {\n",
              "        background: repeating-linear-gradient(45deg, #7e7e7e, #7e7e7e 10px, #5c5c5c 10px, #5c5c5c 20px);\n",
              "    }\n",
              "    .progress-bar-interrupted, .progress-bar-interrupted::-webkit-progress-bar {\n",
              "        background: #F44336;\n",
              "    }\n",
              "</style>\n"
            ]
          },
          "metadata": {}
        },
        {
          "output_type": "display_data",
          "data": {
            "text/plain": [
              "<IPython.core.display.HTML object>"
            ],
            "text/html": [
              "\n",
              "    <div>\n",
              "      <progress value='3' class='' max='3' style='width:300px; height:20px; vertical-align: middle;'></progress>\n",
              "      100.00% [3/3 00:02&lt;00:00]\n",
              "    </div>\n",
              "    "
            ]
          },
          "metadata": {}
        },
        {
          "output_type": "stream",
          "name": "stderr",
          "text": [
            "/usr/local/lib/python3.10/dist-packages/torch/optim/lr_scheduler.py:261: UserWarning: To get the last learning rate computed by the scheduler, please use `get_last_lr()`.\n",
            "  warnings.warn(\"To get the last learning rate computed by the scheduler, \"\n"
          ]
        },
        {
          "output_type": "display_data",
          "data": {
            "text/plain": [
              "<IPython.core.display.HTML object>"
            ],
            "text/html": [
              "\n",
              "<style>\n",
              "    /* Turns off some styling */\n",
              "    progress {\n",
              "        /* gets rid of default border in Firefox and Opera. */\n",
              "        border: none;\n",
              "        /* Needs to be in here for Safari polyfill so background images work as expected. */\n",
              "        background-size: auto;\n",
              "    }\n",
              "    progress:not([value]), progress:not([value])::-webkit-progress-bar {\n",
              "        background: repeating-linear-gradient(45deg, #7e7e7e, #7e7e7e 10px, #5c5c5c 10px, #5c5c5c 20px);\n",
              "    }\n",
              "    .progress-bar-interrupted, .progress-bar-interrupted::-webkit-progress-bar {\n",
              "        background: #F44336;\n",
              "    }\n",
              "</style>\n"
            ]
          },
          "metadata": {}
        },
        {
          "output_type": "display_data",
          "data": {
            "text/plain": [
              "<IPython.core.display.HTML object>"
            ],
            "text/html": [
              "\n",
              "    <div>\n",
              "      <progress value='3' class='' max='3' style='width:300px; height:20px; vertical-align: middle;'></progress>\n",
              "      100.00% [3/3 00:02&lt;00:00]\n",
              "    </div>\n",
              "    "
            ]
          },
          "metadata": {}
        },
        {
          "output_type": "stream",
          "name": "stderr",
          "text": [
            "/usr/local/lib/python3.10/dist-packages/torch/optim/lr_scheduler.py:261: UserWarning: To get the last learning rate computed by the scheduler, please use `get_last_lr()`.\n",
            "  warnings.warn(\"To get the last learning rate computed by the scheduler, \"\n"
          ]
        },
        {
          "output_type": "display_data",
          "data": {
            "text/plain": [
              "<IPython.core.display.HTML object>"
            ],
            "text/html": [
              "\n",
              "<style>\n",
              "    /* Turns off some styling */\n",
              "    progress {\n",
              "        /* gets rid of default border in Firefox and Opera. */\n",
              "        border: none;\n",
              "        /* Needs to be in here for Safari polyfill so background images work as expected. */\n",
              "        background-size: auto;\n",
              "    }\n",
              "    progress:not([value]), progress:not([value])::-webkit-progress-bar {\n",
              "        background: repeating-linear-gradient(45deg, #7e7e7e, #7e7e7e 10px, #5c5c5c 10px, #5c5c5c 20px);\n",
              "    }\n",
              "    .progress-bar-interrupted, .progress-bar-interrupted::-webkit-progress-bar {\n",
              "        background: #F44336;\n",
              "    }\n",
              "</style>\n"
            ]
          },
          "metadata": {}
        },
        {
          "output_type": "display_data",
          "data": {
            "text/plain": [
              "<IPython.core.display.HTML object>"
            ],
            "text/html": [
              "\n",
              "    <div>\n",
              "      <progress value='3' class='' max='3' style='width:300px; height:20px; vertical-align: middle;'></progress>\n",
              "      100.00% [3/3 00:02&lt;00:00]\n",
              "    </div>\n",
              "    "
            ]
          },
          "metadata": {}
        },
        {
          "output_type": "stream",
          "name": "stderr",
          "text": [
            "/usr/local/lib/python3.10/dist-packages/torch/optim/lr_scheduler.py:261: UserWarning: To get the last learning rate computed by the scheduler, please use `get_last_lr()`.\n",
            "  warnings.warn(\"To get the last learning rate computed by the scheduler, \"\n"
          ]
        },
        {
          "output_type": "display_data",
          "data": {
            "text/plain": [
              "<IPython.core.display.HTML object>"
            ],
            "text/html": [
              "\n",
              "<style>\n",
              "    /* Turns off some styling */\n",
              "    progress {\n",
              "        /* gets rid of default border in Firefox and Opera. */\n",
              "        border: none;\n",
              "        /* Needs to be in here for Safari polyfill so background images work as expected. */\n",
              "        background-size: auto;\n",
              "    }\n",
              "    progress:not([value]), progress:not([value])::-webkit-progress-bar {\n",
              "        background: repeating-linear-gradient(45deg, #7e7e7e, #7e7e7e 10px, #5c5c5c 10px, #5c5c5c 20px);\n",
              "    }\n",
              "    .progress-bar-interrupted, .progress-bar-interrupted::-webkit-progress-bar {\n",
              "        background: #F44336;\n",
              "    }\n",
              "</style>\n"
            ]
          },
          "metadata": {}
        },
        {
          "output_type": "display_data",
          "data": {
            "text/plain": [
              "<IPython.core.display.HTML object>"
            ],
            "text/html": [
              "\n",
              "    <div>\n",
              "      <progress value='3' class='' max='3' style='width:300px; height:20px; vertical-align: middle;'></progress>\n",
              "      100.00% [3/3 00:02&lt;00:00]\n",
              "    </div>\n",
              "    "
            ]
          },
          "metadata": {}
        },
        {
          "output_type": "stream",
          "name": "stderr",
          "text": [
            "/usr/local/lib/python3.10/dist-packages/torch/optim/lr_scheduler.py:261: UserWarning: To get the last learning rate computed by the scheduler, please use `get_last_lr()`.\n",
            "  warnings.warn(\"To get the last learning rate computed by the scheduler, \"\n"
          ]
        },
        {
          "output_type": "display_data",
          "data": {
            "text/plain": [
              "<IPython.core.display.HTML object>"
            ],
            "text/html": [
              "\n",
              "<style>\n",
              "    /* Turns off some styling */\n",
              "    progress {\n",
              "        /* gets rid of default border in Firefox and Opera. */\n",
              "        border: none;\n",
              "        /* Needs to be in here for Safari polyfill so background images work as expected. */\n",
              "        background-size: auto;\n",
              "    }\n",
              "    progress:not([value]), progress:not([value])::-webkit-progress-bar {\n",
              "        background: repeating-linear-gradient(45deg, #7e7e7e, #7e7e7e 10px, #5c5c5c 10px, #5c5c5c 20px);\n",
              "    }\n",
              "    .progress-bar-interrupted, .progress-bar-interrupted::-webkit-progress-bar {\n",
              "        background: #F44336;\n",
              "    }\n",
              "</style>\n"
            ]
          },
          "metadata": {}
        },
        {
          "output_type": "display_data",
          "data": {
            "text/plain": [
              "<IPython.core.display.HTML object>"
            ],
            "text/html": [
              "\n",
              "    <div>\n",
              "      <progress value='3' class='' max='3' style='width:300px; height:20px; vertical-align: middle;'></progress>\n",
              "      100.00% [3/3 00:02&lt;00:00]\n",
              "    </div>\n",
              "    "
            ]
          },
          "metadata": {}
        },
        {
          "output_type": "stream",
          "name": "stderr",
          "text": [
            "/usr/local/lib/python3.10/dist-packages/torch/optim/lr_scheduler.py:261: UserWarning: To get the last learning rate computed by the scheduler, please use `get_last_lr()`.\n",
            "  warnings.warn(\"To get the last learning rate computed by the scheduler, \"\n"
          ]
        },
        {
          "output_type": "display_data",
          "data": {
            "text/plain": [
              "<IPython.core.display.HTML object>"
            ],
            "text/html": [
              "\n",
              "<style>\n",
              "    /* Turns off some styling */\n",
              "    progress {\n",
              "        /* gets rid of default border in Firefox and Opera. */\n",
              "        border: none;\n",
              "        /* Needs to be in here for Safari polyfill so background images work as expected. */\n",
              "        background-size: auto;\n",
              "    }\n",
              "    progress:not([value]), progress:not([value])::-webkit-progress-bar {\n",
              "        background: repeating-linear-gradient(45deg, #7e7e7e, #7e7e7e 10px, #5c5c5c 10px, #5c5c5c 20px);\n",
              "    }\n",
              "    .progress-bar-interrupted, .progress-bar-interrupted::-webkit-progress-bar {\n",
              "        background: #F44336;\n",
              "    }\n",
              "</style>\n"
            ]
          },
          "metadata": {}
        },
        {
          "output_type": "display_data",
          "data": {
            "text/plain": [
              "<IPython.core.display.HTML object>"
            ],
            "text/html": [
              "\n",
              "    <div>\n",
              "      <progress value='3' class='' max='3' style='width:300px; height:20px; vertical-align: middle;'></progress>\n",
              "      100.00% [3/3 00:02&lt;00:00]\n",
              "    </div>\n",
              "    "
            ]
          },
          "metadata": {}
        },
        {
          "output_type": "stream",
          "name": "stderr",
          "text": [
            "/usr/local/lib/python3.10/dist-packages/torch/optim/lr_scheduler.py:261: UserWarning: To get the last learning rate computed by the scheduler, please use `get_last_lr()`.\n",
            "  warnings.warn(\"To get the last learning rate computed by the scheduler, \"\n"
          ]
        },
        {
          "output_type": "display_data",
          "data": {
            "text/plain": [
              "<IPython.core.display.HTML object>"
            ],
            "text/html": [
              "\n",
              "<style>\n",
              "    /* Turns off some styling */\n",
              "    progress {\n",
              "        /* gets rid of default border in Firefox and Opera. */\n",
              "        border: none;\n",
              "        /* Needs to be in here for Safari polyfill so background images work as expected. */\n",
              "        background-size: auto;\n",
              "    }\n",
              "    progress:not([value]), progress:not([value])::-webkit-progress-bar {\n",
              "        background: repeating-linear-gradient(45deg, #7e7e7e, #7e7e7e 10px, #5c5c5c 10px, #5c5c5c 20px);\n",
              "    }\n",
              "    .progress-bar-interrupted, .progress-bar-interrupted::-webkit-progress-bar {\n",
              "        background: #F44336;\n",
              "    }\n",
              "</style>\n"
            ]
          },
          "metadata": {}
        },
        {
          "output_type": "display_data",
          "data": {
            "text/plain": [
              "<IPython.core.display.HTML object>"
            ],
            "text/html": [
              "\n",
              "    <div>\n",
              "      <progress value='3' class='' max='3' style='width:300px; height:20px; vertical-align: middle;'></progress>\n",
              "      100.00% [3/3 00:02&lt;00:00]\n",
              "    </div>\n",
              "    "
            ]
          },
          "metadata": {}
        },
        {
          "output_type": "stream",
          "name": "stderr",
          "text": [
            "/usr/local/lib/python3.10/dist-packages/torch/optim/lr_scheduler.py:261: UserWarning: To get the last learning rate computed by the scheduler, please use `get_last_lr()`.\n",
            "  warnings.warn(\"To get the last learning rate computed by the scheduler, \"\n"
          ]
        },
        {
          "output_type": "display_data",
          "data": {
            "text/plain": [
              "<IPython.core.display.HTML object>"
            ],
            "text/html": [
              "\n",
              "<style>\n",
              "    /* Turns off some styling */\n",
              "    progress {\n",
              "        /* gets rid of default border in Firefox and Opera. */\n",
              "        border: none;\n",
              "        /* Needs to be in here for Safari polyfill so background images work as expected. */\n",
              "        background-size: auto;\n",
              "    }\n",
              "    progress:not([value]), progress:not([value])::-webkit-progress-bar {\n",
              "        background: repeating-linear-gradient(45deg, #7e7e7e, #7e7e7e 10px, #5c5c5c 10px, #5c5c5c 20px);\n",
              "    }\n",
              "    .progress-bar-interrupted, .progress-bar-interrupted::-webkit-progress-bar {\n",
              "        background: #F44336;\n",
              "    }\n",
              "</style>\n"
            ]
          },
          "metadata": {}
        },
        {
          "output_type": "display_data",
          "data": {
            "text/plain": [
              "<IPython.core.display.HTML object>"
            ],
            "text/html": [
              "\n",
              "    <div>\n",
              "      <progress value='3' class='' max='3' style='width:300px; height:20px; vertical-align: middle;'></progress>\n",
              "      100.00% [3/3 00:02&lt;00:00]\n",
              "    </div>\n",
              "    "
            ]
          },
          "metadata": {}
        },
        {
          "output_type": "stream",
          "name": "stderr",
          "text": [
            "/usr/local/lib/python3.10/dist-packages/torch/optim/lr_scheduler.py:261: UserWarning: To get the last learning rate computed by the scheduler, please use `get_last_lr()`.\n",
            "  warnings.warn(\"To get the last learning rate computed by the scheduler, \"\n"
          ]
        },
        {
          "output_type": "display_data",
          "data": {
            "text/plain": [
              "<IPython.core.display.HTML object>"
            ],
            "text/html": [
              "\n",
              "<style>\n",
              "    /* Turns off some styling */\n",
              "    progress {\n",
              "        /* gets rid of default border in Firefox and Opera. */\n",
              "        border: none;\n",
              "        /* Needs to be in here for Safari polyfill so background images work as expected. */\n",
              "        background-size: auto;\n",
              "    }\n",
              "    progress:not([value]), progress:not([value])::-webkit-progress-bar {\n",
              "        background: repeating-linear-gradient(45deg, #7e7e7e, #7e7e7e 10px, #5c5c5c 10px, #5c5c5c 20px);\n",
              "    }\n",
              "    .progress-bar-interrupted, .progress-bar-interrupted::-webkit-progress-bar {\n",
              "        background: #F44336;\n",
              "    }\n",
              "</style>\n"
            ]
          },
          "metadata": {}
        },
        {
          "output_type": "display_data",
          "data": {
            "text/plain": [
              "<IPython.core.display.HTML object>"
            ],
            "text/html": [
              "\n",
              "    <div>\n",
              "      <progress value='3' class='' max='3' style='width:300px; height:20px; vertical-align: middle;'></progress>\n",
              "      100.00% [3/3 00:02&lt;00:00]\n",
              "    </div>\n",
              "    "
            ]
          },
          "metadata": {}
        },
        {
          "output_type": "stream",
          "name": "stderr",
          "text": [
            "/usr/local/lib/python3.10/dist-packages/torch/optim/lr_scheduler.py:261: UserWarning: To get the last learning rate computed by the scheduler, please use `get_last_lr()`.\n",
            "  warnings.warn(\"To get the last learning rate computed by the scheduler, \"\n"
          ]
        },
        {
          "output_type": "display_data",
          "data": {
            "text/plain": [
              "<IPython.core.display.HTML object>"
            ],
            "text/html": [
              "\n",
              "<style>\n",
              "    /* Turns off some styling */\n",
              "    progress {\n",
              "        /* gets rid of default border in Firefox and Opera. */\n",
              "        border: none;\n",
              "        /* Needs to be in here for Safari polyfill so background images work as expected. */\n",
              "        background-size: auto;\n",
              "    }\n",
              "    progress:not([value]), progress:not([value])::-webkit-progress-bar {\n",
              "        background: repeating-linear-gradient(45deg, #7e7e7e, #7e7e7e 10px, #5c5c5c 10px, #5c5c5c 20px);\n",
              "    }\n",
              "    .progress-bar-interrupted, .progress-bar-interrupted::-webkit-progress-bar {\n",
              "        background: #F44336;\n",
              "    }\n",
              "</style>\n"
            ]
          },
          "metadata": {}
        },
        {
          "output_type": "display_data",
          "data": {
            "text/plain": [
              "<IPython.core.display.HTML object>"
            ],
            "text/html": [
              "\n",
              "    <div>\n",
              "      <progress value='3' class='' max='3' style='width:300px; height:20px; vertical-align: middle;'></progress>\n",
              "      100.00% [3/3 00:02&lt;00:00]\n",
              "    </div>\n",
              "    "
            ]
          },
          "metadata": {}
        },
        {
          "output_type": "stream",
          "name": "stderr",
          "text": [
            "/usr/local/lib/python3.10/dist-packages/torch/optim/lr_scheduler.py:261: UserWarning: To get the last learning rate computed by the scheduler, please use `get_last_lr()`.\n",
            "  warnings.warn(\"To get the last learning rate computed by the scheduler, \"\n"
          ]
        },
        {
          "output_type": "display_data",
          "data": {
            "text/plain": [
              "<IPython.core.display.HTML object>"
            ],
            "text/html": [
              "\n",
              "<style>\n",
              "    /* Turns off some styling */\n",
              "    progress {\n",
              "        /* gets rid of default border in Firefox and Opera. */\n",
              "        border: none;\n",
              "        /* Needs to be in here for Safari polyfill so background images work as expected. */\n",
              "        background-size: auto;\n",
              "    }\n",
              "    progress:not([value]), progress:not([value])::-webkit-progress-bar {\n",
              "        background: repeating-linear-gradient(45deg, #7e7e7e, #7e7e7e 10px, #5c5c5c 10px, #5c5c5c 20px);\n",
              "    }\n",
              "    .progress-bar-interrupted, .progress-bar-interrupted::-webkit-progress-bar {\n",
              "        background: #F44336;\n",
              "    }\n",
              "</style>\n"
            ]
          },
          "metadata": {}
        },
        {
          "output_type": "display_data",
          "data": {
            "text/plain": [
              "<IPython.core.display.HTML object>"
            ],
            "text/html": [
              "\n",
              "    <div>\n",
              "      <progress value='3' class='' max='3' style='width:300px; height:20px; vertical-align: middle;'></progress>\n",
              "      100.00% [3/3 00:02&lt;00:00]\n",
              "    </div>\n",
              "    "
            ]
          },
          "metadata": {}
        },
        {
          "output_type": "stream",
          "name": "stderr",
          "text": [
            "/usr/local/lib/python3.10/dist-packages/torch/optim/lr_scheduler.py:261: UserWarning: To get the last learning rate computed by the scheduler, please use `get_last_lr()`.\n",
            "  warnings.warn(\"To get the last learning rate computed by the scheduler, \"\n"
          ]
        },
        {
          "output_type": "display_data",
          "data": {
            "text/plain": [
              "<IPython.core.display.HTML object>"
            ],
            "text/html": [
              "\n",
              "<style>\n",
              "    /* Turns off some styling */\n",
              "    progress {\n",
              "        /* gets rid of default border in Firefox and Opera. */\n",
              "        border: none;\n",
              "        /* Needs to be in here for Safari polyfill so background images work as expected. */\n",
              "        background-size: auto;\n",
              "    }\n",
              "    progress:not([value]), progress:not([value])::-webkit-progress-bar {\n",
              "        background: repeating-linear-gradient(45deg, #7e7e7e, #7e7e7e 10px, #5c5c5c 10px, #5c5c5c 20px);\n",
              "    }\n",
              "    .progress-bar-interrupted, .progress-bar-interrupted::-webkit-progress-bar {\n",
              "        background: #F44336;\n",
              "    }\n",
              "</style>\n"
            ]
          },
          "metadata": {}
        },
        {
          "output_type": "display_data",
          "data": {
            "text/plain": [
              "<IPython.core.display.HTML object>"
            ],
            "text/html": [
              "\n",
              "    <div>\n",
              "      <progress value='3' class='' max='3' style='width:300px; height:20px; vertical-align: middle;'></progress>\n",
              "      100.00% [3/3 00:02&lt;00:00]\n",
              "    </div>\n",
              "    "
            ]
          },
          "metadata": {}
        },
        {
          "output_type": "stream",
          "name": "stderr",
          "text": [
            "/usr/local/lib/python3.10/dist-packages/torch/optim/lr_scheduler.py:261: UserWarning: To get the last learning rate computed by the scheduler, please use `get_last_lr()`.\n",
            "  warnings.warn(\"To get the last learning rate computed by the scheduler, \"\n"
          ]
        },
        {
          "output_type": "display_data",
          "data": {
            "text/plain": [
              "<IPython.core.display.HTML object>"
            ],
            "text/html": [
              "\n",
              "<style>\n",
              "    /* Turns off some styling */\n",
              "    progress {\n",
              "        /* gets rid of default border in Firefox and Opera. */\n",
              "        border: none;\n",
              "        /* Needs to be in here for Safari polyfill so background images work as expected. */\n",
              "        background-size: auto;\n",
              "    }\n",
              "    progress:not([value]), progress:not([value])::-webkit-progress-bar {\n",
              "        background: repeating-linear-gradient(45deg, #7e7e7e, #7e7e7e 10px, #5c5c5c 10px, #5c5c5c 20px);\n",
              "    }\n",
              "    .progress-bar-interrupted, .progress-bar-interrupted::-webkit-progress-bar {\n",
              "        background: #F44336;\n",
              "    }\n",
              "</style>\n"
            ]
          },
          "metadata": {}
        },
        {
          "output_type": "display_data",
          "data": {
            "text/plain": [
              "<IPython.core.display.HTML object>"
            ],
            "text/html": [
              "\n",
              "    <div>\n",
              "      <progress value='3' class='' max='3' style='width:300px; height:20px; vertical-align: middle;'></progress>\n",
              "      100.00% [3/3 00:02&lt;00:00]\n",
              "    </div>\n",
              "    "
            ]
          },
          "metadata": {}
        },
        {
          "output_type": "stream",
          "name": "stderr",
          "text": [
            "/usr/local/lib/python3.10/dist-packages/torch/optim/lr_scheduler.py:261: UserWarning: To get the last learning rate computed by the scheduler, please use `get_last_lr()`.\n",
            "  warnings.warn(\"To get the last learning rate computed by the scheduler, \"\n"
          ]
        },
        {
          "output_type": "display_data",
          "data": {
            "text/plain": [
              "<IPython.core.display.HTML object>"
            ],
            "text/html": [
              "\n",
              "<style>\n",
              "    /* Turns off some styling */\n",
              "    progress {\n",
              "        /* gets rid of default border in Firefox and Opera. */\n",
              "        border: none;\n",
              "        /* Needs to be in here for Safari polyfill so background images work as expected. */\n",
              "        background-size: auto;\n",
              "    }\n",
              "    progress:not([value]), progress:not([value])::-webkit-progress-bar {\n",
              "        background: repeating-linear-gradient(45deg, #7e7e7e, #7e7e7e 10px, #5c5c5c 10px, #5c5c5c 20px);\n",
              "    }\n",
              "    .progress-bar-interrupted, .progress-bar-interrupted::-webkit-progress-bar {\n",
              "        background: #F44336;\n",
              "    }\n",
              "</style>\n"
            ]
          },
          "metadata": {}
        },
        {
          "output_type": "display_data",
          "data": {
            "text/plain": [
              "<IPython.core.display.HTML object>"
            ],
            "text/html": [
              "\n",
              "    <div>\n",
              "      <progress value='3' class='' max='3' style='width:300px; height:20px; vertical-align: middle;'></progress>\n",
              "      100.00% [3/3 00:02&lt;00:00]\n",
              "    </div>\n",
              "    "
            ]
          },
          "metadata": {}
        },
        {
          "output_type": "stream",
          "name": "stderr",
          "text": [
            "/usr/local/lib/python3.10/dist-packages/torch/optim/lr_scheduler.py:261: UserWarning: To get the last learning rate computed by the scheduler, please use `get_last_lr()`.\n",
            "  warnings.warn(\"To get the last learning rate computed by the scheduler, \"\n"
          ]
        },
        {
          "output_type": "display_data",
          "data": {
            "text/plain": [
              "<IPython.core.display.HTML object>"
            ],
            "text/html": [
              "\n",
              "<style>\n",
              "    /* Turns off some styling */\n",
              "    progress {\n",
              "        /* gets rid of default border in Firefox and Opera. */\n",
              "        border: none;\n",
              "        /* Needs to be in here for Safari polyfill so background images work as expected. */\n",
              "        background-size: auto;\n",
              "    }\n",
              "    progress:not([value]), progress:not([value])::-webkit-progress-bar {\n",
              "        background: repeating-linear-gradient(45deg, #7e7e7e, #7e7e7e 10px, #5c5c5c 10px, #5c5c5c 20px);\n",
              "    }\n",
              "    .progress-bar-interrupted, .progress-bar-interrupted::-webkit-progress-bar {\n",
              "        background: #F44336;\n",
              "    }\n",
              "</style>\n"
            ]
          },
          "metadata": {}
        },
        {
          "output_type": "display_data",
          "data": {
            "text/plain": [
              "<IPython.core.display.HTML object>"
            ],
            "text/html": [
              "\n",
              "    <div>\n",
              "      <progress value='3' class='' max='3' style='width:300px; height:20px; vertical-align: middle;'></progress>\n",
              "      100.00% [3/3 00:02&lt;00:00]\n",
              "    </div>\n",
              "    "
            ]
          },
          "metadata": {}
        },
        {
          "output_type": "stream",
          "name": "stderr",
          "text": [
            "/usr/local/lib/python3.10/dist-packages/torch/optim/lr_scheduler.py:261: UserWarning: To get the last learning rate computed by the scheduler, please use `get_last_lr()`.\n",
            "  warnings.warn(\"To get the last learning rate computed by the scheduler, \"\n"
          ]
        },
        {
          "output_type": "display_data",
          "data": {
            "text/plain": [
              "<IPython.core.display.HTML object>"
            ],
            "text/html": [
              "\n",
              "<style>\n",
              "    /* Turns off some styling */\n",
              "    progress {\n",
              "        /* gets rid of default border in Firefox and Opera. */\n",
              "        border: none;\n",
              "        /* Needs to be in here for Safari polyfill so background images work as expected. */\n",
              "        background-size: auto;\n",
              "    }\n",
              "    progress:not([value]), progress:not([value])::-webkit-progress-bar {\n",
              "        background: repeating-linear-gradient(45deg, #7e7e7e, #7e7e7e 10px, #5c5c5c 10px, #5c5c5c 20px);\n",
              "    }\n",
              "    .progress-bar-interrupted, .progress-bar-interrupted::-webkit-progress-bar {\n",
              "        background: #F44336;\n",
              "    }\n",
              "</style>\n"
            ]
          },
          "metadata": {}
        },
        {
          "output_type": "display_data",
          "data": {
            "text/plain": [
              "<IPython.core.display.HTML object>"
            ],
            "text/html": [
              "\n",
              "    <div>\n",
              "      <progress value='3' class='' max='3' style='width:300px; height:20px; vertical-align: middle;'></progress>\n",
              "      100.00% [3/3 00:02&lt;00:00]\n",
              "    </div>\n",
              "    "
            ]
          },
          "metadata": {}
        },
        {
          "output_type": "stream",
          "name": "stderr",
          "text": [
            "/usr/local/lib/python3.10/dist-packages/torch/optim/lr_scheduler.py:261: UserWarning: To get the last learning rate computed by the scheduler, please use `get_last_lr()`.\n",
            "  warnings.warn(\"To get the last learning rate computed by the scheduler, \"\n"
          ]
        },
        {
          "output_type": "display_data",
          "data": {
            "text/plain": [
              "<IPython.core.display.HTML object>"
            ],
            "text/html": [
              "\n",
              "<style>\n",
              "    /* Turns off some styling */\n",
              "    progress {\n",
              "        /* gets rid of default border in Firefox and Opera. */\n",
              "        border: none;\n",
              "        /* Needs to be in here for Safari polyfill so background images work as expected. */\n",
              "        background-size: auto;\n",
              "    }\n",
              "    progress:not([value]), progress:not([value])::-webkit-progress-bar {\n",
              "        background: repeating-linear-gradient(45deg, #7e7e7e, #7e7e7e 10px, #5c5c5c 10px, #5c5c5c 20px);\n",
              "    }\n",
              "    .progress-bar-interrupted, .progress-bar-interrupted::-webkit-progress-bar {\n",
              "        background: #F44336;\n",
              "    }\n",
              "</style>\n"
            ]
          },
          "metadata": {}
        },
        {
          "output_type": "display_data",
          "data": {
            "text/plain": [
              "<IPython.core.display.HTML object>"
            ],
            "text/html": [
              "\n",
              "    <div>\n",
              "      <progress value='3' class='' max='3' style='width:300px; height:20px; vertical-align: middle;'></progress>\n",
              "      100.00% [3/3 00:02&lt;00:00]\n",
              "    </div>\n",
              "    "
            ]
          },
          "metadata": {}
        },
        {
          "output_type": "stream",
          "name": "stderr",
          "text": [
            "/usr/local/lib/python3.10/dist-packages/torch/optim/lr_scheduler.py:261: UserWarning: To get the last learning rate computed by the scheduler, please use `get_last_lr()`.\n",
            "  warnings.warn(\"To get the last learning rate computed by the scheduler, \"\n"
          ]
        },
        {
          "output_type": "display_data",
          "data": {
            "text/plain": [
              "<IPython.core.display.HTML object>"
            ],
            "text/html": [
              "\n",
              "<style>\n",
              "    /* Turns off some styling */\n",
              "    progress {\n",
              "        /* gets rid of default border in Firefox and Opera. */\n",
              "        border: none;\n",
              "        /* Needs to be in here for Safari polyfill so background images work as expected. */\n",
              "        background-size: auto;\n",
              "    }\n",
              "    progress:not([value]), progress:not([value])::-webkit-progress-bar {\n",
              "        background: repeating-linear-gradient(45deg, #7e7e7e, #7e7e7e 10px, #5c5c5c 10px, #5c5c5c 20px);\n",
              "    }\n",
              "    .progress-bar-interrupted, .progress-bar-interrupted::-webkit-progress-bar {\n",
              "        background: #F44336;\n",
              "    }\n",
              "</style>\n"
            ]
          },
          "metadata": {}
        },
        {
          "output_type": "display_data",
          "data": {
            "text/plain": [
              "<IPython.core.display.HTML object>"
            ],
            "text/html": [
              "\n",
              "    <div>\n",
              "      <progress value='3' class='' max='3' style='width:300px; height:20px; vertical-align: middle;'></progress>\n",
              "      100.00% [3/3 00:02&lt;00:00]\n",
              "    </div>\n",
              "    "
            ]
          },
          "metadata": {}
        },
        {
          "output_type": "stream",
          "name": "stderr",
          "text": [
            "/usr/local/lib/python3.10/dist-packages/torch/optim/lr_scheduler.py:261: UserWarning: To get the last learning rate computed by the scheduler, please use `get_last_lr()`.\n",
            "  warnings.warn(\"To get the last learning rate computed by the scheduler, \"\n"
          ]
        },
        {
          "output_type": "display_data",
          "data": {
            "text/plain": [
              "<IPython.core.display.HTML object>"
            ],
            "text/html": [
              "\n",
              "<style>\n",
              "    /* Turns off some styling */\n",
              "    progress {\n",
              "        /* gets rid of default border in Firefox and Opera. */\n",
              "        border: none;\n",
              "        /* Needs to be in here for Safari polyfill so background images work as expected. */\n",
              "        background-size: auto;\n",
              "    }\n",
              "    progress:not([value]), progress:not([value])::-webkit-progress-bar {\n",
              "        background: repeating-linear-gradient(45deg, #7e7e7e, #7e7e7e 10px, #5c5c5c 10px, #5c5c5c 20px);\n",
              "    }\n",
              "    .progress-bar-interrupted, .progress-bar-interrupted::-webkit-progress-bar {\n",
              "        background: #F44336;\n",
              "    }\n",
              "</style>\n"
            ]
          },
          "metadata": {}
        },
        {
          "output_type": "display_data",
          "data": {
            "text/plain": [
              "<IPython.core.display.HTML object>"
            ],
            "text/html": [
              "\n",
              "    <div>\n",
              "      <progress value='3' class='' max='3' style='width:300px; height:20px; vertical-align: middle;'></progress>\n",
              "      100.00% [3/3 00:02&lt;00:00]\n",
              "    </div>\n",
              "    "
            ]
          },
          "metadata": {}
        },
        {
          "output_type": "stream",
          "name": "stderr",
          "text": [
            "/usr/local/lib/python3.10/dist-packages/torch/optim/lr_scheduler.py:261: UserWarning: To get the last learning rate computed by the scheduler, please use `get_last_lr()`.\n",
            "  warnings.warn(\"To get the last learning rate computed by the scheduler, \"\n"
          ]
        },
        {
          "output_type": "display_data",
          "data": {
            "text/plain": [
              "<IPython.core.display.HTML object>"
            ],
            "text/html": [
              "\n",
              "<style>\n",
              "    /* Turns off some styling */\n",
              "    progress {\n",
              "        /* gets rid of default border in Firefox and Opera. */\n",
              "        border: none;\n",
              "        /* Needs to be in here for Safari polyfill so background images work as expected. */\n",
              "        background-size: auto;\n",
              "    }\n",
              "    progress:not([value]), progress:not([value])::-webkit-progress-bar {\n",
              "        background: repeating-linear-gradient(45deg, #7e7e7e, #7e7e7e 10px, #5c5c5c 10px, #5c5c5c 20px);\n",
              "    }\n",
              "    .progress-bar-interrupted, .progress-bar-interrupted::-webkit-progress-bar {\n",
              "        background: #F44336;\n",
              "    }\n",
              "</style>\n"
            ]
          },
          "metadata": {}
        },
        {
          "output_type": "display_data",
          "data": {
            "text/plain": [
              "<IPython.core.display.HTML object>"
            ],
            "text/html": [
              "\n",
              "    <div>\n",
              "      <progress value='3' class='' max='3' style='width:300px; height:20px; vertical-align: middle;'></progress>\n",
              "      100.00% [3/3 00:02&lt;00:00]\n",
              "    </div>\n",
              "    "
            ]
          },
          "metadata": {}
        },
        {
          "output_type": "stream",
          "name": "stderr",
          "text": [
            "/usr/local/lib/python3.10/dist-packages/torch/optim/lr_scheduler.py:261: UserWarning: To get the last learning rate computed by the scheduler, please use `get_last_lr()`.\n",
            "  warnings.warn(\"To get the last learning rate computed by the scheduler, \"\n"
          ]
        },
        {
          "output_type": "display_data",
          "data": {
            "text/plain": [
              "<IPython.core.display.HTML object>"
            ],
            "text/html": [
              "\n",
              "<style>\n",
              "    /* Turns off some styling */\n",
              "    progress {\n",
              "        /* gets rid of default border in Firefox and Opera. */\n",
              "        border: none;\n",
              "        /* Needs to be in here for Safari polyfill so background images work as expected. */\n",
              "        background-size: auto;\n",
              "    }\n",
              "    progress:not([value]), progress:not([value])::-webkit-progress-bar {\n",
              "        background: repeating-linear-gradient(45deg, #7e7e7e, #7e7e7e 10px, #5c5c5c 10px, #5c5c5c 20px);\n",
              "    }\n",
              "    .progress-bar-interrupted, .progress-bar-interrupted::-webkit-progress-bar {\n",
              "        background: #F44336;\n",
              "    }\n",
              "</style>\n"
            ]
          },
          "metadata": {}
        },
        {
          "output_type": "display_data",
          "data": {
            "text/plain": [
              "<IPython.core.display.HTML object>"
            ],
            "text/html": [
              "\n",
              "    <div>\n",
              "      <progress value='3' class='' max='3' style='width:300px; height:20px; vertical-align: middle;'></progress>\n",
              "      100.00% [3/3 00:02&lt;00:00]\n",
              "    </div>\n",
              "    "
            ]
          },
          "metadata": {}
        },
        {
          "output_type": "stream",
          "name": "stderr",
          "text": [
            "/usr/local/lib/python3.10/dist-packages/torch/optim/lr_scheduler.py:261: UserWarning: To get the last learning rate computed by the scheduler, please use `get_last_lr()`.\n",
            "  warnings.warn(\"To get the last learning rate computed by the scheduler, \"\n"
          ]
        },
        {
          "output_type": "display_data",
          "data": {
            "text/plain": [
              "<IPython.core.display.HTML object>"
            ],
            "text/html": [
              "\n",
              "<style>\n",
              "    /* Turns off some styling */\n",
              "    progress {\n",
              "        /* gets rid of default border in Firefox and Opera. */\n",
              "        border: none;\n",
              "        /* Needs to be in here for Safari polyfill so background images work as expected. */\n",
              "        background-size: auto;\n",
              "    }\n",
              "    progress:not([value]), progress:not([value])::-webkit-progress-bar {\n",
              "        background: repeating-linear-gradient(45deg, #7e7e7e, #7e7e7e 10px, #5c5c5c 10px, #5c5c5c 20px);\n",
              "    }\n",
              "    .progress-bar-interrupted, .progress-bar-interrupted::-webkit-progress-bar {\n",
              "        background: #F44336;\n",
              "    }\n",
              "</style>\n"
            ]
          },
          "metadata": {}
        },
        {
          "output_type": "display_data",
          "data": {
            "text/plain": [
              "<IPython.core.display.HTML object>"
            ],
            "text/html": [
              "\n",
              "    <div>\n",
              "      <progress value='3' class='' max='3' style='width:300px; height:20px; vertical-align: middle;'></progress>\n",
              "      100.00% [3/3 00:02&lt;00:00]\n",
              "    </div>\n",
              "    "
            ]
          },
          "metadata": {}
        },
        {
          "output_type": "stream",
          "name": "stderr",
          "text": [
            "/usr/local/lib/python3.10/dist-packages/torch/optim/lr_scheduler.py:261: UserWarning: To get the last learning rate computed by the scheduler, please use `get_last_lr()`.\n",
            "  warnings.warn(\"To get the last learning rate computed by the scheduler, \"\n"
          ]
        },
        {
          "output_type": "display_data",
          "data": {
            "text/plain": [
              "<IPython.core.display.HTML object>"
            ],
            "text/html": [
              "\n",
              "<style>\n",
              "    /* Turns off some styling */\n",
              "    progress {\n",
              "        /* gets rid of default border in Firefox and Opera. */\n",
              "        border: none;\n",
              "        /* Needs to be in here for Safari polyfill so background images work as expected. */\n",
              "        background-size: auto;\n",
              "    }\n",
              "    progress:not([value]), progress:not([value])::-webkit-progress-bar {\n",
              "        background: repeating-linear-gradient(45deg, #7e7e7e, #7e7e7e 10px, #5c5c5c 10px, #5c5c5c 20px);\n",
              "    }\n",
              "    .progress-bar-interrupted, .progress-bar-interrupted::-webkit-progress-bar {\n",
              "        background: #F44336;\n",
              "    }\n",
              "</style>\n"
            ]
          },
          "metadata": {}
        },
        {
          "output_type": "display_data",
          "data": {
            "text/plain": [
              "<IPython.core.display.HTML object>"
            ],
            "text/html": [
              "\n",
              "    <div>\n",
              "      <progress value='3' class='' max='3' style='width:300px; height:20px; vertical-align: middle;'></progress>\n",
              "      100.00% [3/3 00:02&lt;00:00]\n",
              "    </div>\n",
              "    "
            ]
          },
          "metadata": {}
        },
        {
          "output_type": "stream",
          "name": "stderr",
          "text": [
            "/usr/local/lib/python3.10/dist-packages/torch/optim/lr_scheduler.py:261: UserWarning: To get the last learning rate computed by the scheduler, please use `get_last_lr()`.\n",
            "  warnings.warn(\"To get the last learning rate computed by the scheduler, \"\n"
          ]
        },
        {
          "output_type": "display_data",
          "data": {
            "text/plain": [
              "<IPython.core.display.HTML object>"
            ],
            "text/html": [
              "\n",
              "<style>\n",
              "    /* Turns off some styling */\n",
              "    progress {\n",
              "        /* gets rid of default border in Firefox and Opera. */\n",
              "        border: none;\n",
              "        /* Needs to be in here for Safari polyfill so background images work as expected. */\n",
              "        background-size: auto;\n",
              "    }\n",
              "    progress:not([value]), progress:not([value])::-webkit-progress-bar {\n",
              "        background: repeating-linear-gradient(45deg, #7e7e7e, #7e7e7e 10px, #5c5c5c 10px, #5c5c5c 20px);\n",
              "    }\n",
              "    .progress-bar-interrupted, .progress-bar-interrupted::-webkit-progress-bar {\n",
              "        background: #F44336;\n",
              "    }\n",
              "</style>\n"
            ]
          },
          "metadata": {}
        },
        {
          "output_type": "display_data",
          "data": {
            "text/plain": [
              "<IPython.core.display.HTML object>"
            ],
            "text/html": [
              "\n",
              "    <div>\n",
              "      <progress value='3' class='' max='3' style='width:300px; height:20px; vertical-align: middle;'></progress>\n",
              "      100.00% [3/3 00:02&lt;00:00]\n",
              "    </div>\n",
              "    "
            ]
          },
          "metadata": {}
        },
        {
          "output_type": "stream",
          "name": "stderr",
          "text": [
            "/usr/local/lib/python3.10/dist-packages/torch/optim/lr_scheduler.py:261: UserWarning: To get the last learning rate computed by the scheduler, please use `get_last_lr()`.\n",
            "  warnings.warn(\"To get the last learning rate computed by the scheduler, \"\n"
          ]
        },
        {
          "output_type": "display_data",
          "data": {
            "text/plain": [
              "<IPython.core.display.HTML object>"
            ],
            "text/html": [
              "\n",
              "<style>\n",
              "    /* Turns off some styling */\n",
              "    progress {\n",
              "        /* gets rid of default border in Firefox and Opera. */\n",
              "        border: none;\n",
              "        /* Needs to be in here for Safari polyfill so background images work as expected. */\n",
              "        background-size: auto;\n",
              "    }\n",
              "    progress:not([value]), progress:not([value])::-webkit-progress-bar {\n",
              "        background: repeating-linear-gradient(45deg, #7e7e7e, #7e7e7e 10px, #5c5c5c 10px, #5c5c5c 20px);\n",
              "    }\n",
              "    .progress-bar-interrupted, .progress-bar-interrupted::-webkit-progress-bar {\n",
              "        background: #F44336;\n",
              "    }\n",
              "</style>\n"
            ]
          },
          "metadata": {}
        },
        {
          "output_type": "display_data",
          "data": {
            "text/plain": [
              "<IPython.core.display.HTML object>"
            ],
            "text/html": [
              "\n",
              "    <div>\n",
              "      <progress value='3' class='' max='3' style='width:300px; height:20px; vertical-align: middle;'></progress>\n",
              "      100.00% [3/3 00:02&lt;00:00]\n",
              "    </div>\n",
              "    "
            ]
          },
          "metadata": {}
        },
        {
          "output_type": "stream",
          "name": "stderr",
          "text": [
            "/usr/local/lib/python3.10/dist-packages/torch/optim/lr_scheduler.py:261: UserWarning: To get the last learning rate computed by the scheduler, please use `get_last_lr()`.\n",
            "  warnings.warn(\"To get the last learning rate computed by the scheduler, \"\n"
          ]
        },
        {
          "output_type": "display_data",
          "data": {
            "text/plain": [
              "<IPython.core.display.HTML object>"
            ],
            "text/html": [
              "\n",
              "<style>\n",
              "    /* Turns off some styling */\n",
              "    progress {\n",
              "        /* gets rid of default border in Firefox and Opera. */\n",
              "        border: none;\n",
              "        /* Needs to be in here for Safari polyfill so background images work as expected. */\n",
              "        background-size: auto;\n",
              "    }\n",
              "    progress:not([value]), progress:not([value])::-webkit-progress-bar {\n",
              "        background: repeating-linear-gradient(45deg, #7e7e7e, #7e7e7e 10px, #5c5c5c 10px, #5c5c5c 20px);\n",
              "    }\n",
              "    .progress-bar-interrupted, .progress-bar-interrupted::-webkit-progress-bar {\n",
              "        background: #F44336;\n",
              "    }\n",
              "</style>\n"
            ]
          },
          "metadata": {}
        },
        {
          "output_type": "display_data",
          "data": {
            "text/plain": [
              "<IPython.core.display.HTML object>"
            ],
            "text/html": [
              "\n",
              "    <div>\n",
              "      <progress value='3' class='' max='3' style='width:300px; height:20px; vertical-align: middle;'></progress>\n",
              "      100.00% [3/3 00:02&lt;00:00]\n",
              "    </div>\n",
              "    "
            ]
          },
          "metadata": {}
        },
        {
          "output_type": "stream",
          "name": "stderr",
          "text": [
            "/usr/local/lib/python3.10/dist-packages/torch/optim/lr_scheduler.py:261: UserWarning: To get the last learning rate computed by the scheduler, please use `get_last_lr()`.\n",
            "  warnings.warn(\"To get the last learning rate computed by the scheduler, \"\n"
          ]
        },
        {
          "output_type": "display_data",
          "data": {
            "text/plain": [
              "<IPython.core.display.HTML object>"
            ],
            "text/html": [
              "\n",
              "<style>\n",
              "    /* Turns off some styling */\n",
              "    progress {\n",
              "        /* gets rid of default border in Firefox and Opera. */\n",
              "        border: none;\n",
              "        /* Needs to be in here for Safari polyfill so background images work as expected. */\n",
              "        background-size: auto;\n",
              "    }\n",
              "    progress:not([value]), progress:not([value])::-webkit-progress-bar {\n",
              "        background: repeating-linear-gradient(45deg, #7e7e7e, #7e7e7e 10px, #5c5c5c 10px, #5c5c5c 20px);\n",
              "    }\n",
              "    .progress-bar-interrupted, .progress-bar-interrupted::-webkit-progress-bar {\n",
              "        background: #F44336;\n",
              "    }\n",
              "</style>\n"
            ]
          },
          "metadata": {}
        },
        {
          "output_type": "display_data",
          "data": {
            "text/plain": [
              "<IPython.core.display.HTML object>"
            ],
            "text/html": [
              "\n",
              "    <div>\n",
              "      <progress value='3' class='' max='3' style='width:300px; height:20px; vertical-align: middle;'></progress>\n",
              "      100.00% [3/3 00:02&lt;00:00]\n",
              "    </div>\n",
              "    "
            ]
          },
          "metadata": {}
        },
        {
          "output_type": "stream",
          "name": "stderr",
          "text": [
            "/usr/local/lib/python3.10/dist-packages/torch/optim/lr_scheduler.py:261: UserWarning: To get the last learning rate computed by the scheduler, please use `get_last_lr()`.\n",
            "  warnings.warn(\"To get the last learning rate computed by the scheduler, \"\n"
          ]
        },
        {
          "output_type": "display_data",
          "data": {
            "text/plain": [
              "<IPython.core.display.HTML object>"
            ],
            "text/html": [
              "\n",
              "<style>\n",
              "    /* Turns off some styling */\n",
              "    progress {\n",
              "        /* gets rid of default border in Firefox and Opera. */\n",
              "        border: none;\n",
              "        /* Needs to be in here for Safari polyfill so background images work as expected. */\n",
              "        background-size: auto;\n",
              "    }\n",
              "    progress:not([value]), progress:not([value])::-webkit-progress-bar {\n",
              "        background: repeating-linear-gradient(45deg, #7e7e7e, #7e7e7e 10px, #5c5c5c 10px, #5c5c5c 20px);\n",
              "    }\n",
              "    .progress-bar-interrupted, .progress-bar-interrupted::-webkit-progress-bar {\n",
              "        background: #F44336;\n",
              "    }\n",
              "</style>\n"
            ]
          },
          "metadata": {}
        },
        {
          "output_type": "display_data",
          "data": {
            "text/plain": [
              "<IPython.core.display.HTML object>"
            ],
            "text/html": [
              "\n",
              "    <div>\n",
              "      <progress value='3' class='' max='3' style='width:300px; height:20px; vertical-align: middle;'></progress>\n",
              "      100.00% [3/3 00:02&lt;00:00]\n",
              "    </div>\n",
              "    "
            ]
          },
          "metadata": {}
        },
        {
          "output_type": "stream",
          "name": "stderr",
          "text": [
            "/usr/local/lib/python3.10/dist-packages/torch/optim/lr_scheduler.py:261: UserWarning: To get the last learning rate computed by the scheduler, please use `get_last_lr()`.\n",
            "  warnings.warn(\"To get the last learning rate computed by the scheduler, \"\n"
          ]
        },
        {
          "output_type": "display_data",
          "data": {
            "text/plain": [
              "<IPython.core.display.HTML object>"
            ],
            "text/html": [
              "\n",
              "<style>\n",
              "    /* Turns off some styling */\n",
              "    progress {\n",
              "        /* gets rid of default border in Firefox and Opera. */\n",
              "        border: none;\n",
              "        /* Needs to be in here for Safari polyfill so background images work as expected. */\n",
              "        background-size: auto;\n",
              "    }\n",
              "    progress:not([value]), progress:not([value])::-webkit-progress-bar {\n",
              "        background: repeating-linear-gradient(45deg, #7e7e7e, #7e7e7e 10px, #5c5c5c 10px, #5c5c5c 20px);\n",
              "    }\n",
              "    .progress-bar-interrupted, .progress-bar-interrupted::-webkit-progress-bar {\n",
              "        background: #F44336;\n",
              "    }\n",
              "</style>\n"
            ]
          },
          "metadata": {}
        },
        {
          "output_type": "display_data",
          "data": {
            "text/plain": [
              "<IPython.core.display.HTML object>"
            ],
            "text/html": [
              "\n",
              "    <div>\n",
              "      <progress value='3' class='' max='3' style='width:300px; height:20px; vertical-align: middle;'></progress>\n",
              "      100.00% [3/3 00:02&lt;00:00]\n",
              "    </div>\n",
              "    "
            ]
          },
          "metadata": {}
        },
        {
          "output_type": "stream",
          "name": "stderr",
          "text": [
            "/usr/local/lib/python3.10/dist-packages/torch/optim/lr_scheduler.py:261: UserWarning: To get the last learning rate computed by the scheduler, please use `get_last_lr()`.\n",
            "  warnings.warn(\"To get the last learning rate computed by the scheduler, \"\n"
          ]
        },
        {
          "output_type": "display_data",
          "data": {
            "text/plain": [
              "<IPython.core.display.HTML object>"
            ],
            "text/html": [
              "\n",
              "<style>\n",
              "    /* Turns off some styling */\n",
              "    progress {\n",
              "        /* gets rid of default border in Firefox and Opera. */\n",
              "        border: none;\n",
              "        /* Needs to be in here for Safari polyfill so background images work as expected. */\n",
              "        background-size: auto;\n",
              "    }\n",
              "    progress:not([value]), progress:not([value])::-webkit-progress-bar {\n",
              "        background: repeating-linear-gradient(45deg, #7e7e7e, #7e7e7e 10px, #5c5c5c 10px, #5c5c5c 20px);\n",
              "    }\n",
              "    .progress-bar-interrupted, .progress-bar-interrupted::-webkit-progress-bar {\n",
              "        background: #F44336;\n",
              "    }\n",
              "</style>\n"
            ]
          },
          "metadata": {}
        },
        {
          "output_type": "display_data",
          "data": {
            "text/plain": [
              "<IPython.core.display.HTML object>"
            ],
            "text/html": [
              "\n",
              "    <div>\n",
              "      <progress value='3' class='' max='3' style='width:300px; height:20px; vertical-align: middle;'></progress>\n",
              "      100.00% [3/3 00:02&lt;00:00]\n",
              "    </div>\n",
              "    "
            ]
          },
          "metadata": {}
        },
        {
          "output_type": "stream",
          "name": "stderr",
          "text": [
            "/usr/local/lib/python3.10/dist-packages/torch/optim/lr_scheduler.py:261: UserWarning: To get the last learning rate computed by the scheduler, please use `get_last_lr()`.\n",
            "  warnings.warn(\"To get the last learning rate computed by the scheduler, \"\n"
          ]
        },
        {
          "output_type": "display_data",
          "data": {
            "text/plain": [
              "<IPython.core.display.HTML object>"
            ],
            "text/html": [
              "\n",
              "<style>\n",
              "    /* Turns off some styling */\n",
              "    progress {\n",
              "        /* gets rid of default border in Firefox and Opera. */\n",
              "        border: none;\n",
              "        /* Needs to be in here for Safari polyfill so background images work as expected. */\n",
              "        background-size: auto;\n",
              "    }\n",
              "    progress:not([value]), progress:not([value])::-webkit-progress-bar {\n",
              "        background: repeating-linear-gradient(45deg, #7e7e7e, #7e7e7e 10px, #5c5c5c 10px, #5c5c5c 20px);\n",
              "    }\n",
              "    .progress-bar-interrupted, .progress-bar-interrupted::-webkit-progress-bar {\n",
              "        background: #F44336;\n",
              "    }\n",
              "</style>\n"
            ]
          },
          "metadata": {}
        },
        {
          "output_type": "display_data",
          "data": {
            "text/plain": [
              "<IPython.core.display.HTML object>"
            ],
            "text/html": [
              "\n",
              "    <div>\n",
              "      <progress value='3' class='' max='3' style='width:300px; height:20px; vertical-align: middle;'></progress>\n",
              "      100.00% [3/3 00:02&lt;00:00]\n",
              "    </div>\n",
              "    "
            ]
          },
          "metadata": {}
        },
        {
          "output_type": "stream",
          "name": "stderr",
          "text": [
            "/usr/local/lib/python3.10/dist-packages/torch/optim/lr_scheduler.py:261: UserWarning: To get the last learning rate computed by the scheduler, please use `get_last_lr()`.\n",
            "  warnings.warn(\"To get the last learning rate computed by the scheduler, \"\n"
          ]
        },
        {
          "output_type": "display_data",
          "data": {
            "text/plain": [
              "<IPython.core.display.HTML object>"
            ],
            "text/html": [
              "\n",
              "<style>\n",
              "    /* Turns off some styling */\n",
              "    progress {\n",
              "        /* gets rid of default border in Firefox and Opera. */\n",
              "        border: none;\n",
              "        /* Needs to be in here for Safari polyfill so background images work as expected. */\n",
              "        background-size: auto;\n",
              "    }\n",
              "    progress:not([value]), progress:not([value])::-webkit-progress-bar {\n",
              "        background: repeating-linear-gradient(45deg, #7e7e7e, #7e7e7e 10px, #5c5c5c 10px, #5c5c5c 20px);\n",
              "    }\n",
              "    .progress-bar-interrupted, .progress-bar-interrupted::-webkit-progress-bar {\n",
              "        background: #F44336;\n",
              "    }\n",
              "</style>\n"
            ]
          },
          "metadata": {}
        },
        {
          "output_type": "display_data",
          "data": {
            "text/plain": [
              "<IPython.core.display.HTML object>"
            ],
            "text/html": [
              "\n",
              "    <div>\n",
              "      <progress value='3' class='' max='3' style='width:300px; height:20px; vertical-align: middle;'></progress>\n",
              "      100.00% [3/3 00:02&lt;00:00]\n",
              "    </div>\n",
              "    "
            ]
          },
          "metadata": {}
        },
        {
          "output_type": "stream",
          "name": "stderr",
          "text": [
            "/usr/local/lib/python3.10/dist-packages/torch/optim/lr_scheduler.py:261: UserWarning: To get the last learning rate computed by the scheduler, please use `get_last_lr()`.\n",
            "  warnings.warn(\"To get the last learning rate computed by the scheduler, \"\n"
          ]
        },
        {
          "output_type": "display_data",
          "data": {
            "text/plain": [
              "<IPython.core.display.HTML object>"
            ],
            "text/html": [
              "\n",
              "<style>\n",
              "    /* Turns off some styling */\n",
              "    progress {\n",
              "        /* gets rid of default border in Firefox and Opera. */\n",
              "        border: none;\n",
              "        /* Needs to be in here for Safari polyfill so background images work as expected. */\n",
              "        background-size: auto;\n",
              "    }\n",
              "    progress:not([value]), progress:not([value])::-webkit-progress-bar {\n",
              "        background: repeating-linear-gradient(45deg, #7e7e7e, #7e7e7e 10px, #5c5c5c 10px, #5c5c5c 20px);\n",
              "    }\n",
              "    .progress-bar-interrupted, .progress-bar-interrupted::-webkit-progress-bar {\n",
              "        background: #F44336;\n",
              "    }\n",
              "</style>\n"
            ]
          },
          "metadata": {}
        },
        {
          "output_type": "display_data",
          "data": {
            "text/plain": [
              "<IPython.core.display.HTML object>"
            ],
            "text/html": [
              "\n",
              "    <div>\n",
              "      <progress value='3' class='' max='3' style='width:300px; height:20px; vertical-align: middle;'></progress>\n",
              "      100.00% [3/3 00:02&lt;00:00]\n",
              "    </div>\n",
              "    "
            ]
          },
          "metadata": {}
        },
        {
          "output_type": "stream",
          "name": "stderr",
          "text": [
            "/usr/local/lib/python3.10/dist-packages/torch/optim/lr_scheduler.py:261: UserWarning: To get the last learning rate computed by the scheduler, please use `get_last_lr()`.\n",
            "  warnings.warn(\"To get the last learning rate computed by the scheduler, \"\n"
          ]
        },
        {
          "output_type": "display_data",
          "data": {
            "text/plain": [
              "<IPython.core.display.HTML object>"
            ],
            "text/html": [
              "\n",
              "<style>\n",
              "    /* Turns off some styling */\n",
              "    progress {\n",
              "        /* gets rid of default border in Firefox and Opera. */\n",
              "        border: none;\n",
              "        /* Needs to be in here for Safari polyfill so background images work as expected. */\n",
              "        background-size: auto;\n",
              "    }\n",
              "    progress:not([value]), progress:not([value])::-webkit-progress-bar {\n",
              "        background: repeating-linear-gradient(45deg, #7e7e7e, #7e7e7e 10px, #5c5c5c 10px, #5c5c5c 20px);\n",
              "    }\n",
              "    .progress-bar-interrupted, .progress-bar-interrupted::-webkit-progress-bar {\n",
              "        background: #F44336;\n",
              "    }\n",
              "</style>\n"
            ]
          },
          "metadata": {}
        },
        {
          "output_type": "display_data",
          "data": {
            "text/plain": [
              "<IPython.core.display.HTML object>"
            ],
            "text/html": [
              "\n",
              "    <div>\n",
              "      <progress value='3' class='' max='3' style='width:300px; height:20px; vertical-align: middle;'></progress>\n",
              "      100.00% [3/3 00:02&lt;00:00]\n",
              "    </div>\n",
              "    "
            ]
          },
          "metadata": {}
        },
        {
          "output_type": "stream",
          "name": "stderr",
          "text": [
            "/usr/local/lib/python3.10/dist-packages/torch/optim/lr_scheduler.py:261: UserWarning: To get the last learning rate computed by the scheduler, please use `get_last_lr()`.\n",
            "  warnings.warn(\"To get the last learning rate computed by the scheduler, \"\n"
          ]
        },
        {
          "output_type": "execute_result",
          "data": {
            "text/plain": [
              "(570, 0.2459853463953263)"
            ]
          },
          "metadata": {},
          "execution_count": 21
        }
      ],
      "source": [
        "cl_learner.fit(epochs=30,\n",
        "            lr=9e-5,\n",
        "            validate=True,\n",
        "            schedule_type=\"warmup_cosine\",\n",
        "            optimizer_type=\"adamw\")"
      ]
    },
    {
      "cell_type": "code",
      "execution_count": null,
      "metadata": {
        "id": "fhZW2OhFEhzp",
        "colab": {
          "base_uri": "https://localhost:8080/",
          "height": 106
        },
        "outputId": "bcfb886f-c920-4f6e-85ad-c654a16159b7"
      },
      "outputs": [
        {
          "output_type": "display_data",
          "data": {
            "text/plain": [
              "<IPython.core.display.HTML object>"
            ],
            "text/html": [
              "\n",
              "<style>\n",
              "    /* Turns off some styling */\n",
              "    progress {\n",
              "        /* gets rid of default border in Firefox and Opera. */\n",
              "        border: none;\n",
              "        /* Needs to be in here for Safari polyfill so background images work as expected. */\n",
              "        background-size: auto;\n",
              "    }\n",
              "    progress:not([value]), progress:not([value])::-webkit-progress-bar {\n",
              "        background: repeating-linear-gradient(45deg, #7e7e7e, #7e7e7e 10px, #5c5c5c 10px, #5c5c5c 20px);\n",
              "    }\n",
              "    .progress-bar-interrupted, .progress-bar-interrupted::-webkit-progress-bar {\n",
              "        background: #F44336;\n",
              "    }\n",
              "</style>\n"
            ]
          },
          "metadata": {}
        },
        {
          "output_type": "display_data",
          "data": {
            "text/plain": [
              "<IPython.core.display.HTML object>"
            ],
            "text/html": [
              "\n",
              "    <div>\n",
              "      <progress value='3' class='' max='3' style='width:300px; height:20px; vertical-align: middle;'></progress>\n",
              "      100.00% [3/3 00:02&lt;00:00]\n",
              "    </div>\n",
              "    "
            ]
          },
          "metadata": {}
        },
        {
          "output_type": "execute_result",
          "data": {
            "text/plain": [
              "{'loss': 0.8584385911623637,\n",
              " 'return_preds': False,\n",
              " 'fbeta': 0.7152089476585388,\n",
              " 'roc_auc': 0.8241206030150754}"
            ]
          },
          "metadata": {},
          "execution_count": 22
        }
      ],
      "source": [
        "cl_learner.validate()"
      ]
    },
    {
      "cell_type": "markdown",
      "metadata": {
        "id": "VpctTLbyEhzq"
      },
      "source": [
        "### Prédictions"
      ]
    },
    {
      "cell_type": "code",
      "execution_count": null,
      "metadata": {
        "id": "qI9gh4l5Ehzq"
      },
      "outputs": [],
      "source": [
        "cl_learner.save_model()"
      ]
    },
    {
      "cell_type": "code",
      "source": [
        "comments = [\n",
        "    '''Le Burkina compte plus d’une soixantaine d’ethnies c’est pas seulement avec les mossis que les peuls rencontrent des soucis. Oui c’est vrai que les peuls des milieux ruraux ce sont trop mis a l’écart des autres communautés et font difficilement confiance au autres toujours a s’autostigmatiser''',\n",
        "    '''Ah ! Ceci ressemble encore à des complaintes qui ne servent à rien . Les affaires sont les affaires. S’ils ont réfusé de vendre leurs armes , c’est que c’etait pas de bonnes affaires pour eux. C’est tout. Maintenant si vous voulez qu’on vende des armes à vos conditions alors que vous n’en produisez pas et que ces partenaires ne sont pas en obligation de se plier à ces conditions, il n’y’a pas à se plaindre. Que dire alors si des partenaires reclamaient que leurs armes ne soient pas payées en dévises courantes mais plutôt en lingots ou mines entiers ? Des situations comme Karma, Yirgou etc ne favorisent pas non plus la vente d’arme à nos pays car certains ne voudraient pas se retrouver embarqués . C’est ce que certains font semblant de ne pas savoir. Or nous savons qu’il faut l’autorisation des instances politiques pour des ventes d’armes dans certains pays\n",
        "  Aucun de ces \"partenaires\" n’a pour priorité la satisfaction des réseaux sociaux et de la rue. Donc au lieu de continuer à se plaindre à chaque occasion, chose qui perdra à force de répétition son tranchant, mieux vaudra avancer dans le réalisme et loin de l’influence des tapages de réseaux sociaux.\n",
        "''',\n",
        "    '''SOYEZ DIGNE ET AYEZ DE L’HONNEUR MR KYELEM APRES TOUT CE QUE VOUS AVEZ FAIT COMME TAPAGE MEDIATIQUE POUR ETRE NOMME.\n",
        "La composition du gouvernement vient de sortir. Le vin est tiré et il faut le boire mais à quel prix surtout pour le PM Mr Kyelem.\n",
        "Nous avons deux observations à faire en ce qui concerne les principes et idéaux  prônés par Mr Kyelem :\n",
        "1. Voilà ce que disait Mr Kyelem lors d’un débat public sur Mr Bassolma qu’il a accepté dans son gouvernement aujourdhui : « « « « il y avait une différence de style et de fonds entre Bassolma Bazié et Tolé Sagnon. Tolé Sagnon me semblait beaucoup plus convaincu de ce qu’ íl faisait et disait que par rapport à Bssolma Bazié.\n",
        "Bassolma Bazié est quelqu ‘un, n’est-ce pas, qui était excité etc et ces gens-là …. cad quand vous le voyez dans les interviews etc il semblait quelqu’un d’excité, pas stable etc et moi je me méfie tout de suite de ces gens-là car ça traduit une certaine immaturité psychologique et intellectuelle……..….Quand on est mure on est calme, posé etc on est convaincu de ce que l’on fait. Vous avez vu Tolé Sagnon ici. Tolé Sagnon par exemple exposait ses problèmes calmement mais fermement. C’est comme un certain syndicaliste qui était Nanéma qui dirigeait le SYNTSHA il était aussi calme mais ferme………………………..Ça ne m’a jamais surpris, je n’ai jamais fait confiance à des gens comme ça (Bassolma Bazié)  qui sont capable de tout du pire comme du meilleur, donc moi ça ne m’a pas surpris…. » » » ».\n",
        "Après ces graves insultes publiques faites par  Mr Kyelem sur Bassolma Bazié, voilà que Mr Bassolma est dans le gouvernement du PM Kyelem. D’abord insulter publiquement quelqu’un est un manque de reste pour la personne insultée et aussi à soi-même.\n",
        "Comment va-t-il le regarder en face maintenant, ce Bassolma Bazié qu’ íl a qualifié d’excité, de pas stable, immature psychologiquement et intellectuellement, ….je me méfie de lui (Bassolma). Comment Mer Kyelem travaillera-t-il avec Mr Bassolma dans ces conditions ?\n",
        "Quand on a un minimum d’honneur, de dignité, quand on a foi en ses idéaux et quand on est conséquent envers soi-même, alors Mr Kyelem devrait démissionner de son poste de PM et rendre le tablier.\n",
        "2. Reconduction de Mme Olivia Rouamba\n",
        "Mme Roumba est l’antipode des idées sankaristes déjà de par ces frasques à New York l’été dernier. Donc Olivia est contraire même aux idéaux prônes par Mr Kyelem.\n",
        "Au regard de ses deux éléments si Mr Kyelem avait un minimum d’honneur, de dignité, de foi, il devrait démissionner immédiatement et surtout que Mr Bassolma Bazié a été élevé au poste de Ministre d’Etat apparait comme un désaveu aux idéaux de Mr Kyelem\n",
        "Que pouvait-on attendre d’un débateur public comme Mr Kyelem ? ''',\n",
        "]"
      ],
      "metadata": {
        "id": "ZqI9lPmIzRFj"
      },
      "execution_count": null,
      "outputs": []
    },
    {
      "cell_type": "code",
      "source": [
        "len(comments)"
      ],
      "metadata": {
        "colab": {
          "base_uri": "https://localhost:8080/"
        },
        "id": "vXmwUzWbCuLS",
        "outputId": "ebd9b2ba-58fd-4899-d0b8-ab52720c5c91"
      },
      "execution_count": null,
      "outputs": [
        {
          "output_type": "execute_result",
          "data": {
            "text/plain": [
              "3"
            ]
          },
          "metadata": {},
          "execution_count": 29
        }
      ]
    },
    {
      "cell_type": "code",
      "source": [
        "for comment in comments:\n",
        "  prediction = cl_learner.predict_batch(comment)[0]\n",
        "  print(prediction)"
      ],
      "metadata": {
        "id": "0t5fRmjFO8pw",
        "colab": {
          "base_uri": "https://localhost:8080/"
        },
        "outputId": "4150f6e0-3887-4aa9-8776-0b18b08596c2"
      },
      "execution_count": null,
      "outputs": [
        {
          "output_type": "stream",
          "name": "stdout",
          "text": [
            "[('Insecurité', 0.9435347318649292), ('Gouvernance politique', 0.1383087933063507), ('Gouvernance économique', 0.007052947301417589), ('Cohésion Sociale', 0.00447357352823019)]\n",
            "[('Insecurité', 0.9301204085350037), ('Gouvernance politique', 0.1903814673423767), ('Gouvernance économique', 0.006377349141985178), ('Cohésion Sociale', 0.004145835991948843)]\n",
            "[('Insecurité', 0.9376828074455261), ('Gouvernance politique', 0.18761494755744934), ('Gouvernance économique', 0.005737915635108948), ('Cohésion Sociale', 0.004278078675270081)]\n"
          ]
        }
      ]
    }
  ],
  "metadata": {
    "kernelspec": {
      "display_name": "Python 3",
      "name": "python3"
    },
    "language_info": {
      "codemirror_mode": {
        "name": "ipython",
        "version": 3
      },
      "file_extension": ".py",
      "mimetype": "text/x-python",
      "name": "python",
      "nbconvert_exporter": "python",
      "pygments_lexer": "ipython3",
      "version": "3.7.9"
    },
    "colab": {
      "provenance": [],
      "gpuType": "T4"
    },
    "accelerator": "GPU",
    "widgets": {
      "application/vnd.jupyter.widget-state+json": {
        "7afd43da9199443f987f3e396863dd5b": {
          "model_module": "@jupyter-widgets/controls",
          "model_name": "HBoxModel",
          "model_module_version": "1.5.0",
          "state": {
            "_dom_classes": [],
            "_model_module": "@jupyter-widgets/controls",
            "_model_module_version": "1.5.0",
            "_model_name": "HBoxModel",
            "_view_count": null,
            "_view_module": "@jupyter-widgets/controls",
            "_view_module_version": "1.5.0",
            "_view_name": "HBoxView",
            "box_style": "",
            "children": [
              "IPY_MODEL_70c53926b74b4d2493db4c1e3b3dfb1c",
              "IPY_MODEL_21e2d0308846415caf57b426a05dd61d",
              "IPY_MODEL_1b7096d104b44925b0d09ca409703635"
            ],
            "layout": "IPY_MODEL_8cffd6d8bd764305b12989a30bc21199"
          }
        },
        "70c53926b74b4d2493db4c1e3b3dfb1c": {
          "model_module": "@jupyter-widgets/controls",
          "model_name": "HTMLModel",
          "model_module_version": "1.5.0",
          "state": {
            "_dom_classes": [],
            "_model_module": "@jupyter-widgets/controls",
            "_model_module_version": "1.5.0",
            "_model_name": "HTMLModel",
            "_view_count": null,
            "_view_module": "@jupyter-widgets/controls",
            "_view_module_version": "1.5.0",
            "_view_name": "HTMLView",
            "description": "",
            "description_tooltip": null,
            "layout": "IPY_MODEL_4d987b55b37e4e95b3d927a681ff55b6",
            "placeholder": "​",
            "style": "IPY_MODEL_11b32ae6fe55420d85795ff2ab46bf6f",
            "value": ""
          }
        },
        "21e2d0308846415caf57b426a05dd61d": {
          "model_module": "@jupyter-widgets/controls",
          "model_name": "FloatProgressModel",
          "model_module_version": "1.5.0",
          "state": {
            "_dom_classes": [],
            "_model_module": "@jupyter-widgets/controls",
            "_model_module_version": "1.5.0",
            "_model_name": "FloatProgressModel",
            "_view_count": null,
            "_view_module": "@jupyter-widgets/controls",
            "_view_module_version": "1.5.0",
            "_view_name": "ProgressView",
            "bar_style": "success",
            "description": "",
            "description_tooltip": null,
            "layout": "IPY_MODEL_a0141c98a6a648e6b29e28526ee3dfed",
            "max": 1,
            "min": 0,
            "orientation": "horizontal",
            "style": "IPY_MODEL_b66e823ee25a460cad9249258b234957",
            "value": 0
          }
        },
        "1b7096d104b44925b0d09ca409703635": {
          "model_module": "@jupyter-widgets/controls",
          "model_name": "HTMLModel",
          "model_module_version": "1.5.0",
          "state": {
            "_dom_classes": [],
            "_model_module": "@jupyter-widgets/controls",
            "_model_module_version": "1.5.0",
            "_model_name": "HTMLModel",
            "_view_count": null,
            "_view_module": "@jupyter-widgets/controls",
            "_view_module_version": "1.5.0",
            "_view_name": "HTMLView",
            "description": "",
            "description_tooltip": null,
            "layout": "IPY_MODEL_acab9e61a8a34e4d9b14f32a70cd6be0",
            "placeholder": "​",
            "style": "IPY_MODEL_13a876d8d97b495ab576253b35a79aa9",
            "value": " 0/0 [00:00&lt;?, ?it/s]"
          }
        },
        "8cffd6d8bd764305b12989a30bc21199": {
          "model_module": "@jupyter-widgets/base",
          "model_name": "LayoutModel",
          "model_module_version": "1.2.0",
          "state": {
            "_model_module": "@jupyter-widgets/base",
            "_model_module_version": "1.2.0",
            "_model_name": "LayoutModel",
            "_view_count": null,
            "_view_module": "@jupyter-widgets/base",
            "_view_module_version": "1.2.0",
            "_view_name": "LayoutView",
            "align_content": null,
            "align_items": null,
            "align_self": null,
            "border": null,
            "bottom": null,
            "display": null,
            "flex": null,
            "flex_flow": null,
            "grid_area": null,
            "grid_auto_columns": null,
            "grid_auto_flow": null,
            "grid_auto_rows": null,
            "grid_column": null,
            "grid_gap": null,
            "grid_row": null,
            "grid_template_areas": null,
            "grid_template_columns": null,
            "grid_template_rows": null,
            "height": null,
            "justify_content": null,
            "justify_items": null,
            "left": null,
            "margin": null,
            "max_height": null,
            "max_width": null,
            "min_height": null,
            "min_width": null,
            "object_fit": null,
            "object_position": null,
            "order": null,
            "overflow": null,
            "overflow_x": null,
            "overflow_y": null,
            "padding": null,
            "right": null,
            "top": null,
            "visibility": null,
            "width": null
          }
        },
        "4d987b55b37e4e95b3d927a681ff55b6": {
          "model_module": "@jupyter-widgets/base",
          "model_name": "LayoutModel",
          "model_module_version": "1.2.0",
          "state": {
            "_model_module": "@jupyter-widgets/base",
            "_model_module_version": "1.2.0",
            "_model_name": "LayoutModel",
            "_view_count": null,
            "_view_module": "@jupyter-widgets/base",
            "_view_module_version": "1.2.0",
            "_view_name": "LayoutView",
            "align_content": null,
            "align_items": null,
            "align_self": null,
            "border": null,
            "bottom": null,
            "display": null,
            "flex": null,
            "flex_flow": null,
            "grid_area": null,
            "grid_auto_columns": null,
            "grid_auto_flow": null,
            "grid_auto_rows": null,
            "grid_column": null,
            "grid_gap": null,
            "grid_row": null,
            "grid_template_areas": null,
            "grid_template_columns": null,
            "grid_template_rows": null,
            "height": null,
            "justify_content": null,
            "justify_items": null,
            "left": null,
            "margin": null,
            "max_height": null,
            "max_width": null,
            "min_height": null,
            "min_width": null,
            "object_fit": null,
            "object_position": null,
            "order": null,
            "overflow": null,
            "overflow_x": null,
            "overflow_y": null,
            "padding": null,
            "right": null,
            "top": null,
            "visibility": null,
            "width": null
          }
        },
        "11b32ae6fe55420d85795ff2ab46bf6f": {
          "model_module": "@jupyter-widgets/controls",
          "model_name": "DescriptionStyleModel",
          "model_module_version": "1.5.0",
          "state": {
            "_model_module": "@jupyter-widgets/controls",
            "_model_module_version": "1.5.0",
            "_model_name": "DescriptionStyleModel",
            "_view_count": null,
            "_view_module": "@jupyter-widgets/base",
            "_view_module_version": "1.2.0",
            "_view_name": "StyleView",
            "description_width": ""
          }
        },
        "a0141c98a6a648e6b29e28526ee3dfed": {
          "model_module": "@jupyter-widgets/base",
          "model_name": "LayoutModel",
          "model_module_version": "1.2.0",
          "state": {
            "_model_module": "@jupyter-widgets/base",
            "_model_module_version": "1.2.0",
            "_model_name": "LayoutModel",
            "_view_count": null,
            "_view_module": "@jupyter-widgets/base",
            "_view_module_version": "1.2.0",
            "_view_name": "LayoutView",
            "align_content": null,
            "align_items": null,
            "align_self": null,
            "border": null,
            "bottom": null,
            "display": null,
            "flex": null,
            "flex_flow": null,
            "grid_area": null,
            "grid_auto_columns": null,
            "grid_auto_flow": null,
            "grid_auto_rows": null,
            "grid_column": null,
            "grid_gap": null,
            "grid_row": null,
            "grid_template_areas": null,
            "grid_template_columns": null,
            "grid_template_rows": null,
            "height": null,
            "justify_content": null,
            "justify_items": null,
            "left": null,
            "margin": null,
            "max_height": null,
            "max_width": null,
            "min_height": null,
            "min_width": null,
            "object_fit": null,
            "object_position": null,
            "order": null,
            "overflow": null,
            "overflow_x": null,
            "overflow_y": null,
            "padding": null,
            "right": null,
            "top": null,
            "visibility": null,
            "width": "20px"
          }
        },
        "b66e823ee25a460cad9249258b234957": {
          "model_module": "@jupyter-widgets/controls",
          "model_name": "ProgressStyleModel",
          "model_module_version": "1.5.0",
          "state": {
            "_model_module": "@jupyter-widgets/controls",
            "_model_module_version": "1.5.0",
            "_model_name": "ProgressStyleModel",
            "_view_count": null,
            "_view_module": "@jupyter-widgets/base",
            "_view_module_version": "1.2.0",
            "_view_name": "StyleView",
            "bar_color": null,
            "description_width": ""
          }
        },
        "acab9e61a8a34e4d9b14f32a70cd6be0": {
          "model_module": "@jupyter-widgets/base",
          "model_name": "LayoutModel",
          "model_module_version": "1.2.0",
          "state": {
            "_model_module": "@jupyter-widgets/base",
            "_model_module_version": "1.2.0",
            "_model_name": "LayoutModel",
            "_view_count": null,
            "_view_module": "@jupyter-widgets/base",
            "_view_module_version": "1.2.0",
            "_view_name": "LayoutView",
            "align_content": null,
            "align_items": null,
            "align_self": null,
            "border": null,
            "bottom": null,
            "display": null,
            "flex": null,
            "flex_flow": null,
            "grid_area": null,
            "grid_auto_columns": null,
            "grid_auto_flow": null,
            "grid_auto_rows": null,
            "grid_column": null,
            "grid_gap": null,
            "grid_row": null,
            "grid_template_areas": null,
            "grid_template_columns": null,
            "grid_template_rows": null,
            "height": null,
            "justify_content": null,
            "justify_items": null,
            "left": null,
            "margin": null,
            "max_height": null,
            "max_width": null,
            "min_height": null,
            "min_width": null,
            "object_fit": null,
            "object_position": null,
            "order": null,
            "overflow": null,
            "overflow_x": null,
            "overflow_y": null,
            "padding": null,
            "right": null,
            "top": null,
            "visibility": null,
            "width": null
          }
        },
        "13a876d8d97b495ab576253b35a79aa9": {
          "model_module": "@jupyter-widgets/controls",
          "model_name": "DescriptionStyleModel",
          "model_module_version": "1.5.0",
          "state": {
            "_model_module": "@jupyter-widgets/controls",
            "_model_module_version": "1.5.0",
            "_model_name": "DescriptionStyleModel",
            "_view_count": null,
            "_view_module": "@jupyter-widgets/base",
            "_view_module_version": "1.2.0",
            "_view_name": "StyleView",
            "description_width": ""
          }
        }
      }
    }
  },
  "nbformat": 4,
  "nbformat_minor": 0
}